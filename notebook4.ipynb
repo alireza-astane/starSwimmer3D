{
 "cells": [
  {
   "cell_type": "code",
   "execution_count": 57,
   "outputs": [],
   "source": [
    "@njit\n",
    "def getOrientedAction(state,ratio,rotation,grad):\n",
    "     #TODO *ratio\n",
    "    #t=1 if state=0 and t = ratio if state = 1\n",
    "    # print(np.dot(rotation,r0.T).T,cGrad)\n",
    "    # print(np.dot(np.dot(rotation,r0.T).T,cGrad))\n",
    "\n",
    "    grad = np.array([0., 0., grad])\n",
    "    ratios = ratio + np.dot(np.dot(rotation,r0[1:].T).T,grad)\n",
    "\n",
    "    \n",
    "    t1,t2,t3,t4 = np.where(state==0,np.ones(4),ratios)\n",
    "    #print(t1,t2,t3,t4)\n",
    "    \n",
    "    sum = t1*t2*t3 + t1*t2*t4 + t1*t3*t4 + t2*t3*t4\n",
    "    #probs = np.array([t2*t3*t4/sum,t1*t3*t4/sum,t1*t2*t4/sum,t2*t3*t1/sum])\n",
    "    randomNumber = np.random.uniform(0,1,1)\n",
    "    if randomNumber <= t4*t2*t3/sum:\n",
    "        changingJoint = 0\n",
    "     #   deltat = getDeltat(t1,t2,t3,t4,t1)\n",
    "    elif(randomNumber <= (t4*t2*t1+t4*t2*t3)/sum):  \n",
    "        changingJoint = 1\n",
    "#        deltat = getDeltat(t1,t2,t3,t4,t2)\n",
    "    elif randomNumber <= (t4*t2*t1+t4*t2*t3+t4*t2*t1)/sum:\n",
    "        changingJoint = 2\n",
    "        # deltat = getDeltat(t1,t2,t3,t4,t3)\n",
    "    else:\n",
    "        changingJoint = 3\n",
    "        # deltat = getDeltat(t1,t2,t3,t4,t4)\n",
    "\n",
    "    #changingJoint = np.random.choice(np.arange(4),p=probs)\n",
    "    # action = np.concatenate((state,changingJoint.reshape((1,))),axis=0)\n",
    "    # deltat = 1 if state[changingJoint]==0 else ratio\n",
    "    return changingJoint,getDeltat2(t1,t2,t3,t4)\n",
    "\n",
    "@njit\n",
    "def doOrientedStep(Data,state,ratio,rotation,grad):\n",
    "    action,deltat = getOrientedAction(state,ratio,rotation,grad)\n",
    "    new_state = state.copy()\n",
    "    new_state[action] = 1 - new_state[action]\n",
    "    delta = Data[fromBinary(state)*4 + action][0,:]\n",
    "    rotation = Data[fromBinary(state)*4 + action][1:,:]\n",
    "    return new_state,delta,rotation,deltat"
   ],
   "metadata": {
    "collapsed": false
   },
   "id": "436a89ad26f01fcd"
  },
  {
   "cell_type": "code",
   "execution_count": 58,
   "outputs": [],
   "source": [
    "@njit\n",
    "def Orientedperturbe(Data,perturbingSteps,ratio,grad):\n",
    "    time = 0\n",
    "    pertrubingPose = np.array([0.,0.,0.])\n",
    "    perturbingRotation = np.eye(3)\n",
    "    state = np.ones(4,dtype=np.int64)\n",
    "    pertrubingPoses = np.zeros((perturbingSteps,3))\n",
    "    pertrubingTimes = np.zeros(perturbingSteps)\n",
    "\n",
    "    for t in range(perturbingSteps):\n",
    "        newState,delta,rotation,deltat = doOrientedStep(Data,state,ratio,perturbingRotation,grad)\n",
    "        state = newState\n",
    "        pertrubingPose += mul2(perturbingRotation,delta)\n",
    "        perturbingRotation = mul(rotation,perturbingRotation)\n",
    "        pertrubingPoses[t] = pertrubingPose\n",
    "        time += deltat\n",
    "        pertrubingTimes[t] = time\n",
    "\n",
    "    return pertrubingPoses,pertrubingTimes"
   ],
   "metadata": {
    "collapsed": false
   },
   "id": "939967340d2348c9"
  },
  {
   "cell_type": "code",
   "execution_count": 120,
   "outputs": [],
   "source": [
    "@njit\n",
    "def getOrientedPerturbingDiffusionCoefForRatio(Data,ratio,grad):\n",
    "    iterations = 10_00\n",
    "    perturbingSteps = 10_000\n",
    "    meanFinalPoses = np.zeros((perturbingSteps))\n",
    "    meanFinalTimes = np.zeros(perturbingSteps)\n",
    "    for iteration in range(iterations):\n",
    "        pertrubingPoses,pertrubingTimes = Orientedperturbe(Data,perturbingSteps,ratio,grad)\n",
    "        #print(np.sum(np.square(pertrubingPoses[:]),axis=1).shape,meanFinalPoses.shape)\n",
    "        meanFinalPoses += pertrubingPoses[:,2]\n",
    "        meanFinalTimes += pertrubingTimes\n",
    "        #print(iteration)\n",
    "     \n",
    "    # plt.plot(meanFinalTimes,meanFinalPoses)\n",
    "    # plt.show()\n",
    "    \n",
    "    # return slope  #*some Coef\n",
    "    return meanFinalTimes/iterations,-meanFinalPoses/iterations\n",
    "\n",
    "def getOrientedPerturbingDiffusionCoef(Data,ratio,grads):\n",
    "    diffs =np.zeros(grads.shape)\n",
    "    for i in range(grads.shape[0]):\n",
    "        print(i)\n",
    "        meanFinalTimes,meanFinalPoses= getOrientedPerturbingDiffusionCoefForRatio(Data,ratio,grads[i])\n",
    "        slope, intercept, r_value, p_value, std_err = scipy.stats.linregress(meanFinalTimes,meanFinalPoses)\n",
    "        diffs[i] =  slope \n",
    "    return diffs\n",
    "\n",
    "\n",
    "def getOrientedPerturbingDiffusionCoef2(Data,ratios,grad):\n",
    "    diffs =np.zeros(grads.shape)\n",
    "    for i in range(ratios.shape[0]):\n",
    "        print(i)\n",
    "        meanFinalTimes,meanFinalPoses= getOrientedPerturbingDiffusionCoefForRatio(Data,ratios[i],grad*ratios[i])\n",
    "        slope, intercept, r_value, p_value, std_err = scipy.stats.linregress(meanFinalTimes,meanFinalPoses)\n",
    "        diffs[i] =  slope \n",
    "    return diffs"
   ],
   "metadata": {
    "collapsed": false
   },
   "id": "777a24b259cca9"
  }
 ],
 "metadata": {
  "kernelspec": {
   "display_name": "Python 3",
   "language": "python",
   "name": "python3"
  },
  "language_info": {
   "codemirror_mode": {
    "name": "ipython",
    "version": 2
   },
   "file_extension": ".py",
   "mimetype": "text/x-python",
   "name": "python",
   "nbconvert_exporter": "python",
   "pygments_lexer": "ipython2",
   "version": "2.7.6"
  }
 },
 "nbformat": 4,
 "nbformat_minor": 5
}
