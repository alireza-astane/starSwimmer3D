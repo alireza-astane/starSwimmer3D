{
 "cells": [
  {
   "cell_type": "markdown",
   "metadata": {},
   "source": []
  },
  {
   "cell_type": "code",
   "execution_count": 1,
   "metadata": {},
   "outputs": [],
   "source": [
    "import pandas as pd"
   ]
  },
  {
   "cell_type": "code",
   "execution_count": 5,
   "metadata": {},
   "outputs": [],
   "source": [
    "df = pd.read_csv(\"./data.csv\")"
   ]
  },
  {
   "cell_type": "code",
   "execution_count": 7,
   "metadata": {},
   "outputs": [],
   "source": [
    "df.to_excel(\"part1.xlsx\")"
   ]
  },
  {
   "cell_type": "code",
   "execution_count": 49,
   "metadata": {},
   "outputs": [],
   "source": [
    "df2 = pd.read_excel(\"tm.xlsx\")"
   ]
  },
  {
   "cell_type": "code",
   "execution_count": 15,
   "metadata": {},
   "outputs": [
    {
     "data": {
      "text/html": [
       "<div>\n",
       "<style scoped>\n",
       "    .dataframe tbody tr th:only-of-type {\n",
       "        vertical-align: middle;\n",
       "    }\n",
       "\n",
       "    .dataframe tbody tr th {\n",
       "        vertical-align: top;\n",
       "    }\n",
       "\n",
       "    .dataframe thead th {\n",
       "        text-align: right;\n",
       "    }\n",
       "</style>\n",
       "<table border=\"1\" class=\"dataframe\">\n",
       "  <thead>\n",
       "    <tr style=\"text-align: right;\">\n",
       "      <th></th>\n",
       "      <th>Unnamed: 0</th>\n",
       "      <th>Unnamed: 1</th>\n",
       "      <th>Unnamed: 2</th>\n",
       "    </tr>\n",
       "  </thead>\n",
       "  <tbody>\n",
       "    <tr>\n",
       "      <th>0</th>\n",
       "      <td>NaN</td>\n",
       "      <td>NaN</td>\n",
       "      <td>NaN</td>\n",
       "    </tr>\n",
       "    <tr>\n",
       "      <th>1</th>\n",
       "      <td>Date</td>\n",
       "      <td>Date</td>\n",
       "      <td>Events</td>\n",
       "    </tr>\n",
       "    <tr>\n",
       "      <th>2</th>\n",
       "      <td>-35000</td>\n",
       "      <td>-35000</td>\n",
       "      <td>Earliest proto-writing -  notational signs, us...</td>\n",
       "    </tr>\n",
       "    <tr>\n",
       "      <th>3</th>\n",
       "      <td>-40000</td>\n",
       "      <td>-34000</td>\n",
       "      <td>oldest oral traditions - Gunditjmara in Austra...</td>\n",
       "    </tr>\n",
       "    <tr>\n",
       "      <th>4</th>\n",
       "      <td>-3500</td>\n",
       "      <td>-3500</td>\n",
       "      <td>Sumerian Cuneiform- Earliest known writing sys...</td>\n",
       "    </tr>\n",
       "    <tr>\n",
       "      <th>...</th>\n",
       "      <td>...</td>\n",
       "      <td>...</td>\n",
       "      <td>...</td>\n",
       "    </tr>\n",
       "    <tr>\n",
       "      <th>69</th>\n",
       "      <td>115</td>\n",
       "      <td>115</td>\n",
       "      <td>New testament of the bible</td>\n",
       "    </tr>\n",
       "    <tr>\n",
       "      <th>70</th>\n",
       "      <td>200</td>\n",
       "      <td>200</td>\n",
       "      <td>Ayādgār i Zarërān , meaning \"Memorial of Zarër...</td>\n",
       "    </tr>\n",
       "    <tr>\n",
       "      <th>71</th>\n",
       "      <td>216</td>\n",
       "      <td>227</td>\n",
       "      <td>Mani -  an Iranian prophet and the founder of ...</td>\n",
       "    </tr>\n",
       "    <tr>\n",
       "      <th>72</th>\n",
       "      <td>500</td>\n",
       "      <td>570</td>\n",
       "      <td>Yativṛṣabha - a mathematician and Jain monk.He...</td>\n",
       "    </tr>\n",
       "    <tr>\n",
       "      <th>73</th>\n",
       "      <td>658</td>\n",
       "      <td>680</td>\n",
       "      <td>Cædmon's Hymn - a short Old English poem attri...</td>\n",
       "    </tr>\n",
       "  </tbody>\n",
       "</table>\n",
       "<p>74 rows × 3 columns</p>\n",
       "</div>"
      ],
      "text/plain": [
       "   Unnamed: 0 Unnamed: 1                                         Unnamed: 2\n",
       "0         NaN        NaN                                                NaN\n",
       "1        Date       Date                                             Events\n",
       "2      -35000     -35000  Earliest proto-writing -  notational signs, us...\n",
       "3      -40000     -34000  oldest oral traditions - Gunditjmara in Austra...\n",
       "4       -3500      -3500  Sumerian Cuneiform- Earliest known writing sys...\n",
       "..        ...        ...                                                ...\n",
       "69        115        115                        New testament of the bible \n",
       "70        200        200  Ayādgār i Zarërān , meaning \"Memorial of Zarër...\n",
       "71        216        227  Mani -  an Iranian prophet and the founder of ...\n",
       "72        500        570  Yativṛṣabha - a mathematician and Jain monk.He...\n",
       "73        658        680  Cædmon's Hymn - a short Old English poem attri...\n",
       "\n",
       "[74 rows x 3 columns]"
      ]
     },
     "execution_count": 15,
     "metadata": {},
     "output_type": "execute_result"
    }
   ],
   "source": []
  },
  {
   "cell_type": "code",
   "execution_count": 50,
   "metadata": {},
   "outputs": [],
   "source": [
    "df2.columns = [\"start\",\"end\",\"name\"]"
   ]
  },
  {
   "cell_type": "code",
   "execution_count": 51,
   "metadata": {},
   "outputs": [],
   "source": [
    "df2[\"explanation\"] = \"\""
   ]
  },
  {
   "cell_type": "code",
   "execution_count": 52,
   "metadata": {},
   "outputs": [
    {
     "data": {
      "text/plain": [
       "Index(['start', 'end', 'name', 'explanation'], dtype='object')"
      ]
     },
     "execution_count": 52,
     "metadata": {},
     "output_type": "execute_result"
    }
   ],
   "source": [
    "df2.columns"
   ]
  },
  {
   "cell_type": "code",
   "execution_count": 53,
   "metadata": {},
   "outputs": [
    {
     "data": {
      "text/html": [
       "<div>\n",
       "<style scoped>\n",
       "    .dataframe tbody tr th:only-of-type {\n",
       "        vertical-align: middle;\n",
       "    }\n",
       "\n",
       "    .dataframe tbody tr th {\n",
       "        vertical-align: top;\n",
       "    }\n",
       "\n",
       "    .dataframe thead th {\n",
       "        text-align: right;\n",
       "    }\n",
       "</style>\n",
       "<table border=\"1\" class=\"dataframe\">\n",
       "  <thead>\n",
       "    <tr style=\"text-align: right;\">\n",
       "      <th></th>\n",
       "      <th>start</th>\n",
       "      <th>end</th>\n",
       "      <th>name</th>\n",
       "      <th>explanation</th>\n",
       "    </tr>\n",
       "  </thead>\n",
       "  <tbody>\n",
       "    <tr>\n",
       "      <th>0</th>\n",
       "      <td>NaN</td>\n",
       "      <td>NaN</td>\n",
       "      <td>NaN</td>\n",
       "      <td></td>\n",
       "    </tr>\n",
       "    <tr>\n",
       "      <th>1</th>\n",
       "      <td>Date</td>\n",
       "      <td>Date</td>\n",
       "      <td>Events</td>\n",
       "      <td></td>\n",
       "    </tr>\n",
       "    <tr>\n",
       "      <th>2</th>\n",
       "      <td>-35000</td>\n",
       "      <td>-35000</td>\n",
       "      <td>Earliest proto-writing -  notational signs, us...</td>\n",
       "      <td></td>\n",
       "    </tr>\n",
       "    <tr>\n",
       "      <th>3</th>\n",
       "      <td>-40000</td>\n",
       "      <td>-34000</td>\n",
       "      <td>oldest oral traditions - Gunditjmara in Austra...</td>\n",
       "      <td></td>\n",
       "    </tr>\n",
       "    <tr>\n",
       "      <th>4</th>\n",
       "      <td>-3500</td>\n",
       "      <td>-3500</td>\n",
       "      <td>Sumerian Cuneiform- Earliest known writing sys...</td>\n",
       "      <td></td>\n",
       "    </tr>\n",
       "    <tr>\n",
       "      <th>...</th>\n",
       "      <td>...</td>\n",
       "      <td>...</td>\n",
       "      <td>...</td>\n",
       "      <td>...</td>\n",
       "    </tr>\n",
       "    <tr>\n",
       "      <th>69</th>\n",
       "      <td>115</td>\n",
       "      <td>115</td>\n",
       "      <td>New testament of the bible</td>\n",
       "      <td></td>\n",
       "    </tr>\n",
       "    <tr>\n",
       "      <th>70</th>\n",
       "      <td>200</td>\n",
       "      <td>200</td>\n",
       "      <td>Ayādgār i Zarërān , meaning \"Memorial of Zarër...</td>\n",
       "      <td></td>\n",
       "    </tr>\n",
       "    <tr>\n",
       "      <th>71</th>\n",
       "      <td>216</td>\n",
       "      <td>227</td>\n",
       "      <td>Mani -  an Iranian prophet and the founder of ...</td>\n",
       "      <td></td>\n",
       "    </tr>\n",
       "    <tr>\n",
       "      <th>72</th>\n",
       "      <td>500</td>\n",
       "      <td>570</td>\n",
       "      <td>Yativṛṣabha - a mathematician and Jain monk.He...</td>\n",
       "      <td></td>\n",
       "    </tr>\n",
       "    <tr>\n",
       "      <th>73</th>\n",
       "      <td>658</td>\n",
       "      <td>680</td>\n",
       "      <td>Cædmon's Hymn - a short Old English poem attri...</td>\n",
       "      <td></td>\n",
       "    </tr>\n",
       "  </tbody>\n",
       "</table>\n",
       "<p>74 rows × 4 columns</p>\n",
       "</div>"
      ],
      "text/plain": [
       "     start     end                                               name  \\\n",
       "0      NaN     NaN                                                NaN   \n",
       "1     Date    Date                                             Events   \n",
       "2   -35000  -35000  Earliest proto-writing -  notational signs, us...   \n",
       "3   -40000  -34000  oldest oral traditions - Gunditjmara in Austra...   \n",
       "4    -3500   -3500  Sumerian Cuneiform- Earliest known writing sys...   \n",
       "..     ...     ...                                                ...   \n",
       "69     115     115                        New testament of the bible    \n",
       "70     200     200  Ayādgār i Zarërān , meaning \"Memorial of Zarër...   \n",
       "71     216     227  Mani -  an Iranian prophet and the founder of ...   \n",
       "72     500     570  Yativṛṣabha - a mathematician and Jain monk.He...   \n",
       "73     658     680  Cædmon's Hymn - a short Old English poem attri...   \n",
       "\n",
       "   explanation  \n",
       "0               \n",
       "1               \n",
       "2               \n",
       "3               \n",
       "4               \n",
       "..         ...  \n",
       "69              \n",
       "70              \n",
       "71              \n",
       "72              \n",
       "73              \n",
       "\n",
       "[74 rows x 4 columns]"
      ]
     },
     "execution_count": 53,
     "metadata": {},
     "output_type": "execute_result"
    }
   ],
   "source": [
    "df2"
   ]
  },
  {
   "cell_type": "code",
   "execution_count": 54,
   "metadata": {},
   "outputs": [],
   "source": [
    "df2 = df2.drop([df2.index[0],df2.index[1]])"
   ]
  },
  {
   "cell_type": "code",
   "execution_count": 55,
   "metadata": {},
   "outputs": [],
   "source": [
    "df2 = df2.reset_index()"
   ]
  },
  {
   "cell_type": "code",
   "execution_count": 56,
   "metadata": {},
   "outputs": [],
   "source": [
    "df2 = df2.drop(\"index\",axis=1)"
   ]
  },
  {
   "cell_type": "code",
   "execution_count": 62,
   "metadata": {},
   "outputs": [
    {
     "data": {
      "text/plain": [
       "'[]'"
      ]
     },
     "execution_count": 62,
     "metadata": {},
     "output_type": "execute_result"
    }
   ],
   "source": [
    "str(df2[\"name\"][1].split(\"-\")[1:])"
   ]
  },
  {
   "cell_type": "code",
   "execution_count": 58,
   "metadata": {},
   "outputs": [
    {
     "data": {
      "text/plain": [
       "72"
      ]
     },
     "execution_count": 58,
     "metadata": {},
     "output_type": "execute_result"
    }
   ],
   "source": [
    "len(df2)"
   ]
  },
  {
   "cell_type": "code",
   "execution_count": 60,
   "metadata": {},
   "outputs": [
    {
     "name": "stderr",
     "output_type": "stream",
     "text": [
      "/tmp/ipykernel_8637/3636534770.py:3: FutureWarning: ChainedAssignmentError: behaviour will change in pandas 3.0!\n",
      "You are setting values through chained assignment. Currently this works in certain cases, but when using Copy-on-Write (which will become the default behaviour in pandas 3.0) this will never work to update the original DataFrame or Series, because the intermediate object on which we are setting values will behave as a copy.\n",
      "A typical example is when you are setting values in a column of a DataFrame, like:\n",
      "\n",
      "df[\"col\"][row_indexer] = value\n",
      "\n",
      "Use `df.loc[row_indexer, \"col\"] = values` instead, to perform the assignment in a single step and ensure this keeps updating the original `df`.\n",
      "\n",
      "See the caveats in the documentation: https://pandas.pydata.org/pandas-docs/stable/user_guide/indexing.html#returning-a-view-versus-a-copy\n",
      "\n",
      "  df2[\"name\"][i] = l[0]\n",
      "/tmp/ipykernel_8637/3636534770.py:5: FutureWarning: ChainedAssignmentError: behaviour will change in pandas 3.0!\n",
      "You are setting values through chained assignment. Currently this works in certain cases, but when using Copy-on-Write (which will become the default behaviour in pandas 3.0) this will never work to update the original DataFrame or Series, because the intermediate object on which we are setting values will behave as a copy.\n",
      "A typical example is when you are setting values in a column of a DataFrame, like:\n",
      "\n",
      "df[\"col\"][row_indexer] = value\n",
      "\n",
      "Use `df.loc[row_indexer, \"col\"] = values` instead, to perform the assignment in a single step and ensure this keeps updating the original `df`.\n",
      "\n",
      "See the caveats in the documentation: https://pandas.pydata.org/pandas-docs/stable/user_guide/indexing.html#returning-a-view-versus-a-copy\n",
      "\n",
      "  df2[\"explanation\"][i] = l[1:]\n"
     ]
    }
   ],
   "source": [
    "for i in range(len(df2)):\n",
    "    l = df2[\"name\"][i].split(\"-\")\n",
    "    df2[\"name\"][i] = l[0]\n",
    "    if len(l)>1:\n",
    "        df2[\"explanation\"][i] = l[1:]\n"
   ]
  },
  {
   "cell_type": "code",
   "execution_count": 42,
   "metadata": {},
   "outputs": [
    {
     "data": {
      "text/plain": [
       "['ali']"
      ]
     },
     "execution_count": 42,
     "metadata": {},
     "output_type": "execute_result"
    }
   ],
   "source": [
    "\"ali\".split(\"p\")"
   ]
  },
  {
   "cell_type": "code",
   "execution_count": 61,
   "metadata": {},
   "outputs": [
    {
     "data": {
      "text/html": [
       "<div>\n",
       "<style scoped>\n",
       "    .dataframe tbody tr th:only-of-type {\n",
       "        vertical-align: middle;\n",
       "    }\n",
       "\n",
       "    .dataframe tbody tr th {\n",
       "        vertical-align: top;\n",
       "    }\n",
       "\n",
       "    .dataframe thead th {\n",
       "        text-align: right;\n",
       "    }\n",
       "</style>\n",
       "<table border=\"1\" class=\"dataframe\">\n",
       "  <thead>\n",
       "    <tr style=\"text-align: right;\">\n",
       "      <th></th>\n",
       "      <th>start</th>\n",
       "      <th>end</th>\n",
       "      <th>name</th>\n",
       "      <th>explanation</th>\n",
       "    </tr>\n",
       "  </thead>\n",
       "  <tbody>\n",
       "    <tr>\n",
       "      <th>0</th>\n",
       "      <td>-35000</td>\n",
       "      <td>-35000</td>\n",
       "      <td>Earliest proto</td>\n",
       "      <td>[writing ,   notational signs, used next to im...</td>\n",
       "    </tr>\n",
       "    <tr>\n",
       "      <th>1</th>\n",
       "      <td>-40000</td>\n",
       "      <td>-34000</td>\n",
       "      <td>oldest oral traditions</td>\n",
       "      <td>[ Gunditjmara in Australia  ]</td>\n",
       "    </tr>\n",
       "    <tr>\n",
       "      <th>2</th>\n",
       "      <td>-3500</td>\n",
       "      <td>-3500</td>\n",
       "      <td>Sumerian Cuneiform</td>\n",
       "      <td>[ Earliest known writing system ]</td>\n",
       "    </tr>\n",
       "    <tr>\n",
       "      <th>3</th>\n",
       "      <td>-3400</td>\n",
       "      <td>-3100</td>\n",
       "      <td>Invention of writing in Mesopotamia</td>\n",
       "      <td></td>\n",
       "    </tr>\n",
       "    <tr>\n",
       "      <th>4</th>\n",
       "      <td>-3250</td>\n",
       "      <td>-3250</td>\n",
       "      <td>Invention of writing in Egypt</td>\n",
       "      <td></td>\n",
       "    </tr>\n",
       "    <tr>\n",
       "      <th>...</th>\n",
       "      <td>...</td>\n",
       "      <td>...</td>\n",
       "      <td>...</td>\n",
       "      <td>...</td>\n",
       "    </tr>\n",
       "    <tr>\n",
       "      <th>67</th>\n",
       "      <td>115</td>\n",
       "      <td>115</td>\n",
       "      <td>New testament of the bible</td>\n",
       "      <td></td>\n",
       "    </tr>\n",
       "    <tr>\n",
       "      <th>68</th>\n",
       "      <td>200</td>\n",
       "      <td>200</td>\n",
       "      <td>Ayādgār i Zarërān , meaning \"Memorial of Zarër...</td>\n",
       "      <td></td>\n",
       "    </tr>\n",
       "    <tr>\n",
       "      <th>69</th>\n",
       "      <td>216</td>\n",
       "      <td>227</td>\n",
       "      <td>Mani</td>\n",
       "      <td>[  an Iranian prophet and the founder of Manic...</td>\n",
       "    </tr>\n",
       "    <tr>\n",
       "      <th>70</th>\n",
       "      <td>500</td>\n",
       "      <td>570</td>\n",
       "      <td>Yativṛṣabha</td>\n",
       "      <td>[ a mathematician and Jain monk.He lived and w...</td>\n",
       "    </tr>\n",
       "    <tr>\n",
       "      <th>71</th>\n",
       "      <td>658</td>\n",
       "      <td>680</td>\n",
       "      <td>Cædmon's Hymn</td>\n",
       "      <td>[ a short Old English poem attributed to Cædmo...</td>\n",
       "    </tr>\n",
       "  </tbody>\n",
       "</table>\n",
       "<p>72 rows × 4 columns</p>\n",
       "</div>"
      ],
      "text/plain": [
       "     start     end                                               name  \\\n",
       "0   -35000  -35000                                     Earliest proto   \n",
       "1   -40000  -34000                            oldest oral traditions    \n",
       "2    -3500   -3500                                 Sumerian Cuneiform   \n",
       "3    -3400   -3100                Invention of writing in Mesopotamia   \n",
       "4    -3250   -3250                      Invention of writing in Egypt   \n",
       "..     ...     ...                                                ...   \n",
       "67     115     115                        New testament of the bible    \n",
       "68     200     200  Ayādgār i Zarërān , meaning \"Memorial of Zarër...   \n",
       "69     216     227                                              Mani    \n",
       "70     500     570                                       Yativṛṣabha    \n",
       "71     658     680                                     Cædmon's Hymn    \n",
       "\n",
       "                                          explanation  \n",
       "0   [writing ,   notational signs, used next to im...  \n",
       "1                       [ Gunditjmara in Australia  ]  \n",
       "2                   [ Earliest known writing system ]  \n",
       "3                                                      \n",
       "4                                                      \n",
       "..                                                ...  \n",
       "67                                                     \n",
       "68                                                     \n",
       "69  [  an Iranian prophet and the founder of Manic...  \n",
       "70  [ a mathematician and Jain monk.He lived and w...  \n",
       "71  [ a short Old English poem attributed to Cædmo...  \n",
       "\n",
       "[72 rows x 4 columns]"
      ]
     },
     "execution_count": 61,
     "metadata": {},
     "output_type": "execute_result"
    }
   ],
   "source": [
    "df2"
   ]
  },
  {
   "cell_type": "code",
   "execution_count": 65,
   "metadata": {},
   "outputs": [],
   "source": [
    "df2.to_excel(\"part0.xlsx\")"
   ]
  },
  {
   "cell_type": "code",
   "execution_count": 90,
   "metadata": {},
   "outputs": [],
   "source": [
    "df3 = pd.read_excel(\"./prob.xlsx\")"
   ]
  },
  {
   "cell_type": "code",
   "execution_count": 91,
   "metadata": {},
   "outputs": [
    {
     "data": {
      "text/html": [
       "<div>\n",
       "<style scoped>\n",
       "    .dataframe tbody tr th:only-of-type {\n",
       "        vertical-align: middle;\n",
       "    }\n",
       "\n",
       "    .dataframe tbody tr th {\n",
       "        vertical-align: top;\n",
       "    }\n",
       "\n",
       "    .dataframe thead th {\n",
       "        text-align: right;\n",
       "    }\n",
       "</style>\n",
       "<table border=\"1\" class=\"dataframe\">\n",
       "  <thead>\n",
       "    <tr style=\"text-align: right;\">\n",
       "      <th></th>\n",
       "      <th>name</th>\n",
       "      <th>start</th>\n",
       "      <th>end</th>\n",
       "      <th>explanation</th>\n",
       "    </tr>\n",
       "  </thead>\n",
       "  <tbody>\n",
       "    <tr>\n",
       "      <th>0</th>\n",
       "      <td>Beowulf</td>\n",
       "      <td>1000-02-01 00:00:00</td>\n",
       "      <td>1000-02-01 00:00:00</td>\n",
       "      <td>Epic poem composed by anonymous Anglo-Saxon po...</td>\n",
       "    </tr>\n",
       "    <tr>\n",
       "      <th>1</th>\n",
       "      <td>The Battle of Hastings</td>\n",
       "      <td>1066-10-14 00:00:00</td>\n",
       "      <td>1066-10-14 00:00:00</td>\n",
       "      <td>The Battle of Hastings, leading to the Norman ...</td>\n",
       "    </tr>\n",
       "    <tr>\n",
       "      <th>2</th>\n",
       "      <td>Pierre Abelard</td>\n",
       "      <td>1079-12-01 00:00:00</td>\n",
       "      <td>1142-12-01 00:00:00</td>\n",
       "      <td>NaN</td>\n",
       "    </tr>\n",
       "    <tr>\n",
       "      <th>3</th>\n",
       "      <td>William of Malmesbury</td>\n",
       "      <td>1080-09-16 01:01:27</td>\n",
       "      <td>1143-12-01 00:00:00</td>\n",
       "      <td>Historian and hagiographer.</td>\n",
       "    </tr>\n",
       "    <tr>\n",
       "      <th>4</th>\n",
       "      <td>Domesday Book completed</td>\n",
       "      <td>1086-04-16 23:39:35</td>\n",
       "      <td>1086-04-16 23:39:35</td>\n",
       "      <td>A record of the great inquest or survey of the...</td>\n",
       "    </tr>\n",
       "    <tr>\n",
       "      <th>...</th>\n",
       "      <td>...</td>\n",
       "      <td>...</td>\n",
       "      <td>...</td>\n",
       "      <td>...</td>\n",
       "    </tr>\n",
       "    <tr>\n",
       "      <th>269</th>\n",
       "      <td>The Satanic Verses controversy</td>\n",
       "      <td>1989-10-26 15:55:24</td>\n",
       "      <td>1989-10-26 15:55:24</td>\n",
       "      <td>Rushdie's novel The Satanic Verses, was first ...</td>\n",
       "    </tr>\n",
       "    <tr>\n",
       "      <th>270</th>\n",
       "      <td>Claudia Rankine's Don’t Let Me Be Lonely</td>\n",
       "      <td>2004-01-11 00:33:53</td>\n",
       "      <td>2004-01-11 00:33:53</td>\n",
       "      <td>Written in Rankine's American Lyric form. A co...</td>\n",
       "    </tr>\n",
       "    <tr>\n",
       "      <th>271</th>\n",
       "      <td>First Kindle e-book reader released</td>\n",
       "      <td>2007-11-19 02:22:19</td>\n",
       "      <td>2007-11-19 02:22:19</td>\n",
       "      <td>The first iteration of the Amazon Kindle e-rea...</td>\n",
       "    </tr>\n",
       "    <tr>\n",
       "      <th>272</th>\n",
       "      <td>Sarah Howe's Loop of Jade wins 2015 TS Eliot P...</td>\n",
       "      <td>2016-01-11 00:33:53</td>\n",
       "      <td>2016-01-11 00:33:53</td>\n",
       "      <td>Loop of Jade, Sarah Howe's debut collection, w...</td>\n",
       "    </tr>\n",
       "    <tr>\n",
       "      <th>273</th>\n",
       "      <td>Bob Dylan receives the Nobel Prize in Literatu...</td>\n",
       "      <td>2016-10-13 16:18:49</td>\n",
       "      <td>2016-10-13 16:18:49</td>\n",
       "      <td>The Nobel Prize in Literature 2016 was awarded...</td>\n",
       "    </tr>\n",
       "  </tbody>\n",
       "</table>\n",
       "<p>274 rows × 4 columns</p>\n",
       "</div>"
      ],
      "text/plain": [
       "                                                  name                start  \\\n",
       "0                                              Beowulf  1000-02-01 00:00:00   \n",
       "1                               The Battle of Hastings  1066-10-14 00:00:00   \n",
       "2                                       Pierre Abelard  1079-12-01 00:00:00   \n",
       "3                                William of Malmesbury  1080-09-16 01:01:27   \n",
       "4                              Domesday Book completed  1086-04-16 23:39:35   \n",
       "..                                                 ...                  ...   \n",
       "269                     The Satanic Verses controversy  1989-10-26 15:55:24   \n",
       "270           Claudia Rankine's Don’t Let Me Be Lonely  2004-01-11 00:33:53   \n",
       "271                First Kindle e-book reader released  2007-11-19 02:22:19   \n",
       "272  Sarah Howe's Loop of Jade wins 2015 TS Eliot P...  2016-01-11 00:33:53   \n",
       "273  Bob Dylan receives the Nobel Prize in Literatu...  2016-10-13 16:18:49   \n",
       "\n",
       "                     end                                        explanation  \n",
       "0    1000-02-01 00:00:00  Epic poem composed by anonymous Anglo-Saxon po...  \n",
       "1    1066-10-14 00:00:00  The Battle of Hastings, leading to the Norman ...  \n",
       "2    1142-12-01 00:00:00                                                NaN  \n",
       "3    1143-12-01 00:00:00                       Historian and hagiographer.   \n",
       "4    1086-04-16 23:39:35  A record of the great inquest or survey of the...  \n",
       "..                   ...                                                ...  \n",
       "269  1989-10-26 15:55:24  Rushdie's novel The Satanic Verses, was first ...  \n",
       "270  2004-01-11 00:33:53  Written in Rankine's American Lyric form. A co...  \n",
       "271  2007-11-19 02:22:19  The first iteration of the Amazon Kindle e-rea...  \n",
       "272  2016-01-11 00:33:53  Loop of Jade, Sarah Howe's debut collection, w...  \n",
       "273  2016-10-13 16:18:49  The Nobel Prize in Literature 2016 was awarded...  \n",
       "\n",
       "[274 rows x 4 columns]"
      ]
     },
     "execution_count": 91,
     "metadata": {},
     "output_type": "execute_result"
    }
   ],
   "source": [
    "df3"
   ]
  },
  {
   "cell_type": "code",
   "execution_count": 74,
   "metadata": {},
   "outputs": [
    {
     "data": {
      "text/plain": [
       "'1000'"
      ]
     },
     "execution_count": 74,
     "metadata": {},
     "output_type": "execute_result"
    }
   ],
   "source": [
    "df3[\"start\"][0].split(\"\")[0]"
   ]
  },
  {
   "cell_type": "code",
   "execution_count": 92,
   "metadata": {},
   "outputs": [
    {
     "name": "stderr",
     "output_type": "stream",
     "text": [
      "/tmp/ipykernel_8637/794540086.py:2: FutureWarning: ChainedAssignmentError: behaviour will change in pandas 3.0!\n",
      "You are setting values through chained assignment. Currently this works in certain cases, but when using Copy-on-Write (which will become the default behaviour in pandas 3.0) this will never work to update the original DataFrame or Series, because the intermediate object on which we are setting values will behave as a copy.\n",
      "A typical example is when you are setting values in a column of a DataFrame, like:\n",
      "\n",
      "df[\"col\"][row_indexer] = value\n",
      "\n",
      "Use `df.loc[row_indexer, \"col\"] = values` instead, to perform the assignment in a single step and ensure this keeps updating the original `df`.\n",
      "\n",
      "See the caveats in the documentation: https://pandas.pydata.org/pandas-docs/stable/user_guide/indexing.html#returning-a-view-versus-a-copy\n",
      "\n",
      "  df3[\"start\"][i] = str(df3[\"start\"][i]).split(\"-\")[0]\n",
      "/tmp/ipykernel_8637/794540086.py:3: FutureWarning: ChainedAssignmentError: behaviour will change in pandas 3.0!\n",
      "You are setting values through chained assignment. Currently this works in certain cases, but when using Copy-on-Write (which will become the default behaviour in pandas 3.0) this will never work to update the original DataFrame or Series, because the intermediate object on which we are setting values will behave as a copy.\n",
      "A typical example is when you are setting values in a column of a DataFrame, like:\n",
      "\n",
      "df[\"col\"][row_indexer] = value\n",
      "\n",
      "Use `df.loc[row_indexer, \"col\"] = values` instead, to perform the assignment in a single step and ensure this keeps updating the original `df`.\n",
      "\n",
      "See the caveats in the documentation: https://pandas.pydata.org/pandas-docs/stable/user_guide/indexing.html#returning-a-view-versus-a-copy\n",
      "\n",
      "  df3[\"end\"][i] = str(df3[\"end\"][i]).split(\"-\")[0]\n"
     ]
    }
   ],
   "source": [
    "for i in range(len(df3)):\n",
    "    df3[\"start\"][i] = str(df3[\"start\"][i]).split(\"-\")[0]\n",
    "    df3[\"end\"][i] = str(df3[\"end\"][i]).split(\"-\")[0]"
   ]
  },
  {
   "cell_type": "code",
   "execution_count": 89,
   "metadata": {},
   "outputs": [
    {
     "ename": "SyntaxError",
     "evalue": "invalid syntax (3455905502.py, line 1)",
     "output_type": "error",
     "traceback": [
      "\u001b[0;36m  Cell \u001b[0;32mIn[89], line 1\u001b[0;36m\u001b[0m\n\u001b[0;31m    df3.loc([:,3])\u001b[0m\n\u001b[0m             ^\u001b[0m\n\u001b[0;31mSyntaxError\u001b[0m\u001b[0;31m:\u001b[0m invalid syntax\n"
     ]
    }
   ],
   "source": [
    "df3.loc([:,3])"
   ]
  },
  {
   "cell_type": "code",
   "execution_count": 78,
   "metadata": {},
   "outputs": [],
   "source": [
    "df3.to_excel(\"final.xlsx\")"
   ]
  },
  {
   "cell_type": "code",
   "execution_count": 93,
   "metadata": {},
   "outputs": [
    {
     "data": {
      "text/html": [
       "<div>\n",
       "<style scoped>\n",
       "    .dataframe tbody tr th:only-of-type {\n",
       "        vertical-align: middle;\n",
       "    }\n",
       "\n",
       "    .dataframe tbody tr th {\n",
       "        vertical-align: top;\n",
       "    }\n",
       "\n",
       "    .dataframe thead th {\n",
       "        text-align: right;\n",
       "    }\n",
       "</style>\n",
       "<table border=\"1\" class=\"dataframe\">\n",
       "  <thead>\n",
       "    <tr style=\"text-align: right;\">\n",
       "      <th></th>\n",
       "      <th>name</th>\n",
       "      <th>start</th>\n",
       "      <th>end</th>\n",
       "      <th>explanation</th>\n",
       "    </tr>\n",
       "  </thead>\n",
       "  <tbody>\n",
       "    <tr>\n",
       "      <th>0</th>\n",
       "      <td>Beowulf</td>\n",
       "      <td>1000</td>\n",
       "      <td>1000</td>\n",
       "      <td>Epic poem composed by anonymous Anglo-Saxon po...</td>\n",
       "    </tr>\n",
       "    <tr>\n",
       "      <th>1</th>\n",
       "      <td>The Battle of Hastings</td>\n",
       "      <td>1066</td>\n",
       "      <td>1066</td>\n",
       "      <td>The Battle of Hastings, leading to the Norman ...</td>\n",
       "    </tr>\n",
       "    <tr>\n",
       "      <th>2</th>\n",
       "      <td>Pierre Abelard</td>\n",
       "      <td>1079</td>\n",
       "      <td>1142</td>\n",
       "      <td>NaN</td>\n",
       "    </tr>\n",
       "    <tr>\n",
       "      <th>3</th>\n",
       "      <td>William of Malmesbury</td>\n",
       "      <td>1080</td>\n",
       "      <td>1143</td>\n",
       "      <td>Historian and hagiographer.</td>\n",
       "    </tr>\n",
       "    <tr>\n",
       "      <th>4</th>\n",
       "      <td>Domesday Book completed</td>\n",
       "      <td>1086</td>\n",
       "      <td>1086</td>\n",
       "      <td>A record of the great inquest or survey of the...</td>\n",
       "    </tr>\n",
       "    <tr>\n",
       "      <th>...</th>\n",
       "      <td>...</td>\n",
       "      <td>...</td>\n",
       "      <td>...</td>\n",
       "      <td>...</td>\n",
       "    </tr>\n",
       "    <tr>\n",
       "      <th>269</th>\n",
       "      <td>The Satanic Verses controversy</td>\n",
       "      <td>1989</td>\n",
       "      <td>1989</td>\n",
       "      <td>Rushdie's novel The Satanic Verses, was first ...</td>\n",
       "    </tr>\n",
       "    <tr>\n",
       "      <th>270</th>\n",
       "      <td>Claudia Rankine's Don’t Let Me Be Lonely</td>\n",
       "      <td>2004</td>\n",
       "      <td>2004</td>\n",
       "      <td>Written in Rankine's American Lyric form. A co...</td>\n",
       "    </tr>\n",
       "    <tr>\n",
       "      <th>271</th>\n",
       "      <td>First Kindle e-book reader released</td>\n",
       "      <td>2007</td>\n",
       "      <td>2007</td>\n",
       "      <td>The first iteration of the Amazon Kindle e-rea...</td>\n",
       "    </tr>\n",
       "    <tr>\n",
       "      <th>272</th>\n",
       "      <td>Sarah Howe's Loop of Jade wins 2015 TS Eliot P...</td>\n",
       "      <td>2016</td>\n",
       "      <td>2016</td>\n",
       "      <td>Loop of Jade, Sarah Howe's debut collection, w...</td>\n",
       "    </tr>\n",
       "    <tr>\n",
       "      <th>273</th>\n",
       "      <td>Bob Dylan receives the Nobel Prize in Literatu...</td>\n",
       "      <td>2016</td>\n",
       "      <td>2016</td>\n",
       "      <td>The Nobel Prize in Literature 2016 was awarded...</td>\n",
       "    </tr>\n",
       "  </tbody>\n",
       "</table>\n",
       "<p>274 rows × 4 columns</p>\n",
       "</div>"
      ],
      "text/plain": [
       "                                                  name start   end  \\\n",
       "0                                              Beowulf  1000  1000   \n",
       "1                               The Battle of Hastings  1066  1066   \n",
       "2                                       Pierre Abelard  1079  1142   \n",
       "3                                William of Malmesbury  1080  1143   \n",
       "4                              Domesday Book completed  1086  1086   \n",
       "..                                                 ...   ...   ...   \n",
       "269                     The Satanic Verses controversy  1989  1989   \n",
       "270           Claudia Rankine's Don’t Let Me Be Lonely  2004  2004   \n",
       "271                First Kindle e-book reader released  2007  2007   \n",
       "272  Sarah Howe's Loop of Jade wins 2015 TS Eliot P...  2016  2016   \n",
       "273  Bob Dylan receives the Nobel Prize in Literatu...  2016  2016   \n",
       "\n",
       "                                           explanation  \n",
       "0    Epic poem composed by anonymous Anglo-Saxon po...  \n",
       "1    The Battle of Hastings, leading to the Norman ...  \n",
       "2                                                  NaN  \n",
       "3                         Historian and hagiographer.   \n",
       "4    A record of the great inquest or survey of the...  \n",
       "..                                                 ...  \n",
       "269  Rushdie's novel The Satanic Verses, was first ...  \n",
       "270  Written in Rankine's American Lyric form. A co...  \n",
       "271  The first iteration of the Amazon Kindle e-rea...  \n",
       "272  Loop of Jade, Sarah Howe's debut collection, w...  \n",
       "273  The Nobel Prize in Literature 2016 was awarded...  \n",
       "\n",
       "[274 rows x 4 columns]"
      ]
     },
     "execution_count": 93,
     "metadata": {},
     "output_type": "execute_result"
    }
   ],
   "source": [
    "df3"
   ]
  },
  {
   "cell_type": "code",
   "execution_count": null,
   "metadata": {},
   "outputs": [],
   "source": []
  }
 ],
 "metadata": {
  "kernelspec": {
   "display_name": "base",
   "language": "python",
   "name": "python3"
  },
  "language_info": {
   "codemirror_mode": {
    "name": "ipython",
    "version": 3
   },
   "file_extension": ".py",
   "mimetype": "text/x-python",
   "name": "python",
   "nbconvert_exporter": "python",
   "pygments_lexer": "ipython3",
   "version": "3.11.3"
  }
 },
 "nbformat": 4,
 "nbformat_minor": 2
}
