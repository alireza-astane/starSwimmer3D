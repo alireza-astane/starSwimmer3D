{
 "cells": [
  {
   "cell_type": "code",
   "execution_count": 1,
   "id": "initial_id",
   "metadata": {
    "collapsed": true,
    "ExecuteTime": {
     "end_time": "2023-10-01T10:55:10.043956974Z",
     "start_time": "2023-10-01T10:55:09.579977171Z"
    }
   },
   "outputs": [],
   "source": [
    "import numba\n",
    "import numpy as np\n",
    "import scipy as sp\n",
    "import matplotlib.pyplot as plt\n",
    "from numba import njit\n",
    "import scipy"
   ]
  },
  {
   "cell_type": "code",
   "execution_count": null,
   "outputs": [],
   "source": [
    "T=1\n",
    "R=1\n",
    "a = 10*R\n",
    "epsilons = np.linspace(0.1,2.5,50)*R\n",
    "\n",
    "steps = 100000\n",
    "nsteps = 100000\n",
    "dt = T/steps\n",
    "#initial positions \n",
    "r0 = np.array([[0, 0, 0],\n",
    "[0, 0, a],\n",
    "[a*np.sqrt(8)/3, 0 , -a/3],\n",
    "[-a*np.sqrt(8)/6, a*np.sqrt(24)/6 , -a/3],\n",
    "[-a*np.sqrt(8)/6, -a*np.sqrt(24)/6, -a/3]])"
   ],
   "metadata": {
    "collapsed": false
   },
   "id": "15df7666f35ff2fa"
  },
  {
   "cell_type": "code",
   "execution_count": null,
   "outputs": [],
   "source": [
    "def getAngle(a,b):\n",
    "    return (180/np.pi)*np.arccos(np.dot(a,b)/(np.linalg.norm(a)*np.linalg.norm(b)))\n"
   ],
   "metadata": {
    "collapsed": false
   },
   "id": "ceef6d7ba16a597a"
  },
  {
   "cell_type": "code",
   "execution_count": null,
   "outputs": [],
   "source": [
    "def visualize(r,angles=(0,0)):\n",
    "    ax = plt.figure().add_subplot(projection='3d')\n",
    "    colors = ('r', 'g', 'b', 'k','y')\n",
    "    ax.scatter(xs = r[:,0],ys = r[:,1] , zs=r[:,2],c=colors,s=100)\n",
    "    \n",
    "    for j in range(0,5):\n",
    "        ax.plot(xs = [r[j,0] , r[0,0]] , ys = [r[j,1] , r[0,1]] , zs = [r[j,2] , r[0,2]],c=\"b\")\n",
    "    \n",
    "    ax.view_init(angles[0],angles[1])\n",
    "    plt.show()"
   ],
   "metadata": {
    "collapsed": false
   },
   "id": "44951d4ffe5fed04"
  },
  {
   "cell_type": "code",
   "execution_count": null,
   "outputs": [],
   "source": [],
   "metadata": {
    "collapsed": false
   },
   "id": "6fab00cd32172ce3"
  },
  {
   "cell_type": "code",
   "execution_count": null,
   "outputs": [],
   "source": [],
   "metadata": {
    "collapsed": false
   },
   "id": "fdbbbaade8af7cd3"
  },
  {
   "cell_type": "code",
   "execution_count": null,
   "outputs": [],
   "source": [],
   "metadata": {
    "collapsed": false
   },
   "id": "ac2e70069425ffe2"
  },
  {
   "cell_type": "code",
   "execution_count": null,
   "outputs": [],
   "source": [],
   "metadata": {
    "collapsed": false
   },
   "id": "663e71172a74449"
  },
  {
   "cell_type": "code",
   "execution_count": null,
   "outputs": [],
   "source": [],
   "metadata": {
    "collapsed": false
   },
   "id": "a41f84602f389dac"
  }
 ],
 "metadata": {
  "kernelspec": {
   "display_name": "Python 3",
   "language": "python",
   "name": "python3"
  },
  "language_info": {
   "codemirror_mode": {
    "name": "ipython",
    "version": 2
   },
   "file_extension": ".py",
   "mimetype": "text/x-python",
   "name": "python",
   "nbconvert_exporter": "python",
   "pygments_lexer": "ipython2",
   "version": "2.7.6"
  }
 },
 "nbformat": 4,
 "nbformat_minor": 5
}
