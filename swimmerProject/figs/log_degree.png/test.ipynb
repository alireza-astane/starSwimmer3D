{
 "cells": [
  {
   "cell_type": "code",
   "execution_count": 2,
   "metadata": {},
   "outputs": [],
   "source": [
    "import numba\n",
    "import numpy as np\n",
    "import scipy as sp\n",
    "import matplotlib.pyplot as plt\n",
    "from numba import njit\n",
    "import scipy\n",
    "from scipy.spatial.transform import Rotation as Rot\n"
   ]
  },
  {
   "cell_type": "code",
   "execution_count": 54,
   "metadata": {},
   "outputs": [],
   "source": [
    "allPossbileActions = np.load(\"allPossbileActions.npy\")\n",
    "actionsData = np.load(\"actionDatasForE=3.npy\")\n",
    "states = np.zeros((10,4),dtype=np.int64)"
   ]
  },
  {
   "cell_type": "code",
   "execution_count": 4,
   "metadata": {},
   "outputs": [],
   "source": [
    "\n",
    "@njit\n",
    "def getAction(state,ratio):\n",
    "    #t=1 if state=0 and t = ratio if state = 1   ???\n",
    "    t1,t2,t3,t4 = np.where(state==0,1,ratio)\n",
    "    sum = t1*t2*t3 + t1*t2*t4 + t1*t3*t4 + t2*t3*t4\n",
    "    randomNumber = np.random.uniform(0,1,1)\n",
    "    if randomNumber <= t4*t2*t3/sum:\n",
    "        changingJoint = 0\n",
    "        tc= t1\n",
    "    elif(randomNumber <= (t4*t3*t1+t4*t2*t3)/sum):  \n",
    "        changingJoint = 1\n",
    "        tc=t2\n",
    "    elif randomNumber <= (t4*t2*t1+t4*t2*t3+t4*t3*t1)/sum:\n",
    "        changingJoint = 2\n",
    "        tc=t3\n",
    "    else:\n",
    "        changingJoint = 3\n",
    "        tc=t4\n",
    "\n",
    "    # deltat = getDeltat2(t1,t2,t3,t4)   ### check detla t\n",
    "    # print(\"t= \",getDeltat2(t1,t2,t3,t4) )\n",
    "    #deltat = np.array([t1,t2,t3,t4])[changingJoint]\n",
    "    #print(getDeltat(t1,t2,t3,t4,tc))\n",
    "    deltat = getDeltat(t1,t2,t3,t4,tc)\n",
    "    return changingJoint,deltat\n",
    "\n"
   ]
  },
  {
   "cell_type": "code",
   "execution_count": 18,
   "metadata": {},
   "outputs": [
    {
     "data": {
      "text/plain": [
       "(2, 1.17775)"
      ]
     },
     "execution_count": 18,
     "metadata": {},
     "output_type": "execute_result"
    }
   ],
   "source": [
    "getAction(states[0],1)"
   ]
  },
  {
   "cell_type": "code",
   "execution_count": 114,
   "metadata": {},
   "outputs": [],
   "source": [
    "\n",
    "@njit\n",
    "def doStep(Data,state,ratio):\n",
    "    action,deltat = getAction(state,ratio)\n",
    "    new_state = state.copy()\n",
    "    new_state[action] = 1 - new_state[action]\n",
    "    delta = Data[fromBinary(state)*4 + action][0,:]    ### check data\n",
    "    rotation = Data[fromBinary(state)*4 + action][1:,:]\n",
    "    print(action,new_state)\n",
    "    return new_state,delta,rotation,deltat\n"
   ]
  },
  {
   "cell_type": "code",
   "execution_count": 132,
   "metadata": {},
   "outputs": [
    {
     "name": "stdout",
     "output_type": "stream",
     "text": [
      "0 [1 0 0 0]\n"
     ]
    },
    {
     "data": {
      "text/plain": [
       "(array([1, 0, 0, 0]),\n",
       " array([-3.43239200e-18,  7.11006105e-18, -5.41599075e-01]),\n",
       " array([[ 1.00000000e+00, -1.95126984e-17,  3.21804178e-19],\n",
       "        [-1.26908362e-18,  1.00000000e+00, -4.68240650e-19],\n",
       "        [-1.11022302e-16, -1.44291227e-16,  1.00000000e+00]]),\n",
       " 1.17775)"
      ]
     },
     "execution_count": 132,
     "metadata": {},
     "output_type": "execute_result"
    }
   ],
   "source": [
    "state = np.zeros(4,dtype=np.int64)\n",
    "doStep(actionsData,state,1)"
   ]
  },
  {
   "cell_type": "code",
   "execution_count": 65,
   "metadata": {},
   "outputs": [],
   "source": [
    "perturbingSteps = 10\n",
    "state = np.zeros(4)\n",
    "time = 0\n",
    "ratio =1\n",
    "pertrubingPose = np.array([0.,0.,0.])\n",
    "perturbingRotation = np.eye(3)\n",
    "state = np.ones(4,dtype=np.int64)\n",
    "pertrubingPoses = np.zeros((perturbingSteps,3))\n",
    "pertrubingTimes = np.zeros(perturbingSteps)"
   ]
  },
  {
   "cell_type": "code",
   "execution_count": 62,
   "metadata": {},
   "outputs": [
    {
     "data": {
      "text/plain": [
       "array([1, 1, 1, 1])"
      ]
     },
     "execution_count": 62,
     "metadata": {},
     "output_type": "execute_result"
    }
   ],
   "source": [
    "state"
   ]
  },
  {
   "cell_type": "code",
   "execution_count": 60,
   "metadata": {},
   "outputs": [
    {
     "data": {
      "text/plain": [
       "(array([0, 1, 1, 1]),\n",
       " array([ 9.23204540e-18, -5.41258007e-18,  5.57630488e-01]),\n",
       " array([[ 1.00000000e+00, -6.94160846e-17, -3.38010295e-18],\n",
       "        [-6.67015326e-19,  1.00000000e+00, -2.95931133e-19],\n",
       "        [ 8.32667268e-16,  1.43062525e-15,  1.00000000e+00]]),\n",
       " 1.17775)"
      ]
     },
     "execution_count": 60,
     "metadata": {},
     "output_type": "execute_result"
    }
   ],
   "source": [
    "doStep(actionsData,state,ratio)"
   ]
  },
  {
   "cell_type": "code",
   "execution_count": 49,
   "metadata": {},
   "outputs": [],
   "source": [
    "\n",
    "for t in range(perturbingSteps):\n",
    "    newState,delta,rotation,deltat = doStep(actionsData,state,ratio)\n",
    "    state = newState\n",
    "    pertrubingPose += perturbingRotation @ delta\n",
    "    perturbingRotation = rotation @ perturbingRotation\n",
    "    pertrubingPoses[t] = pertrubingPose\n",
    "    time += deltat\n",
    "    pertrubingTimes[t] = time"
   ]
  },
  {
   "cell_type": "code",
   "execution_count": 7,
   "metadata": {},
   "outputs": [],
   "source": [
    "\n",
    "@njit\n",
    "def getDeltat(t1,t2,t3,t4,tc):\n",
    "    tav = 18.844\n",
    "    return (tav/tc)/(((1/t1 + 1/t2 + 1/t3 + 1/t4)**2))\n"
   ]
  },
  {
   "cell_type": "code",
   "execution_count": 8,
   "metadata": {},
   "outputs": [],
   "source": [
    "\n",
    "\n",
    "@njit\n",
    "def getDeltat2(t1,t2,t3,t4):\n",
    "    return 1/(1/t1 + 1/t2 + 1/t3 + 1/t4)\n",
    "\n"
   ]
  },
  {
   "cell_type": "code",
   "execution_count": 9,
   "metadata": {},
   "outputs": [],
   "source": [
    "\n",
    "@njit\n",
    "def getBinary(a):\n",
    "    return np.array([a//8,(a%8)//4,(a%4)//2,a%2])\n",
    "\n"
   ]
  },
  {
   "cell_type": "code",
   "execution_count": 10,
   "metadata": {},
   "outputs": [],
   "source": [
    "\n",
    "@njit \n",
    "def fromBinary(binary):\n",
    "    x = 0\n",
    "    for i in range(len(binary)):\n",
    "        x += binary[::-1][i]*(2**i)\n",
    "    return x\n"
   ]
  },
  {
   "cell_type": "code",
   "execution_count": 11,
   "metadata": {},
   "outputs": [],
   "source": [
    "\n",
    "\n",
    "\n",
    "\n",
    "@njit\n",
    "def perturbe(Data,perturbingSteps,ratio):\n",
    "    time = 0\n",
    "    pertrubingPose = np.array([0.,0.,0.])\n",
    "    perturbingRotation = np.eye(3)\n",
    "    state = np.ones(4,dtype=np.int64)\n",
    "    pertrubingPoses = np.zeros((perturbingSteps,3))\n",
    "    pertrubingTimes = np.zeros(perturbingSteps)\n",
    "        \n",
    "    for t in range(perturbingSteps):\n",
    "        newState,delta,rotation,deltat = doStep(Data,state,ratio)\n",
    "        state = newState\n",
    "        pertrubingPose += perturbingRotation @ delta\n",
    "        perturbingRotation = rotation @ perturbingRotation\n",
    "        pertrubingPoses[t] = pertrubingPose\n",
    "        time += deltat\n",
    "        pertrubingTimes[t] = time\n",
    "        \n",
    "    return pertrubingPoses,pertrubingTimes\n"
   ]
  },
  {
   "cell_type": "code",
   "execution_count": null,
   "metadata": {},
   "outputs": [],
   "source": [
    "\n",
    "\n",
    "# @njit\n",
    "# def getPerturbingDiffusionCoefForRatio(Data,ratio,iterations=1000,perturbingSteps=1000):\n",
    "#     # iterations = 10_00\n",
    "#     # perturbingSteps = 10_00\n",
    "#     meanFinalPoses = np.zeros((perturbingSteps))\n",
    "#     meanFinalTimes = np.zeros(perturbingSteps)\n",
    "#     for iteration in range(iterations):\n",
    "#         pertrubingPoses,pertrubingTimes = perturbe(Data,perturbingSteps,ratio)\n",
    "#         #print(np.sum(np.square(pertrubingPoses[:]),axis=1).shape,meanFinalPoses.shape)\n",
    "#         meanFinalPoses +=   np.sum(np.square(pertrubingPoses[:]),axis=1)\n",
    "#         meanFinalTimes += pertrubingTimes\n",
    "#         #print(iteration)\n",
    "     \n",
    "#     return meanFinalTimes/iterations,meanFinalPoses/iterations\n",
    "\n",
    "# def getPerturbingDiffusionCoef(Data,ratios,iterations=1000,perturbingSteps=1000):\n",
    "#     diffs =np.zeros(ratios.shape)\n",
    "#     for i in range(ratios.shape[0]):\n",
    "#         print(i)\n",
    "#         meanFinalTimes,meanFinalPoses= getPerturbingDiffusionCoefForRatio(Data,ratios[i],iterations,perturbingSteps)\n",
    "#         slope, intercept, r_value, p_value, std_err = scipy.stats.linregress(meanFinalPoses,meanFinalTimes)\n",
    "#         diffs[i] =  slope \n",
    "#     return diffs\n",
    "\n"
   ]
  },
  {
   "cell_type": "code",
   "execution_count": null,
   "metadata": {},
   "outputs": [],
   "source": [
    "\n",
    "\n",
    "def getPerturbingDiffusionCoefForRatio(Data,ratio,iterations=1000,perturbingSteps=1000):\n",
    "    iterationDiffs = np.zeros(iterations)\n",
    "    for iteration in range(iterations):\n",
    "        pertrubingPoses,pertrubingTimes = perturbe(Data,perturbingSteps,ratio)\n",
    "\n",
    "\n",
    "        slope, intercept, r_value, p_value, std_err = scipy.stats.linregress(pertrubingTimes,np.sum(np.square(pertrubingPoses),axis=1))\n",
    "        iterationDiffs[iteration] =  slope \n",
    "\n",
    "     \n",
    "    return np.mean(iterationDiffs)\n"
   ]
  },
  {
   "cell_type": "code",
   "execution_count": null,
   "metadata": {},
   "outputs": [],
   "source": [
    "\n",
    "def getPerturbingDiffusionCoef(Data,ratios,iterations=1000,perturbingSteps=1000):\n",
    "    diffs =np.zeros(ratios.shape)\n",
    "    for i in range(ratios.shape[0]):\n",
    "        print(i)\n",
    "        diffs[i] = getPerturbingDiffusionCoefForRatio(Data,ratios[i],iterations,perturbingSteps)\n",
    "    return diffs\n",
    "\n"
   ]
  },
  {
   "cell_type": "code",
   "execution_count": null,
   "metadata": {},
   "outputs": [],
   "source": [
    "\n",
    "ratios = np.exp(np.linspace(-5,5,50))\n"
   ]
  },
  {
   "cell_type": "code",
   "execution_count": null,
   "metadata": {},
   "outputs": [],
   "source": [
    "\n",
    "\n",
    "diffs = getPerturbingDiffusionCoef(actionsData,ratios,100,10000)\n"
   ]
  },
  {
   "cell_type": "code",
   "execution_count": null,
   "metadata": {},
   "outputs": [],
   "source": [
    "\n",
    "np.save(\"diffs1\",diffs)\n",
    "plt.plot(np.log(ratios),diffs)\n",
    "plt.savefig(\"plot.png\")\n",
    "plt.show()"
   ]
  }
 ],
 "metadata": {
  "kernelspec": {
   "display_name": "base",
   "language": "python",
   "name": "python3"
  },
  "language_info": {
   "codemirror_mode": {
    "name": "ipython",
    "version": 3
   },
   "file_extension": ".py",
   "mimetype": "text/x-python",
   "name": "python",
   "nbconvert_exporter": "python",
   "pygments_lexer": "ipython3",
   "version": "3.11.3"
  }
 },
 "nbformat": 4,
 "nbformat_minor": 2
}
