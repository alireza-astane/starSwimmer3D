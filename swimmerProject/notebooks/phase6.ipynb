{
 "cells": [
  {
   "cell_type": "code",
   "execution_count": 34,
   "id": "initial_id",
   "metadata": {
    "ExecuteTime": {
     "end_time": "2023-11-19T15:08:03.433860896Z",
     "start_time": "2023-11-19T15:08:00.056517354Z"
    },
    "collapsed": true,
    "jupyter": {
     "outputs_hidden": true
    },
    "tags": []
   },
   "outputs": [],
   "source": [
    "import numba\n",
    "import numpy as np\n",
    "import scipy as sp\n",
    "import matplotlib.pyplot as plt\n",
    "from numba import njit\n",
    "import scipy\n",
    "from scipy.spatial.transform import Rotation as Rot\n",
    "import Swimmer\n",
    "plt.rc('text', usetex=True)\n",
    "import matplotlib\n",
    "matplotlib.rcParams.update({'font.size': 16})"
   ]
  },
  {
   "cell_type": "code",
   "execution_count": 35,
   "id": "b3dda63cf67de684",
   "metadata": {
    "ExecuteTime": {
     "end_time": "2023-11-19T15:08:10.519652307Z",
     "start_time": "2023-11-19T15:08:09.189034808Z"
    },
    "collapsed": false,
    "jupyter": {
     "outputs_hidden": false
    },
    "tags": []
   },
   "outputs": [],
   "source": [
    "T=1\n",
    "R=1\n",
    "a = 10*R\n",
    "epsilons = np.linspace(0.1,5,50)*R\n",
    "\n",
    "steps = 1000\n",
    "nsteps = 1000\n",
    "dt = T/steps\n",
    "#initial positions \n",
    "r0 = np.array([[0, 0, 0],\n",
    "[0, 0, a],\n",
    "[a*np.sqrt(8)/3, 0 , -a/3],\n",
    "[-a*np.sqrt(8)/6, a*np.sqrt(24)/6 , -a/3],\n",
    "[-a*np.sqrt(8)/6, -a*np.sqrt(24)/6, -a/3]])"
   ]
  },
  {
   "cell_type": "code",
   "execution_count": 36,
   "id": "3286bf0972e8e39a",
   "metadata": {
    "ExecuteTime": {
     "end_time": "2023-11-19T15:08:14.617173319Z",
     "start_time": "2023-11-19T15:08:14.456658172Z"
    },
    "collapsed": false,
    "jupyter": {
     "outputs_hidden": false
    },
    "tags": []
   },
   "outputs": [],
   "source": [
    "def getR0(ls):\n",
    "    a1,a2,a3,a4 = ls\n",
    "    \n",
    "    R0 = [[0, 0, 0],\n",
    "    [0, 0, a1],\n",
    "    [a2*np.sqrt(8)/3, 0 , -a2/3],\n",
    "    [-a3*np.sqrt(8)/6, a3*np.sqrt(24)/6 , -a3/3],\n",
    "    [-a4*np.sqrt(8)/6, -a4*np.sqrt(24)/6, -a4/3]]\n",
    "    \n",
    "    return np.array(R0)"
   ]
  },
  {
   "cell_type": "code",
   "execution_count": 37,
   "id": "dc6306fc4a7b12ac",
   "metadata": {
    "ExecuteTime": {
     "end_time": "2023-11-19T15:08:29.457690955Z",
     "start_time": "2023-11-19T15:08:28.303441822Z"
    },
    "collapsed": false,
    "jupyter": {
     "outputs_hidden": false
    },
    "tags": []
   },
   "outputs": [],
   "source": [
    "@njit\n",
    "def getDistanceMatrix(A):   # dij = rj - ri\n",
    "    tiledPoses = tile(A)\n",
    "    distances = tiledPoses - tiledPoses.transpose((1,0,2))\n",
    "    return distances"
   ]
  },
  {
   "cell_type": "code",
   "execution_count": 38,
   "id": "202335aa8d343689",
   "metadata": {
    "ExecuteTime": {
     "end_time": "2023-11-19T15:08:29.566064520Z",
     "start_time": "2023-11-19T15:08:29.297950795Z"
    },
    "collapsed": false,
    "jupyter": {
     "outputs_hidden": false
    },
    "tags": []
   },
   "outputs": [],
   "source": [
    "@njit\n",
    "def tile(x):\n",
    "    tiled = np.zeros((5,5,3))\n",
    "    for i in range(5):\n",
    "        tiled[i,:,:] = x\n",
    "        \n",
    "    return tiled\n"
   ]
  },
  {
   "cell_type": "code",
   "execution_count": 39,
   "id": "52137202b643ba6",
   "metadata": {
    "ExecuteTime": {
     "end_time": "2023-11-19T15:08:32.387505684Z",
     "start_time": "2023-11-19T15:08:31.211470377Z"
    },
    "collapsed": false,
    "jupyter": {
     "outputs_hidden": false
    },
    "tags": []
   },
   "outputs": [],
   "source": [
    "@njit\n",
    "def tile2(x):\n",
    "    tiled = np.zeros((5,5,3,3))\n",
    "    for i in range(3):\n",
    "        for j in range(3):\n",
    "            tiled[:,:,i,j] = x\n",
    "        \n",
    "    return tiled"
   ]
  },
  {
   "cell_type": "code",
   "execution_count": 40,
   "id": "5545838e84a9b63b",
   "metadata": {
    "ExecuteTime": {
     "end_time": "2023-11-19T15:08:32.486142576Z",
     "start_time": "2023-11-19T15:08:32.216888346Z"
    },
    "collapsed": false,
    "jupyter": {
     "outputs_hidden": false
    },
    "tags": []
   },
   "outputs": [],
   "source": [
    "@njit\n",
    "def getO(d):\n",
    "    d2 = d**2    \n",
    "    drNorm = np.sum(d2,axis=2)**0.5\n",
    "            \n",
    "    \n",
    "    I5_5_3_3 = np.zeros((5,5,3,3))\n",
    "\n",
    "    for i in range(5):\n",
    "        for j in range(5):\n",
    "            I5_5_3_3[i,j,:,:] = np.eye(3)\n",
    "\n",
    "    c1 = d.reshape(5,5,3,1)\n",
    "    c2 = c1.transpose(0,1,3,2)    \n",
    "    B = np.multiply(c1,c2)    \n",
    "    c3 = tile2(drNorm)\n",
    "\n",
    "\n",
    "    O = R*(I5_5_3_3 + B/(c3**2))*0.75/c3 #*R/norm(l)\n",
    "    \n",
    "    for i in range(5):  #for i=j\n",
    "        O[i,i,:,:] = np.eye(3)\n",
    "\n",
    "    return O"
   ]
  },
  {
   "cell_type": "code",
   "execution_count": 41,
   "id": "e4b67aad687ebd3d",
   "metadata": {
    "ExecuteTime": {
     "end_time": "2023-11-19T15:08:35.269271739Z",
     "start_time": "2023-11-19T15:08:34.093343368Z"
    },
    "collapsed": false,
    "jupyter": {
     "outputs_hidden": false
    },
    "tags": []
   },
   "outputs": [],
   "source": [
    "@njit\n",
    "def getRR(r):\n",
    "    rr0 = np.array([\n",
    "    \n",
    "    [1, 0, 0, 1, 0, 0, 1, 0, 0, 1, 0, 0, 1, 0, 0],\n",
    "    [0, 1, 0, 0, 1, 0, 0, 1, 0, 0, 1, 0, 0, 1, 0],\n",
    "    [0, 0, 1, 0, 0, 1, 0, 0, 1, 0, 0, 1, 0, 0, 1]])\n",
    "    \n",
    "    \n",
    "    rr1 = np.array([[0, -r[0,2] , r[0,1],  0, -r[1,2] , r[1,1],    0, -r[2,2] , r[2,1], 0, -r[3,2] , r[3,1]   ,0, -r[4,2] , r[4,1]],\n",
    "    [r[0,2], 0 , -r[0,0],   r[1,2], 0 , -r[1,0],  r[2,2], 0 , -r[2,0],  r[3,2], 0 , -r[3,0],  r[4,2], 0 , -r[4,0]],\n",
    "    [-r[0,1], r[0,0], 0 , -r[1,1], r[1,0], 0 , -r[2,1], r[2,0], 0 ,   -r[3,1], r[3,0], 0 ,  -r[4,1], r[4,0], 0 ]])\n",
    "    \n",
    "    \n",
    "\n",
    "\n",
    "    \n",
    "    return np.concatenate((rr0,rr1),axis=0)"
   ]
  },
  {
   "cell_type": "code",
   "execution_count": 42,
   "id": "ebe2efec43f9005",
   "metadata": {
    "ExecuteTime": {
     "end_time": "2023-11-19T15:08:35.394266713Z",
     "start_time": "2023-11-19T15:08:35.120265440Z"
    },
    "collapsed": false,
    "jupyter": {
     "outputs_hidden": false
    },
    "tags": []
   },
   "outputs": [],
   "source": [
    "@njit\n",
    "def getOO(d):\n",
    "    ##Check\n",
    "    k2_3 = np.dot(d[1,0],d[1,0])*np.dot(d[2,0],d[2,0])/np.dot(d[1,0],d[2,0])\n",
    "    k2_4 = np.dot(d[1,0],d[1,0])*np.dot(d[3,0],d[3,0])/np.dot(d[1,0],d[3,0])\n",
    "    k2_5 = np.dot(d[1,0],d[1,0])*np.dot(d[4,0],d[4,0])/np.dot(d[1,0],d[4,0])\n",
    "    k3_4 = np.dot(d[2,0],d[2,0])*np.dot(d[3,0],d[3,0])/np.dot(d[2,0],d[3,0])\n",
    "    k3_5 = np.dot(d[2,0],d[2,0])*np.dot(d[4,0],d[4,0])/np.dot(d[2,0],d[4,0])\n",
    "\n",
    "    p2_3 = np.dot(d[2,0],d[2,0])*d[0,1] - k2_3*d[0,2] \n",
    "    p2_4 = np.dot(d[3,0],d[3,0])*d[0,1] - k2_4*d[0,3] \n",
    "    p2_5 = np.dot(d[4,0],d[4,0])*d[0,1] - k2_5*d[0,4] \n",
    "    p3_4 = np.dot(d[3,0],d[3,0])*d[0,2] - k3_4*d[0,3] \n",
    "    p3_5 = np.dot(d[4,0],d[4,0])*d[0,2] - k3_5*d[0,4] \n",
    "\n",
    "\n",
    "    q2_3 = np.dot(d[1,0],d[1,0])*d[0,2] - k2_3*d[0,1] \n",
    "    q2_4 = np.dot(d[1,0],d[1,0])*d[0,3] - k2_4*d[0,1] \n",
    "    q2_5 = np.dot(d[1,0],d[1,0])*d[0,4] - k2_5*d[0,1] \n",
    "    q3_4 = np.dot(d[2,0],d[2,0])*d[0,3] - k3_4*d[0,2] \n",
    "    q3_5 = np.dot(d[2,0],d[2,0])*d[0,4] - k3_5*d[0,2] \n",
    "    \n",
    "    \n",
    "    OO = np.array([\n",
    "        [d[1,0,0], d[1,0,1], d[1,0,2], -d[1,0,0], -d[1,0,1], -d[1,0,2], 0, 0, 0, 0, 0, 0, 0, 0, 0],\n",
    "    [d[2,0,0], d[2,0,1], d[2,0,2], 0, 0, 0, -d[2,0,0], -d[2,0,1], -d[2,0,2], 0, 0, 0, 0, 0, 0,   ],   \n",
    "    [d[3,0,0], d[3,0,1], d[3,0,2], 0, 0, 0, 0, 0, 0, -d[3,0,0], -d[3,0,1], -d[3,0,2], 0, 0, 0],\n",
    "    [d[4,0,0], d[4,0,1], d[4,0,2], 0, 0, 0, 0, 0, 0, 0, 0, 0, -d[4,0,0], -d[4,0,1], -d[4,0,2]],\n",
    "    \n",
    "    [-p2_3[0] -q2_3[0], -p2_3[1] -q2_3[1], -p2_3[2] -q2_3[2],                p2_3[0], p2_3[1], p2_3[2], q2_3[0], q2_3[1], q2_3[2], 0, 0, 0, 0, 0, 0], #2_3,\n",
    "    [-p2_4[0] -q2_4[0], -p2_4[1] -q2_4[1], -p2_4[2] -q2_4[2],                p2_4[0], p2_4[1], p2_4[2], 0, 0, 0, q2_4[0], q2_4[1], q2_4[2], 0, 0, 0],  #2_4,\n",
    "    [-p2_5[0] -q2_5[0], -p2_5[1] -q2_5[1], -p2_5[2] -q2_5[2],                p2_5[0], p2_5[1], p2_5[2], 0, 0, 0, 0, 0, 0, q2_5[0], q2_5[1], q2_5[2]], #2_5\n",
    "    [-p3_4[0] -q3_4[0], -p3_4[1] -q3_4[1], -p3_4[2] -q3_4[2],                0, 0, 0, p3_4[0], p3_4[1], p3_4[2], q3_4[0], q3_4[1], q3_4[2], 0, 0, 0],  #3_4\n",
    "    [-p3_5[0] -q3_5[0], -p3_5[1] -q3_5[1], -p3_5[2] -q3_5[2],                0, 0, 0, p3_5[0], p3_5[1], p3_5[2], 0, 0, 0, q3_5[0], q3_5[1], q3_5[2]] #3_5\n",
    "    \n",
    "    ])\n",
    "    \n",
    "    return OO\n"
   ]
  },
  {
   "cell_type": "code",
   "execution_count": 43,
   "id": "112b4759ba73515f",
   "metadata": {
    "ExecuteTime": {
     "end_time": "2023-11-19T15:08:38.146777473Z",
     "start_time": "2023-11-19T15:08:37.027371778Z"
    },
    "collapsed": false,
    "jupyter": {
     "outputs_hidden": false
    },
    "tags": []
   },
   "outputs": [],
   "source": [
    "@njit\n",
    "def getC(l,u):\n",
    "    lu = np.zeros(4)\n",
    "    for i in range(4):\n",
    "        lu[i]= (l[i]*u[i])\n",
    "        \n",
    "    \n",
    "    return np.array([*list(lu), 0,0,0,0,0,0,0,0, 0,0,0])  \n",
    "\n",
    "#  u -> u/steps maybe"
   ]
  },
  {
   "cell_type": "code",
   "execution_count": 44,
   "id": "c55b4dae6549a591",
   "metadata": {
    "ExecuteTime": {
     "end_time": "2023-11-19T15:08:38.270428739Z",
     "start_time": "2023-11-19T15:08:38.020045966Z"
    },
    "collapsed": false,
    "jupyter": {
     "outputs_hidden": false
    },
    "tags": []
   },
   "outputs": [],
   "source": [
    "def getV(r,l,u):\n",
    "    d = getDistanceMatrix(r)\n",
    "\n",
    "    O = getO(d)\n",
    "    newO = np.zeros((15,15))\n",
    "    for i in range(5):\n",
    "        for j in range(5):\n",
    "            newO[3*i:3*i+3,3*j:3*j+3] = O[i,j]\n",
    "        \n",
    "    rr= getRR(r)\n",
    "    mm = np.linalg.inv(newO)\n",
    "\n",
    "\n",
    "    NN = np.matmul(rr,mm)\n",
    "    OO = getOO(d)\n",
    "    AA = np.concatenate((OO,NN),axis=0)\n",
    "    \n",
    "    \n",
    "    \n",
    "\n",
    "    BB = getC(l,u)\n",
    "    \n",
    "    return np.linalg.solve(AA,BB)\n",
    "        \n",
    "        \n",
    "        "
   ]
  },
  {
   "cell_type": "code",
   "execution_count": 45,
   "id": "6de63aa68f9d19c",
   "metadata": {
    "ExecuteTime": {
     "end_time": "2023-11-19T15:08:41.108201560Z",
     "start_time": "2023-11-19T15:08:40.945186240Z"
    },
    "collapsed": false,
    "jupyter": {
     "outputs_hidden": false
    },
    "tags": []
   },
   "outputs": [],
   "source": [
    "def step(r,L):\n",
    "    for t in range(nsteps):\n",
    "        try:\n",
    "            U = L[:,t+1]-L[:,t]\n",
    "        except IndexError:\n",
    "            U = L[:,t]-L[:,t-1]\n",
    "            \n",
    "        v = getV(r,L[:,t],U).reshape((5,3))\n",
    "        \n",
    "        r += v  ##########\n",
    "        \n",
    "        \n",
    "    return r    "
   ]
  },
  {
   "cell_type": "code",
   "execution_count": null,
   "id": "3fdf09459a371b71",
   "metadata": {
    "ExecuteTime": {
     "end_time": "2023-11-15T22:40:12.474502609Z",
     "start_time": "2023-11-15T22:40:12.243602422Z"
    },
    "collapsed": false,
    "jupyter": {
     "outputs_hidden": false
    },
    "tags": []
   },
   "outputs": [],
   "source": [
    "def act(L):\n",
    "    r = getR0(L[:,0])\n",
    "    r_final = step(r.copy(),L)\n",
    "    delta = list(r_final - r)[0]\n",
    "    return r_final,delta,np.matmul(getE(r_final), np.linalg.inv(getE(r)))"
   ]
  },
  {
   "cell_type": "code",
   "execution_count": 47,
   "id": "990e8fbd705657f6",
   "metadata": {
    "ExecuteTime": {
     "end_time": "2023-11-15T22:40:14.513610378Z",
     "start_time": "2023-11-15T22:40:14.365381350Z"
    },
    "collapsed": false,
    "jupyter": {
     "outputs_hidden": false
    },
    "tags": []
   },
   "outputs": [],
   "source": [
    "def getE(r):\n",
    "    e1 = ((r[1]-r[0])/np.linalg.norm((r[1]-r[0]))).reshape((3,1))\n",
    "    e2 = ((r[2]-r[0])/np.linalg.norm((r[2]-r[0]))).reshape((3,1))\n",
    "    e3 = ((r[3]-r[0])/np.linalg.norm((r[3]-r[0]))).reshape((3,1))\n",
    "    \n",
    "    return np.concatenate((e1,e2,e3),axis=1)\n",
    "    "
   ]
  },
  {
   "cell_type": "markdown",
   "id": "9891cf3a26137b1d",
   "metadata": {},
   "source": [
    "### Saving Data for epsilon = 3 "
   ]
  },
  {
   "cell_type": "code",
   "execution_count": null,
   "id": "82fb20b85699e001",
   "metadata": {
    "ExecuteTime": {
     "end_time": "2023-11-13T08:04:20.365069434Z",
     "start_time": "2023-11-13T08:04:20.216488019Z"
    },
    "collapsed": false,
    "jupyter": {
     "outputs_hidden": false
    },
    "tags": []
   },
   "outputs": [],
   "source": [
    "@njit\n",
    "def getAction(state,ratio):\n",
    "    #t=1 if state=0 and t = ratio if state = 1   ???\n",
    "    t1,t2,t3,t4 = np.where(state==0,1,ratio)\n",
    "    sum = t1*t2*t3 + t1*t2*t4 + t1*t3*t4 + t2*t3*t4\n",
    "    #probs = np.array([t2*t3*t4/sum,t1*t3*t4/sum,t1*t2*t4/sum,t2*t3*t1/sum])\n",
    "    randomNumber = np.random.uniform(0,1,1)\n",
    "    if randomNumber <= t4*t2*t3/sum:\n",
    "        changingJoint = 0\n",
    "    elif(randomNumber <= (t4*t3*t1+t4*t2*t3)/sum):  \n",
    "        changingJoint = 1\n",
    "    elif randomNumber <= (t4*t2*t1+t4*t2*t3+t4*t3*t1)/sum:\n",
    "        changingJoint = 2\n",
    "    else:\n",
    "        changingJoint = 3\n",
    "\n",
    "\n",
    "\n",
    "    return changingJoint,getDeltat2(t1,t2,t3,t4)\n",
    "\n",
    "\n",
    "@njit\n",
    "def doStep(Data,state,ratio):\n",
    "    action,deltat = getAction(state,ratio)\n",
    "    new_state = state.copy()\n",
    "    new_state[action] = 1 - new_state[action]\n",
    "    delta = Data[fromBinary(state)*4 + action][0,:]  #???\n",
    "    rotation = Data[fromBinary(state)*4 + action][1:,:]\n",
    "    return new_state,delta,rotation,deltat\n"
   ]
  },
  {
   "cell_type": "code",
   "execution_count": 49,
   "id": "7aa20abef8e2ff3b",
   "metadata": {
    "ExecuteTime": {
     "end_time": "2023-11-07T14:36:27.863944766Z",
     "start_time": "2023-11-07T14:36:26.297211844Z"
    },
    "collapsed": false,
    "jupyter": {
     "outputs_hidden": false
    },
    "tags": []
   },
   "outputs": [],
   "source": [
    "states = np.zeros((10,4),dtype=np.int64)\n"
   ]
  },
  {
   "cell_type": "code",
   "execution_count": 50,
   "id": "bbf5972b06e5f8d4",
   "metadata": {
    "ExecuteTime": {
     "end_time": "2023-11-13T08:04:23.898185522Z",
     "start_time": "2023-11-13T08:04:23.738547371Z"
    },
    "collapsed": false,
    "jupyter": {
     "outputs_hidden": false
    },
    "tags": []
   },
   "outputs": [],
   "source": [
    "@njit\n",
    "def getDeltat(t1,t2,t3,t4,tc):\n",
    "    tav = 18.844\n",
    "    return ((1-1/(tav*t1))*(1-1/(tav*t2))*(1-1/(tav*t3))*(1-1/(tav*t4))*tav/tc)/(((1/t1 + 1/t2 + 1/t3 + 1/t4)**2)*(1-1/(tav*tc)))"
   ]
  },
  {
   "cell_type": "code",
   "execution_count": 51,
   "id": "3506222a9b9e903",
   "metadata": {
    "ExecuteTime": {
     "end_time": "2023-11-13T08:04:24.011632459Z",
     "start_time": "2023-11-13T08:04:23.779883537Z"
    },
    "collapsed": false,
    "jupyter": {
     "outputs_hidden": false
    },
    "tags": []
   },
   "outputs": [],
   "source": [
    "@njit\n",
    "def getDeltat2(t1,t2,t3,t4):\n",
    "    return 1/(1/t1 + 1/t2 + 1/t3 + 1/t4)"
   ]
  },
  {
   "cell_type": "markdown",
   "id": "43c7f78870e1a954",
   "metadata": {},
   "source": [
    "## P(t1,t2,t3,t4) = t2*t3*t4/(t1*t2*t3 + t1*t2*t4 + t1*t3*t4 + t2*t3*t4)"
   ]
  },
  {
   "cell_type": "code",
   "execution_count": 52,
   "id": "27ec449786628e56",
   "metadata": {
    "ExecuteTime": {
     "end_time": "2023-11-13T08:04:25.939734388Z",
     "start_time": "2023-11-13T08:04:25.843249703Z"
    },
    "collapsed": false,
    "jupyter": {
     "outputs_hidden": false
    },
    "tags": []
   },
   "outputs": [],
   "source": [
    "@njit\n",
    "def getBinary(int: a):\n",
    "    return np.array([int//8,(int%8)//4,(int%4)//2,int%2])\n",
    "@njit \n",
    "def fromBinary(binary):\n",
    "    x = 0\n",
    "    for i in range(len(binary)):\n",
    "        x += binary[::-1][i]*(2**i)\n",
    "    return x\n",
    "\n",
    "@njit \n",
    "def fromBinary2d(binaries):\n",
    "    x = np.zeros(binaries.shape[0],dtype=np.int64)\n",
    "    for i in range(binaries.shape[0]):\n",
    "        x[i] = fromBinary(binaries[i])\n",
    "    return x"
   ]
  },
  {
   "cell_type": "code",
   "execution_count": 53,
   "id": "af148ddd36114006",
   "metadata": {
    "ExecuteTime": {
     "end_time": "2023-11-13T08:04:29.358643073Z",
     "start_time": "2023-11-13T08:04:29.256629610Z"
    },
    "collapsed": false,
    "jupyter": {
     "outputs_hidden": false
    },
    "tags": []
   },
   "outputs": [],
   "source": [
    "def getAllPossibleActions(a,epsilon,steps):\n",
    "    \n",
    "    closing = a - np.arange(steps+1)*epsilon/steps\n",
    "    closed = (a-epsilon)*np.ones(steps+1)\n",
    "    opening = a - epsilon + np.arange(steps+1)*epsilon/steps\n",
    "    opened  = a *np.ones(steps+1)\n",
    "    \n",
    "    possibleActions = np.zeros((64,4,steps+1))\n",
    "    \n",
    "    \n",
    "    \n",
    "    for i in range(16):\n",
    "        for j in range(4):\n",
    "            actionBinaryState = getBinary(i)\n",
    "            # closed for 0 and opened for 1 \n",
    "            ca = np.array([closed,closed,closed,closed])*actionBinaryState.reshape(4,1) + np.array([opened,opened,opened,opened])*(1-actionBinaryState).reshape(4,1)\n",
    "            if actionBinaryState[j] == 0:\n",
    "                ca[j,:] = opening\n",
    "            else:\n",
    "                ca[j,:] = closing\n",
    "                \n",
    "            possibleActions[4*i+j] = ca \n",
    "        \n",
    "    return possibleActions"
   ]
  },
  {
   "cell_type": "code",
   "execution_count": 80,
   "id": "9c43847d379e8812",
   "metadata": {
    "ExecuteTime": {
     "end_time": "2023-11-13T08:04:29.539849850Z",
     "start_time": "2023-11-13T08:04:29.295825085Z"
    },
    "collapsed": false,
    "jupyter": {
     "outputs_hidden": false
    },
    "tags": []
   },
   "outputs": [],
   "source": [
    "epsilon = 3\n",
    "allPossbileActions = getAllPossibleActions(a,epsilon, steps)\n",
    "np.save(\"allPossbileActions\",allPossbileActions)"
   ]
  },
  {
   "cell_type": "code",
   "execution_count": 54,
   "id": "2413a934",
   "metadata": {},
   "outputs": [],
   "source": [
    "allPossbileActions = np.load(\"allPossbileActions.npy\")"
   ]
  },
  {
   "cell_type": "markdown",
   "id": "c17981984b039034",
   "metadata": {},
   "source": [
    "## Data Collection for epsilon = 3"
   ]
  },
  {
   "cell_type": "code",
   "execution_count": 82,
   "id": "c461fe60d235129b",
   "metadata": {
    "ExecuteTime": {
     "end_time": "2023-11-13T08:04:38.527493132Z",
     "start_time": "2023-11-13T08:04:33.942386941Z"
    },
    "collapsed": false,
    "jupyter": {
     "outputs_hidden": false
    },
    "tags": []
   },
   "outputs": [
    {
     "name": "stdout",
     "output_type": "stream",
     "text": [
      "0\n",
      "1\n",
      "2\n",
      "3\n",
      "4\n",
      "5\n",
      "6\n",
      "7\n",
      "8\n",
      "9\n",
      "10\n",
      "11\n",
      "12\n",
      "13\n",
      "14\n",
      "15\n",
      "16\n",
      "17\n",
      "18\n",
      "19\n",
      "20\n",
      "21\n",
      "22\n",
      "23\n",
      "24\n",
      "25\n",
      "26\n",
      "27\n",
      "28\n",
      "29\n",
      "30\n",
      "31\n",
      "32\n",
      "33\n",
      "34\n",
      "35\n",
      "36\n",
      "37\n",
      "38\n",
      "39\n",
      "40\n",
      "41\n",
      "42\n",
      "43\n",
      "44\n",
      "45\n",
      "46\n",
      "47\n",
      "48\n",
      "49\n",
      "50\n",
      "51\n",
      "52\n",
      "53\n",
      "54\n",
      "55\n",
      "56\n",
      "57\n",
      "58\n",
      "59\n",
      "60\n",
      "61\n",
      "62\n",
      "63\n"
     ]
    }
   ],
   "source": [
    "actionsData = np.zeros((64,4,3))\n",
    "\n",
    "for i in range(64):\n",
    "    print(i)\n",
    "    _,delta,Rotation = act(allPossbileActions[i])\n",
    "    actionsData[i,0,:] = delta\n",
    "    actionsData[i,1:4,:] = Rotation\n",
    "    \n",
    "np.save(\"actionDatasForE=3\",actionsData)"
   ]
  },
  {
   "cell_type": "code",
   "execution_count": 55,
   "id": "9fd14652",
   "metadata": {},
   "outputs": [],
   "source": [
    "actionsData = np.load(\"actionDatasForE=3.npy\")"
   ]
  },
  {
   "cell_type": "code",
   "execution_count": 56,
   "id": "4435863f54d07a56",
   "metadata": {
    "ExecuteTime": {
     "end_time": "2023-11-13T08:04:54.329167385Z",
     "start_time": "2023-11-13T08:04:54.251610833Z"
    },
    "collapsed": false,
    "jupyter": {
     "outputs_hidden": false
    },
    "tags": []
   },
   "outputs": [],
   "source": [
    "@njit\n",
    "def perturbe(Data,perturbingSteps,ratio):\n",
    "    time = 0\n",
    "    pertrubingPose = np.array([0.,0.,0.])\n",
    "    perturbingRotation = np.eye(3)\n",
    "    state = np.ones(4,dtype=np.int64)\n",
    "    pertrubingPoses = np.zeros((perturbingSteps,3))\n",
    "    pertrubingTimes = np.zeros(perturbingSteps)\n",
    "        \n",
    "    for t in range(perturbingSteps):\n",
    "        newState,delta,rotation,deltat = doStep(Data,state,ratio)\n",
    "        state = newState\n",
    "        pertrubingPose += perturbingRotation @ delta\n",
    "        perturbingRotation = rotation @ perturbingRotation\n",
    "        pertrubingPoses[t] = pertrubingPose\n",
    "        time += deltat\n",
    "        pertrubingTimes[t] = time\n",
    "        \n",
    "    return pertrubingPoses,pertrubingTimes"
   ]
  },
  {
   "cell_type": "code",
   "execution_count": 57,
   "id": "a76fd159cfcf962d",
   "metadata": {
    "ExecuteTime": {
     "end_time": "2023-11-07T11:38:21.091690251Z",
     "start_time": "2023-11-07T11:38:14.405838032Z"
    },
    "collapsed": false,
    "jupyter": {
     "outputs_hidden": false
    },
    "tags": []
   },
   "outputs": [
    {
     "data": {
      "text/plain": [
       "(array([[ 4.37962714e-18,  4.49481998e-18,  5.57630488e-01],\n",
       "        [-2.63008484e-01,  4.55544056e-01,  3.74065100e-01],\n",
       "        [-5.27876500e-01,  7.34256847e-03,  1.90266624e-01],\n",
       "        ...,\n",
       "        [-1.89362601e-01, -2.12262708e-02,  1.32324864e-01],\n",
       "        [ 2.95639807e-01, -1.58359970e-01, -1.06225114e-01],\n",
       "        [ 3.67840523e-01, -1.14676477e-01,  4.44481143e-01]]),\n",
       " array([  0.25,   0.5 ,   0.75,   1.  ,   1.25,   1.5 ,   1.75,   2.  ,\n",
       "          2.25,   2.5 ,   2.75,   3.  ,   3.25,   3.5 ,   3.75,   4.  ,\n",
       "          4.25,   4.5 ,   4.75,   5.  ,   5.25,   5.5 ,   5.75,   6.  ,\n",
       "          6.25,   6.5 ,   6.75,   7.  ,   7.25,   7.5 ,   7.75,   8.  ,\n",
       "          8.25,   8.5 ,   8.75,   9.  ,   9.25,   9.5 ,   9.75,  10.  ,\n",
       "         10.25,  10.5 ,  10.75,  11.  ,  11.25,  11.5 ,  11.75,  12.  ,\n",
       "         12.25,  12.5 ,  12.75,  13.  ,  13.25,  13.5 ,  13.75,  14.  ,\n",
       "         14.25,  14.5 ,  14.75,  15.  ,  15.25,  15.5 ,  15.75,  16.  ,\n",
       "         16.25,  16.5 ,  16.75,  17.  ,  17.25,  17.5 ,  17.75,  18.  ,\n",
       "         18.25,  18.5 ,  18.75,  19.  ,  19.25,  19.5 ,  19.75,  20.  ,\n",
       "         20.25,  20.5 ,  20.75,  21.  ,  21.25,  21.5 ,  21.75,  22.  ,\n",
       "         22.25,  22.5 ,  22.75,  23.  ,  23.25,  23.5 ,  23.75,  24.  ,\n",
       "         24.25,  24.5 ,  24.75,  25.  ,  25.25,  25.5 ,  25.75,  26.  ,\n",
       "         26.25,  26.5 ,  26.75,  27.  ,  27.25,  27.5 ,  27.75,  28.  ,\n",
       "         28.25,  28.5 ,  28.75,  29.  ,  29.25,  29.5 ,  29.75,  30.  ,\n",
       "         30.25,  30.5 ,  30.75,  31.  ,  31.25,  31.5 ,  31.75,  32.  ,\n",
       "         32.25,  32.5 ,  32.75,  33.  ,  33.25,  33.5 ,  33.75,  34.  ,\n",
       "         34.25,  34.5 ,  34.75,  35.  ,  35.25,  35.5 ,  35.75,  36.  ,\n",
       "         36.25,  36.5 ,  36.75,  37.  ,  37.25,  37.5 ,  37.75,  38.  ,\n",
       "         38.25,  38.5 ,  38.75,  39.  ,  39.25,  39.5 ,  39.75,  40.  ,\n",
       "         40.25,  40.5 ,  40.75,  41.  ,  41.25,  41.5 ,  41.75,  42.  ,\n",
       "         42.25,  42.5 ,  42.75,  43.  ,  43.25,  43.5 ,  43.75,  44.  ,\n",
       "         44.25,  44.5 ,  44.75,  45.  ,  45.25,  45.5 ,  45.75,  46.  ,\n",
       "         46.25,  46.5 ,  46.75,  47.  ,  47.25,  47.5 ,  47.75,  48.  ,\n",
       "         48.25,  48.5 ,  48.75,  49.  ,  49.25,  49.5 ,  49.75,  50.  ,\n",
       "         50.25,  50.5 ,  50.75,  51.  ,  51.25,  51.5 ,  51.75,  52.  ,\n",
       "         52.25,  52.5 ,  52.75,  53.  ,  53.25,  53.5 ,  53.75,  54.  ,\n",
       "         54.25,  54.5 ,  54.75,  55.  ,  55.25,  55.5 ,  55.75,  56.  ,\n",
       "         56.25,  56.5 ,  56.75,  57.  ,  57.25,  57.5 ,  57.75,  58.  ,\n",
       "         58.25,  58.5 ,  58.75,  59.  ,  59.25,  59.5 ,  59.75,  60.  ,\n",
       "         60.25,  60.5 ,  60.75,  61.  ,  61.25,  61.5 ,  61.75,  62.  ,\n",
       "         62.25,  62.5 ,  62.75,  63.  ,  63.25,  63.5 ,  63.75,  64.  ,\n",
       "         64.25,  64.5 ,  64.75,  65.  ,  65.25,  65.5 ,  65.75,  66.  ,\n",
       "         66.25,  66.5 ,  66.75,  67.  ,  67.25,  67.5 ,  67.75,  68.  ,\n",
       "         68.25,  68.5 ,  68.75,  69.  ,  69.25,  69.5 ,  69.75,  70.  ,\n",
       "         70.25,  70.5 ,  70.75,  71.  ,  71.25,  71.5 ,  71.75,  72.  ,\n",
       "         72.25,  72.5 ,  72.75,  73.  ,  73.25,  73.5 ,  73.75,  74.  ,\n",
       "         74.25,  74.5 ,  74.75,  75.  ,  75.25,  75.5 ,  75.75,  76.  ,\n",
       "         76.25,  76.5 ,  76.75,  77.  ,  77.25,  77.5 ,  77.75,  78.  ,\n",
       "         78.25,  78.5 ,  78.75,  79.  ,  79.25,  79.5 ,  79.75,  80.  ,\n",
       "         80.25,  80.5 ,  80.75,  81.  ,  81.25,  81.5 ,  81.75,  82.  ,\n",
       "         82.25,  82.5 ,  82.75,  83.  ,  83.25,  83.5 ,  83.75,  84.  ,\n",
       "         84.25,  84.5 ,  84.75,  85.  ,  85.25,  85.5 ,  85.75,  86.  ,\n",
       "         86.25,  86.5 ,  86.75,  87.  ,  87.25,  87.5 ,  87.75,  88.  ,\n",
       "         88.25,  88.5 ,  88.75,  89.  ,  89.25,  89.5 ,  89.75,  90.  ,\n",
       "         90.25,  90.5 ,  90.75,  91.  ,  91.25,  91.5 ,  91.75,  92.  ,\n",
       "         92.25,  92.5 ,  92.75,  93.  ,  93.25,  93.5 ,  93.75,  94.  ,\n",
       "         94.25,  94.5 ,  94.75,  95.  ,  95.25,  95.5 ,  95.75,  96.  ,\n",
       "         96.25,  96.5 ,  96.75,  97.  ,  97.25,  97.5 ,  97.75,  98.  ,\n",
       "         98.25,  98.5 ,  98.75,  99.  ,  99.25,  99.5 ,  99.75, 100.  ,\n",
       "        100.25, 100.5 , 100.75, 101.  , 101.25, 101.5 , 101.75, 102.  ,\n",
       "        102.25, 102.5 , 102.75, 103.  , 103.25, 103.5 , 103.75, 104.  ,\n",
       "        104.25, 104.5 , 104.75, 105.  , 105.25, 105.5 , 105.75, 106.  ,\n",
       "        106.25, 106.5 , 106.75, 107.  , 107.25, 107.5 , 107.75, 108.  ,\n",
       "        108.25, 108.5 , 108.75, 109.  , 109.25, 109.5 , 109.75, 110.  ,\n",
       "        110.25, 110.5 , 110.75, 111.  , 111.25, 111.5 , 111.75, 112.  ,\n",
       "        112.25, 112.5 , 112.75, 113.  , 113.25, 113.5 , 113.75, 114.  ,\n",
       "        114.25, 114.5 , 114.75, 115.  , 115.25, 115.5 , 115.75, 116.  ,\n",
       "        116.25, 116.5 , 116.75, 117.  , 117.25, 117.5 , 117.75, 118.  ,\n",
       "        118.25, 118.5 , 118.75, 119.  , 119.25, 119.5 , 119.75, 120.  ,\n",
       "        120.25, 120.5 , 120.75, 121.  , 121.25, 121.5 , 121.75, 122.  ,\n",
       "        122.25, 122.5 , 122.75, 123.  , 123.25, 123.5 , 123.75, 124.  ,\n",
       "        124.25, 124.5 , 124.75, 125.  , 125.25, 125.5 , 125.75, 126.  ,\n",
       "        126.25, 126.5 , 126.75, 127.  , 127.25, 127.5 , 127.75, 128.  ,\n",
       "        128.25, 128.5 , 128.75, 129.  , 129.25, 129.5 , 129.75, 130.  ,\n",
       "        130.25, 130.5 , 130.75, 131.  , 131.25, 131.5 , 131.75, 132.  ,\n",
       "        132.25, 132.5 , 132.75, 133.  , 133.25, 133.5 , 133.75, 134.  ,\n",
       "        134.25, 134.5 , 134.75, 135.  , 135.25, 135.5 , 135.75, 136.  ,\n",
       "        136.25, 136.5 , 136.75, 137.  , 137.25, 137.5 , 137.75, 138.  ,\n",
       "        138.25, 138.5 , 138.75, 139.  , 139.25, 139.5 , 139.75, 140.  ,\n",
       "        140.25, 140.5 , 140.75, 141.  , 141.25, 141.5 , 141.75, 142.  ,\n",
       "        142.25, 142.5 , 142.75, 143.  , 143.25, 143.5 , 143.75, 144.  ,\n",
       "        144.25, 144.5 , 144.75, 145.  , 145.25, 145.5 , 145.75, 146.  ,\n",
       "        146.25, 146.5 , 146.75, 147.  , 147.25, 147.5 , 147.75, 148.  ,\n",
       "        148.25, 148.5 , 148.75, 149.  , 149.25, 149.5 , 149.75, 150.  ,\n",
       "        150.25, 150.5 , 150.75, 151.  , 151.25, 151.5 , 151.75, 152.  ,\n",
       "        152.25, 152.5 , 152.75, 153.  , 153.25, 153.5 , 153.75, 154.  ,\n",
       "        154.25, 154.5 , 154.75, 155.  , 155.25, 155.5 , 155.75, 156.  ,\n",
       "        156.25, 156.5 , 156.75, 157.  , 157.25, 157.5 , 157.75, 158.  ,\n",
       "        158.25, 158.5 , 158.75, 159.  , 159.25, 159.5 , 159.75, 160.  ,\n",
       "        160.25, 160.5 , 160.75, 161.  , 161.25, 161.5 , 161.75, 162.  ,\n",
       "        162.25, 162.5 , 162.75, 163.  , 163.25, 163.5 , 163.75, 164.  ,\n",
       "        164.25, 164.5 , 164.75, 165.  , 165.25, 165.5 , 165.75, 166.  ,\n",
       "        166.25, 166.5 , 166.75, 167.  , 167.25, 167.5 , 167.75, 168.  ,\n",
       "        168.25, 168.5 , 168.75, 169.  , 169.25, 169.5 , 169.75, 170.  ,\n",
       "        170.25, 170.5 , 170.75, 171.  , 171.25, 171.5 , 171.75, 172.  ,\n",
       "        172.25, 172.5 , 172.75, 173.  , 173.25, 173.5 , 173.75, 174.  ,\n",
       "        174.25, 174.5 , 174.75, 175.  , 175.25, 175.5 , 175.75, 176.  ,\n",
       "        176.25, 176.5 , 176.75, 177.  , 177.25, 177.5 , 177.75, 178.  ,\n",
       "        178.25, 178.5 , 178.75, 179.  , 179.25, 179.5 , 179.75, 180.  ,\n",
       "        180.25, 180.5 , 180.75, 181.  , 181.25, 181.5 , 181.75, 182.  ,\n",
       "        182.25, 182.5 , 182.75, 183.  , 183.25, 183.5 , 183.75, 184.  ,\n",
       "        184.25, 184.5 , 184.75, 185.  , 185.25, 185.5 , 185.75, 186.  ,\n",
       "        186.25, 186.5 , 186.75, 187.  , 187.25, 187.5 , 187.75, 188.  ,\n",
       "        188.25, 188.5 , 188.75, 189.  , 189.25, 189.5 , 189.75, 190.  ,\n",
       "        190.25, 190.5 , 190.75, 191.  , 191.25, 191.5 , 191.75, 192.  ,\n",
       "        192.25, 192.5 , 192.75, 193.  , 193.25, 193.5 , 193.75, 194.  ,\n",
       "        194.25, 194.5 , 194.75, 195.  , 195.25, 195.5 , 195.75, 196.  ,\n",
       "        196.25, 196.5 , 196.75, 197.  , 197.25, 197.5 , 197.75, 198.  ,\n",
       "        198.25, 198.5 , 198.75, 199.  , 199.25, 199.5 , 199.75, 200.  ,\n",
       "        200.25, 200.5 , 200.75, 201.  , 201.25, 201.5 , 201.75, 202.  ,\n",
       "        202.25, 202.5 , 202.75, 203.  , 203.25, 203.5 , 203.75, 204.  ,\n",
       "        204.25, 204.5 , 204.75, 205.  , 205.25, 205.5 , 205.75, 206.  ,\n",
       "        206.25, 206.5 , 206.75, 207.  , 207.25, 207.5 , 207.75, 208.  ,\n",
       "        208.25, 208.5 , 208.75, 209.  , 209.25, 209.5 , 209.75, 210.  ,\n",
       "        210.25, 210.5 , 210.75, 211.  , 211.25, 211.5 , 211.75, 212.  ,\n",
       "        212.25, 212.5 , 212.75, 213.  , 213.25, 213.5 , 213.75, 214.  ,\n",
       "        214.25, 214.5 , 214.75, 215.  , 215.25, 215.5 , 215.75, 216.  ,\n",
       "        216.25, 216.5 , 216.75, 217.  , 217.25, 217.5 , 217.75, 218.  ,\n",
       "        218.25, 218.5 , 218.75, 219.  , 219.25, 219.5 , 219.75, 220.  ,\n",
       "        220.25, 220.5 , 220.75, 221.  , 221.25, 221.5 , 221.75, 222.  ,\n",
       "        222.25, 222.5 , 222.75, 223.  , 223.25, 223.5 , 223.75, 224.  ,\n",
       "        224.25, 224.5 , 224.75, 225.  , 225.25, 225.5 , 225.75, 226.  ,\n",
       "        226.25, 226.5 , 226.75, 227.  , 227.25, 227.5 , 227.75, 228.  ,\n",
       "        228.25, 228.5 , 228.75, 229.  , 229.25, 229.5 , 229.75, 230.  ,\n",
       "        230.25, 230.5 , 230.75, 231.  , 231.25, 231.5 , 231.75, 232.  ,\n",
       "        232.25, 232.5 , 232.75, 233.  , 233.25, 233.5 , 233.75, 234.  ,\n",
       "        234.25, 234.5 , 234.75, 235.  , 235.25, 235.5 , 235.75, 236.  ,\n",
       "        236.25, 236.5 , 236.75, 237.  , 237.25, 237.5 , 237.75, 238.  ,\n",
       "        238.25, 238.5 , 238.75, 239.  , 239.25, 239.5 , 239.75, 240.  ,\n",
       "        240.25, 240.5 , 240.75, 241.  , 241.25, 241.5 , 241.75, 242.  ,\n",
       "        242.25, 242.5 , 242.75, 243.  , 243.25, 243.5 , 243.75, 244.  ,\n",
       "        244.25, 244.5 , 244.75, 245.  , 245.25, 245.5 , 245.75, 246.  ,\n",
       "        246.25, 246.5 , 246.75, 247.  , 247.25, 247.5 , 247.75, 248.  ,\n",
       "        248.25, 248.5 , 248.75, 249.  , 249.25, 249.5 , 249.75, 250.  ]))"
      ]
     },
     "execution_count": 57,
     "metadata": {},
     "output_type": "execute_result"
    }
   ],
   "source": [
    "perturbe(actionsData,1000,1)"
   ]
  },
  {
   "cell_type": "code",
   "execution_count": null,
   "id": "c6819fedad996fdf",
   "metadata": {
    "ExecuteTime": {
     "end_time": "2023-11-13T08:05:06.154489492Z",
     "start_time": "2023-11-13T08:05:06.076887428Z"
    },
    "collapsed": false,
    "jupyter": {
     "outputs_hidden": false
    },
    "tags": []
   },
   "outputs": [],
   "source": [
    "@njit\n",
    "def getPerturbingDiffusionCoefForRatio(Data,ratio,iterations=1000,perturbingSteps=1000):\n",
    "    # iterations = 10_00\n",
    "    # perturbingSteps = 10_00\n",
    "    meanFinalPoses = np.zeros((perturbingSteps))\n",
    "    meanFinalTimes = np.zeros(perturbingSteps)\n",
    "    for iteration in range(iterations):\n",
    "        pertrubingPoses,pertrubingTimes = perturbe(Data,perturbingSteps,ratio)\n",
    "        meanFinalTimes += pertrubingTimes\n",
    "     \n",
    "    return meanFinalTimes/iterations,meanFinalPoses/iterations\n",
    "\n",
    "def getPerturbingDiffusionCoef(Data,ratios,iterations=1000,perturbingSteps=1000):\n",
    "    diffs =np.zeros(ratios.shape)\n",
    "    for i in range(ratios.shape[0]):\n",
    "        print(i)\n",
    "        meanFinalTimes,meanFinalPoses= getPerturbingDiffusionCoefForRatio(Data,ratios[i],iterations,perturbingSteps)\n",
    "        slope, intercept, r_value, p_value, std_err = scipy.stats.linregress(meanFinalTimes,meanFinalPoses)\n",
    "        diffs[i] =  slope \n",
    "    return diffs\n"
   ]
  },
  {
   "cell_type": "code",
   "execution_count": 59,
   "id": "ea2cf5ff546a9fc5",
   "metadata": {
    "ExecuteTime": {
     "end_time": "2023-11-07T15:34:14.714796064Z",
     "start_time": "2023-11-07T15:34:05.518774233Z"
    },
    "collapsed": false,
    "jupyter": {
     "outputs_hidden": false
    },
    "tags": []
   },
   "outputs": [
    {
     "data": {
      "text/plain": [
       "(array([  0.25,   0.5 ,   0.75,   1.  ,   1.25,   1.5 ,   1.75,   2.  ,\n",
       "          2.25,   2.5 ,   2.75,   3.  ,   3.25,   3.5 ,   3.75,   4.  ,\n",
       "          4.25,   4.5 ,   4.75,   5.  ,   5.25,   5.5 ,   5.75,   6.  ,\n",
       "          6.25,   6.5 ,   6.75,   7.  ,   7.25,   7.5 ,   7.75,   8.  ,\n",
       "          8.25,   8.5 ,   8.75,   9.  ,   9.25,   9.5 ,   9.75,  10.  ,\n",
       "         10.25,  10.5 ,  10.75,  11.  ,  11.25,  11.5 ,  11.75,  12.  ,\n",
       "         12.25,  12.5 ,  12.75,  13.  ,  13.25,  13.5 ,  13.75,  14.  ,\n",
       "         14.25,  14.5 ,  14.75,  15.  ,  15.25,  15.5 ,  15.75,  16.  ,\n",
       "         16.25,  16.5 ,  16.75,  17.  ,  17.25,  17.5 ,  17.75,  18.  ,\n",
       "         18.25,  18.5 ,  18.75,  19.  ,  19.25,  19.5 ,  19.75,  20.  ,\n",
       "         20.25,  20.5 ,  20.75,  21.  ,  21.25,  21.5 ,  21.75,  22.  ,\n",
       "         22.25,  22.5 ,  22.75,  23.  ,  23.25,  23.5 ,  23.75,  24.  ,\n",
       "         24.25,  24.5 ,  24.75,  25.  ,  25.25,  25.5 ,  25.75,  26.  ,\n",
       "         26.25,  26.5 ,  26.75,  27.  ,  27.25,  27.5 ,  27.75,  28.  ,\n",
       "         28.25,  28.5 ,  28.75,  29.  ,  29.25,  29.5 ,  29.75,  30.  ,\n",
       "         30.25,  30.5 ,  30.75,  31.  ,  31.25,  31.5 ,  31.75,  32.  ,\n",
       "         32.25,  32.5 ,  32.75,  33.  ,  33.25,  33.5 ,  33.75,  34.  ,\n",
       "         34.25,  34.5 ,  34.75,  35.  ,  35.25,  35.5 ,  35.75,  36.  ,\n",
       "         36.25,  36.5 ,  36.75,  37.  ,  37.25,  37.5 ,  37.75,  38.  ,\n",
       "         38.25,  38.5 ,  38.75,  39.  ,  39.25,  39.5 ,  39.75,  40.  ,\n",
       "         40.25,  40.5 ,  40.75,  41.  ,  41.25,  41.5 ,  41.75,  42.  ,\n",
       "         42.25,  42.5 ,  42.75,  43.  ,  43.25,  43.5 ,  43.75,  44.  ,\n",
       "         44.25,  44.5 ,  44.75,  45.  ,  45.25,  45.5 ,  45.75,  46.  ,\n",
       "         46.25,  46.5 ,  46.75,  47.  ,  47.25,  47.5 ,  47.75,  48.  ,\n",
       "         48.25,  48.5 ,  48.75,  49.  ,  49.25,  49.5 ,  49.75,  50.  ,\n",
       "         50.25,  50.5 ,  50.75,  51.  ,  51.25,  51.5 ,  51.75,  52.  ,\n",
       "         52.25,  52.5 ,  52.75,  53.  ,  53.25,  53.5 ,  53.75,  54.  ,\n",
       "         54.25,  54.5 ,  54.75,  55.  ,  55.25,  55.5 ,  55.75,  56.  ,\n",
       "         56.25,  56.5 ,  56.75,  57.  ,  57.25,  57.5 ,  57.75,  58.  ,\n",
       "         58.25,  58.5 ,  58.75,  59.  ,  59.25,  59.5 ,  59.75,  60.  ,\n",
       "         60.25,  60.5 ,  60.75,  61.  ,  61.25,  61.5 ,  61.75,  62.  ,\n",
       "         62.25,  62.5 ,  62.75,  63.  ,  63.25,  63.5 ,  63.75,  64.  ,\n",
       "         64.25,  64.5 ,  64.75,  65.  ,  65.25,  65.5 ,  65.75,  66.  ,\n",
       "         66.25,  66.5 ,  66.75,  67.  ,  67.25,  67.5 ,  67.75,  68.  ,\n",
       "         68.25,  68.5 ,  68.75,  69.  ,  69.25,  69.5 ,  69.75,  70.  ,\n",
       "         70.25,  70.5 ,  70.75,  71.  ,  71.25,  71.5 ,  71.75,  72.  ,\n",
       "         72.25,  72.5 ,  72.75,  73.  ,  73.25,  73.5 ,  73.75,  74.  ,\n",
       "         74.25,  74.5 ,  74.75,  75.  ,  75.25,  75.5 ,  75.75,  76.  ,\n",
       "         76.25,  76.5 ,  76.75,  77.  ,  77.25,  77.5 ,  77.75,  78.  ,\n",
       "         78.25,  78.5 ,  78.75,  79.  ,  79.25,  79.5 ,  79.75,  80.  ,\n",
       "         80.25,  80.5 ,  80.75,  81.  ,  81.25,  81.5 ,  81.75,  82.  ,\n",
       "         82.25,  82.5 ,  82.75,  83.  ,  83.25,  83.5 ,  83.75,  84.  ,\n",
       "         84.25,  84.5 ,  84.75,  85.  ,  85.25,  85.5 ,  85.75,  86.  ,\n",
       "         86.25,  86.5 ,  86.75,  87.  ,  87.25,  87.5 ,  87.75,  88.  ,\n",
       "         88.25,  88.5 ,  88.75,  89.  ,  89.25,  89.5 ,  89.75,  90.  ,\n",
       "         90.25,  90.5 ,  90.75,  91.  ,  91.25,  91.5 ,  91.75,  92.  ,\n",
       "         92.25,  92.5 ,  92.75,  93.  ,  93.25,  93.5 ,  93.75,  94.  ,\n",
       "         94.25,  94.5 ,  94.75,  95.  ,  95.25,  95.5 ,  95.75,  96.  ,\n",
       "         96.25,  96.5 ,  96.75,  97.  ,  97.25,  97.5 ,  97.75,  98.  ,\n",
       "         98.25,  98.5 ,  98.75,  99.  ,  99.25,  99.5 ,  99.75, 100.  ,\n",
       "        100.25, 100.5 , 100.75, 101.  , 101.25, 101.5 , 101.75, 102.  ,\n",
       "        102.25, 102.5 , 102.75, 103.  , 103.25, 103.5 , 103.75, 104.  ,\n",
       "        104.25, 104.5 , 104.75, 105.  , 105.25, 105.5 , 105.75, 106.  ,\n",
       "        106.25, 106.5 , 106.75, 107.  , 107.25, 107.5 , 107.75, 108.  ,\n",
       "        108.25, 108.5 , 108.75, 109.  , 109.25, 109.5 , 109.75, 110.  ,\n",
       "        110.25, 110.5 , 110.75, 111.  , 111.25, 111.5 , 111.75, 112.  ,\n",
       "        112.25, 112.5 , 112.75, 113.  , 113.25, 113.5 , 113.75, 114.  ,\n",
       "        114.25, 114.5 , 114.75, 115.  , 115.25, 115.5 , 115.75, 116.  ,\n",
       "        116.25, 116.5 , 116.75, 117.  , 117.25, 117.5 , 117.75, 118.  ,\n",
       "        118.25, 118.5 , 118.75, 119.  , 119.25, 119.5 , 119.75, 120.  ,\n",
       "        120.25, 120.5 , 120.75, 121.  , 121.25, 121.5 , 121.75, 122.  ,\n",
       "        122.25, 122.5 , 122.75, 123.  , 123.25, 123.5 , 123.75, 124.  ,\n",
       "        124.25, 124.5 , 124.75, 125.  , 125.25, 125.5 , 125.75, 126.  ,\n",
       "        126.25, 126.5 , 126.75, 127.  , 127.25, 127.5 , 127.75, 128.  ,\n",
       "        128.25, 128.5 , 128.75, 129.  , 129.25, 129.5 , 129.75, 130.  ,\n",
       "        130.25, 130.5 , 130.75, 131.  , 131.25, 131.5 , 131.75, 132.  ,\n",
       "        132.25, 132.5 , 132.75, 133.  , 133.25, 133.5 , 133.75, 134.  ,\n",
       "        134.25, 134.5 , 134.75, 135.  , 135.25, 135.5 , 135.75, 136.  ,\n",
       "        136.25, 136.5 , 136.75, 137.  , 137.25, 137.5 , 137.75, 138.  ,\n",
       "        138.25, 138.5 , 138.75, 139.  , 139.25, 139.5 , 139.75, 140.  ,\n",
       "        140.25, 140.5 , 140.75, 141.  , 141.25, 141.5 , 141.75, 142.  ,\n",
       "        142.25, 142.5 , 142.75, 143.  , 143.25, 143.5 , 143.75, 144.  ,\n",
       "        144.25, 144.5 , 144.75, 145.  , 145.25, 145.5 , 145.75, 146.  ,\n",
       "        146.25, 146.5 , 146.75, 147.  , 147.25, 147.5 , 147.75, 148.  ,\n",
       "        148.25, 148.5 , 148.75, 149.  , 149.25, 149.5 , 149.75, 150.  ,\n",
       "        150.25, 150.5 , 150.75, 151.  , 151.25, 151.5 , 151.75, 152.  ,\n",
       "        152.25, 152.5 , 152.75, 153.  , 153.25, 153.5 , 153.75, 154.  ,\n",
       "        154.25, 154.5 , 154.75, 155.  , 155.25, 155.5 , 155.75, 156.  ,\n",
       "        156.25, 156.5 , 156.75, 157.  , 157.25, 157.5 , 157.75, 158.  ,\n",
       "        158.25, 158.5 , 158.75, 159.  , 159.25, 159.5 , 159.75, 160.  ,\n",
       "        160.25, 160.5 , 160.75, 161.  , 161.25, 161.5 , 161.75, 162.  ,\n",
       "        162.25, 162.5 , 162.75, 163.  , 163.25, 163.5 , 163.75, 164.  ,\n",
       "        164.25, 164.5 , 164.75, 165.  , 165.25, 165.5 , 165.75, 166.  ,\n",
       "        166.25, 166.5 , 166.75, 167.  , 167.25, 167.5 , 167.75, 168.  ,\n",
       "        168.25, 168.5 , 168.75, 169.  , 169.25, 169.5 , 169.75, 170.  ,\n",
       "        170.25, 170.5 , 170.75, 171.  , 171.25, 171.5 , 171.75, 172.  ,\n",
       "        172.25, 172.5 , 172.75, 173.  , 173.25, 173.5 , 173.75, 174.  ,\n",
       "        174.25, 174.5 , 174.75, 175.  , 175.25, 175.5 , 175.75, 176.  ,\n",
       "        176.25, 176.5 , 176.75, 177.  , 177.25, 177.5 , 177.75, 178.  ,\n",
       "        178.25, 178.5 , 178.75, 179.  , 179.25, 179.5 , 179.75, 180.  ,\n",
       "        180.25, 180.5 , 180.75, 181.  , 181.25, 181.5 , 181.75, 182.  ,\n",
       "        182.25, 182.5 , 182.75, 183.  , 183.25, 183.5 , 183.75, 184.  ,\n",
       "        184.25, 184.5 , 184.75, 185.  , 185.25, 185.5 , 185.75, 186.  ,\n",
       "        186.25, 186.5 , 186.75, 187.  , 187.25, 187.5 , 187.75, 188.  ,\n",
       "        188.25, 188.5 , 188.75, 189.  , 189.25, 189.5 , 189.75, 190.  ,\n",
       "        190.25, 190.5 , 190.75, 191.  , 191.25, 191.5 , 191.75, 192.  ,\n",
       "        192.25, 192.5 , 192.75, 193.  , 193.25, 193.5 , 193.75, 194.  ,\n",
       "        194.25, 194.5 , 194.75, 195.  , 195.25, 195.5 , 195.75, 196.  ,\n",
       "        196.25, 196.5 , 196.75, 197.  , 197.25, 197.5 , 197.75, 198.  ,\n",
       "        198.25, 198.5 , 198.75, 199.  , 199.25, 199.5 , 199.75, 200.  ,\n",
       "        200.25, 200.5 , 200.75, 201.  , 201.25, 201.5 , 201.75, 202.  ,\n",
       "        202.25, 202.5 , 202.75, 203.  , 203.25, 203.5 , 203.75, 204.  ,\n",
       "        204.25, 204.5 , 204.75, 205.  , 205.25, 205.5 , 205.75, 206.  ,\n",
       "        206.25, 206.5 , 206.75, 207.  , 207.25, 207.5 , 207.75, 208.  ,\n",
       "        208.25, 208.5 , 208.75, 209.  , 209.25, 209.5 , 209.75, 210.  ,\n",
       "        210.25, 210.5 , 210.75, 211.  , 211.25, 211.5 , 211.75, 212.  ,\n",
       "        212.25, 212.5 , 212.75, 213.  , 213.25, 213.5 , 213.75, 214.  ,\n",
       "        214.25, 214.5 , 214.75, 215.  , 215.25, 215.5 , 215.75, 216.  ,\n",
       "        216.25, 216.5 , 216.75, 217.  , 217.25, 217.5 , 217.75, 218.  ,\n",
       "        218.25, 218.5 , 218.75, 219.  , 219.25, 219.5 , 219.75, 220.  ,\n",
       "        220.25, 220.5 , 220.75, 221.  , 221.25, 221.5 , 221.75, 222.  ,\n",
       "        222.25, 222.5 , 222.75, 223.  , 223.25, 223.5 , 223.75, 224.  ,\n",
       "        224.25, 224.5 , 224.75, 225.  , 225.25, 225.5 , 225.75, 226.  ,\n",
       "        226.25, 226.5 , 226.75, 227.  , 227.25, 227.5 , 227.75, 228.  ,\n",
       "        228.25, 228.5 , 228.75, 229.  , 229.25, 229.5 , 229.75, 230.  ,\n",
       "        230.25, 230.5 , 230.75, 231.  , 231.25, 231.5 , 231.75, 232.  ,\n",
       "        232.25, 232.5 , 232.75, 233.  , 233.25, 233.5 , 233.75, 234.  ,\n",
       "        234.25, 234.5 , 234.75, 235.  , 235.25, 235.5 , 235.75, 236.  ,\n",
       "        236.25, 236.5 , 236.75, 237.  , 237.25, 237.5 , 237.75, 238.  ,\n",
       "        238.25, 238.5 , 238.75, 239.  , 239.25, 239.5 , 239.75, 240.  ,\n",
       "        240.25, 240.5 , 240.75, 241.  , 241.25, 241.5 , 241.75, 242.  ,\n",
       "        242.25, 242.5 , 242.75, 243.  , 243.25, 243.5 , 243.75, 244.  ,\n",
       "        244.25, 244.5 , 244.75, 245.  , 245.25, 245.5 , 245.75, 246.  ,\n",
       "        246.25, 246.5 , 246.75, 247.  , 247.25, 247.5 , 247.75, 248.  ,\n",
       "        248.25, 248.5 , 248.75, 249.  , 249.25, 249.5 , 249.75, 250.  ]),\n",
       " array([0.31095176, 0.31121406, 0.31348793, 0.31997419, 0.31206165,\n",
       "        0.30660558, 0.31050075, 0.32019771, 0.31014436, 0.30865118,\n",
       "        0.310119  , 0.31472264, 0.30994907, 0.31813335, 0.310261  ,\n",
       "        0.30067107, 0.31044841, 0.30677458, 0.31016399, 0.30321947,\n",
       "        0.31068474, 0.30691188, 0.31044882, 0.31951495, 0.31114886,\n",
       "        0.31861875, 0.31039841, 0.30510458, 0.31192169, 0.30748523,\n",
       "        0.31125569, 0.30781612, 0.31051249, 0.31074717, 0.3110707 ,\n",
       "        0.30857502, 0.31087265, 0.31566036, 0.31148201, 0.3074836 ,\n",
       "        0.30944717, 0.31469935, 0.31105458, 0.30629754, 0.31176972,\n",
       "        0.31528363, 0.3116918 , 0.31032023, 0.31321883, 0.30916008,\n",
       "        0.31315602, 0.31400421, 0.31203295, 0.31639012, 0.31238171,\n",
       "        0.31556423, 0.3121096 , 0.30714686, 0.31091277, 0.3060124 ,\n",
       "        0.31179923, 0.31874152, 0.31101792, 0.30756346, 0.31222558,\n",
       "        0.31526852, 0.31300061, 0.32038302, 0.3122501 , 0.31363486,\n",
       "        0.31053458, 0.31972752, 0.31107333, 0.3149247 , 0.31201267,\n",
       "        0.31024365, 0.31067116, 0.30427472, 0.3122451 , 0.30697827,\n",
       "        0.31322675, 0.32230235, 0.31404693, 0.3158558 , 0.31385759,\n",
       "        0.30895361, 0.31248358, 0.30689437, 0.31154591, 0.31600016,\n",
       "        0.3119911 , 0.30958952, 0.3123546 , 0.31253501, 0.31343474,\n",
       "        0.31823014, 0.31203418, 0.30864483, 0.31329193, 0.31473237,\n",
       "        0.31330403, 0.30246598, 0.31262166, 0.3186858 , 0.31609284,\n",
       "        0.3217503 , 0.31346257, 0.31070024, 0.31431686, 0.30443654,\n",
       "        0.3118062 , 0.3028622 , 0.31536581, 0.33074459, 0.31552442,\n",
       "        0.31211379, 0.31401468, 0.31148874, 0.31391205, 0.31736064,\n",
       "        0.31491507, 0.30573953, 0.31470324, 0.31142962, 0.31292169,\n",
       "        0.31903187, 0.3131048 , 0.31830835, 0.3133048 , 0.31671814,\n",
       "        0.31472225, 0.32137701, 0.31535895, 0.32005668, 0.31634757,\n",
       "        0.31608345, 0.31585556, 0.31729961, 0.31495818, 0.29233359,\n",
       "        0.31248064, 0.30201517, 0.31565829, 0.31705081, 0.31822823,\n",
       "        0.31647457, 0.31754641, 0.30666309, 0.31574013, 0.31822444,\n",
       "        0.31632879, 0.3149222 , 0.31592498, 0.31473019, 0.31576482,\n",
       "        0.31112041, 0.31626044, 0.3065059 , 0.31540842, 0.31802589,\n",
       "        0.31531237, 0.32562814, 0.31459416, 0.31956206, 0.3145635 ,\n",
       "        0.31213961, 0.3139496 , 0.31108138, 0.31459917, 0.31256234,\n",
       "        0.31521962, 0.31293135, 0.31374277, 0.31015927, 0.31475145,\n",
       "        0.31954426, 0.31940395, 0.31171425, 0.31705621, 0.32084892,\n",
       "        0.31589642, 0.31996678, 0.32138586, 0.32848131, 0.31625347,\n",
       "        0.31418987, 0.31873493, 0.32225057, 0.31658123, 0.31269861,\n",
       "        0.31445277, 0.31421676, 0.3175614 , 0.31544627, 0.31892498,\n",
       "        0.32065867, 0.31771736, 0.31590088, 0.31418327, 0.30833898,\n",
       "        0.31349952, 0.30748462, 0.31481532, 0.31149521, 0.31502942,\n",
       "        0.31644983, 0.31636213, 0.31996146, 0.32069934, 0.32326205,\n",
       "        0.31942227, 0.31674851, 0.32118808, 0.31836683, 0.31660413,\n",
       "        0.3104236 , 0.31628701, 0.31808708, 0.31686379, 0.3089246 ,\n",
       "        0.31789879, 0.31612249, 0.32027238, 0.32700038, 0.31798734,\n",
       "        0.3172732 , 0.32245549, 0.3224298 , 0.31893755, 0.30333476,\n",
       "        0.31984934, 0.32030924, 0.32135981, 0.3190285 , 0.32104224,\n",
       "        0.31655579, 0.31819168, 0.31862032, 0.32037961, 0.32449916,\n",
       "        0.32012727, 0.30990612, 0.31958168, 0.32808692, 0.32457769,\n",
       "        0.31054766, 0.31900714, 0.31127975, 0.31880423, 0.32397934,\n",
       "        0.31672813, 0.30618107, 0.31702795, 0.31300145, 0.3192779 ,\n",
       "        0.31788343, 0.32097115, 0.31320431, 0.32566038, 0.32447719,\n",
       "        0.32084293, 0.32328606, 0.32111093, 0.32417271, 0.31871928,\n",
       "        0.32542815, 0.32121569, 0.32415516, 0.31901877, 0.32195626,\n",
       "        0.32021444, 0.33424295, 0.32246511, 0.31355021, 0.3193847 ,\n",
       "        0.31602743, 0.31959826, 0.3199705 , 0.31937973, 0.31880908,\n",
       "        0.3199714 , 0.30768339, 0.31748501, 0.30887842, 0.31777586,\n",
       "        0.31513821, 0.3212435 , 0.32866567, 0.32043674, 0.32616663,\n",
       "        0.31944928, 0.32679935, 0.31986692, 0.30756615, 0.31939735,\n",
       "        0.32595672, 0.32330321, 0.32576891, 0.32190716, 0.32464544,\n",
       "        0.32206707, 0.3269465 , 0.32325529, 0.32524267, 0.31806504,\n",
       "        0.32036557, 0.31968454, 0.32332678, 0.32232021, 0.32443474,\n",
       "        0.32151116, 0.33168035, 0.31979046, 0.32591131, 0.32611926,\n",
       "        0.32117254, 0.32187288, 0.32695769, 0.32284041, 0.31426101,\n",
       "        0.32261347, 0.32094617, 0.32263793, 0.33013806, 0.3253206 ,\n",
       "        0.32664628, 0.32330525, 0.31774446, 0.32501881, 0.33573342,\n",
       "        0.3211647 , 0.32396368, 0.31925348, 0.32063641, 0.32177778,\n",
       "        0.32616191, 0.32338256, 0.32720542, 0.32239108, 0.31945734,\n",
       "        0.31825653, 0.32653301, 0.3198105 , 0.32694647, 0.32508736,\n",
       "        0.3252719 , 0.32111166, 0.324712  , 0.32223097, 0.31687519,\n",
       "        0.31965615, 0.30838876, 0.32228314, 0.32577984, 0.32093649,\n",
       "        0.31191518, 0.31937697, 0.31928054, 0.31628107, 0.31438127,\n",
       "        0.31549394, 0.31638666, 0.31753539, 0.3185123 , 0.32135743,\n",
       "        0.3214119 , 0.32166582, 0.32206259, 0.32390387, 0.32268956,\n",
       "        0.32247316, 0.32754245, 0.32204671, 0.31668715, 0.3211761 ,\n",
       "        0.32659327, 0.31863227, 0.30805368, 0.31888718, 0.3197734 ,\n",
       "        0.32313188, 0.31528736, 0.32070977, 0.31814533, 0.32224247,\n",
       "        0.31635081, 0.32085844, 0.32748691, 0.32352202, 0.32720641,\n",
       "        0.32429129, 0.31998758, 0.32271017, 0.32632991, 0.32732954,\n",
       "        0.32091152, 0.32377116, 0.32461889, 0.32399882, 0.32947237,\n",
       "        0.32501982, 0.32048469, 0.32854217, 0.31991004, 0.32227219,\n",
       "        0.32848826, 0.32875264, 0.33117819, 0.327184  , 0.33155682,\n",
       "        0.32783863, 0.32763741, 0.32482829, 0.32996897, 0.32567443,\n",
       "        0.32803985, 0.32368084, 0.3262703 , 0.32426557, 0.32694238,\n",
       "        0.32561971, 0.3381369 , 0.32759165, 0.32673741, 0.32899844,\n",
       "        0.32336234, 0.32758115, 0.31841897, 0.3226416 , 0.32382125,\n",
       "        0.3242591 , 0.31964249, 0.32293683, 0.32637004, 0.32639269,\n",
       "        0.33351587, 0.3267944 , 0.32618579, 0.32667345, 0.32951652,\n",
       "        0.3234569 , 0.33602386, 0.32575263, 0.32858455, 0.32525326,\n",
       "        0.33056992, 0.32467173, 0.33336071, 0.32336376, 0.31664959,\n",
       "        0.32106295, 0.31487867, 0.32638329, 0.31810702, 0.32514762,\n",
       "        0.31887706, 0.32988875, 0.32867406, 0.32669213, 0.32424164,\n",
       "        0.32139922, 0.32549179, 0.32382477, 0.32263367, 0.32310271,\n",
       "        0.32493255, 0.32808517, 0.33854602, 0.32242661, 0.32628149,\n",
       "        0.32796742, 0.33315528, 0.32891555, 0.32557444, 0.32930203,\n",
       "        0.33113198, 0.32568839, 0.32753107, 0.32946635, 0.33095755,\n",
       "        0.32599844, 0.32371792, 0.32861756, 0.33209435, 0.3224358 ,\n",
       "        0.32605886, 0.32466814, 0.33070941, 0.32887889, 0.33018865,\n",
       "        0.32848636, 0.32561076, 0.33005603, 0.32608734, 0.32600368,\n",
       "        0.33506539, 0.32890347, 0.32670648, 0.32803255, 0.32536133,\n",
       "        0.32826453, 0.32900539, 0.3276308 , 0.31905632, 0.32434411,\n",
       "        0.32435388, 0.32983184, 0.33280405, 0.33029193, 0.33137858,\n",
       "        0.32885563, 0.32574584, 0.32086022, 0.33822445, 0.32493553,\n",
       "        0.32206035, 0.32727787, 0.32763468, 0.32812506, 0.32614485,\n",
       "        0.32548331, 0.33101876, 0.33092896, 0.32111085, 0.33248712,\n",
       "        0.33285866, 0.33238501, 0.32927007, 0.33063651, 0.31778262,\n",
       "        0.32828433, 0.32986703, 0.3273876 , 0.31234681, 0.32870031,\n",
       "        0.32265173, 0.32670246, 0.3330179 , 0.33188581, 0.32712805,\n",
       "        0.32682152, 0.32481961, 0.33230002, 0.32758638, 0.32969342,\n",
       "        0.33280756, 0.32722543, 0.33096483, 0.33269543, 0.32405652,\n",
       "        0.32577546, 0.32281028, 0.33049769, 0.32839684, 0.33257176,\n",
       "        0.32451109, 0.32981215, 0.33537822, 0.33147356, 0.33532677,\n",
       "        0.32917967, 0.32541952, 0.33205244, 0.33449771, 0.3304506 ,\n",
       "        0.33322668, 0.3297996 , 0.32732218, 0.33059042, 0.33467629,\n",
       "        0.33208646, 0.34404061, 0.33208918, 0.3299594 , 0.33156578,\n",
       "        0.33885077, 0.32892488, 0.33496744, 0.33166358, 0.33304284,\n",
       "        0.33511834, 0.3237024 , 0.33105342, 0.33004446, 0.32990032,\n",
       "        0.32442671, 0.32655365, 0.33590902, 0.33014722, 0.33203571,\n",
       "        0.33410396, 0.33651482, 0.330999  , 0.32555884, 0.32959703,\n",
       "        0.33156103, 0.33419794, 0.33091918, 0.32856236, 0.32915536,\n",
       "        0.33022469, 0.3313745 , 0.33448049, 0.33817844, 0.33596794,\n",
       "        0.3315629 , 0.33551093, 0.3367425 , 0.33442237, 0.3281875 ,\n",
       "        0.33258647, 0.32932715, 0.33029584, 0.33362053, 0.33398012,\n",
       "        0.34315613, 0.33798854, 0.33890275, 0.33174336, 0.33334477,\n",
       "        0.33201091, 0.32503791, 0.33492997, 0.33181558, 0.33560023,\n",
       "        0.32265112, 0.33058797, 0.33813045, 0.33305048, 0.3359122 ,\n",
       "        0.32900491, 0.32500666, 0.32595831, 0.32516395, 0.32719538,\n",
       "        0.31937042, 0.32965355, 0.3242132 , 0.33430086, 0.33737657,\n",
       "        0.33800577, 0.33250718, 0.33109854, 0.33595279, 0.33261979,\n",
       "        0.33389648, 0.33425622, 0.31886455, 0.33157476, 0.32834989,\n",
       "        0.33630708, 0.3510387 , 0.33882078, 0.33498627, 0.33477405,\n",
       "        0.33062507, 0.33559609, 0.3351936 , 0.33510852, 0.34342608,\n",
       "        0.33599761, 0.34113087, 0.33889837, 0.33425629, 0.32849235,\n",
       "        0.32487436, 0.32969003, 0.34315592, 0.32973261, 0.3307776 ,\n",
       "        0.32909734, 0.32606962, 0.32821631, 0.33335437, 0.33876822,\n",
       "        0.3329767 , 0.33362977, 0.33702762, 0.33327835, 0.33546198,\n",
       "        0.3330122 , 0.34586213, 0.33362889, 0.33168828, 0.3333663 ,\n",
       "        0.33581943, 0.3272025 , 0.33217439, 0.32958912, 0.32506251,\n",
       "        0.32624229, 0.3297597 , 0.33349422, 0.31829831, 0.33367468,\n",
       "        0.34456635, 0.32946703, 0.33709531, 0.33741591, 0.34012996,\n",
       "        0.33316518, 0.33823382, 0.32917884, 0.3213899 , 0.33359474,\n",
       "        0.33480116, 0.33109734, 0.32356027, 0.32806954, 0.33908327,\n",
       "        0.33245578, 0.32257657, 0.33234742, 0.33537507, 0.33563873,\n",
       "        0.34286471, 0.34058971, 0.3373326 , 0.33893659, 0.33645765,\n",
       "        0.3358197 , 0.33856867, 0.33518066, 0.33570298, 0.33502775,\n",
       "        0.32993973, 0.33779503, 0.33510388, 0.34377753, 0.33567866,\n",
       "        0.33418758, 0.33380058, 0.33619258, 0.32844964, 0.33612857,\n",
       "        0.33649209, 0.33055145, 0.33843834, 0.3376231 , 0.34912137,\n",
       "        0.33940621, 0.34872884, 0.34094753, 0.33713272, 0.34008108,\n",
       "        0.33322443, 0.33496445, 0.33489391, 0.34147129, 0.33767845,\n",
       "        0.34198002, 0.34780242, 0.34058226, 0.33377105, 0.34334177,\n",
       "        0.34055196, 0.33672815, 0.32999969, 0.32996665, 0.33245034,\n",
       "        0.3341095 , 0.33686239, 0.33589249, 0.34751112, 0.3313846 ,\n",
       "        0.34328184, 0.33988955, 0.33988176, 0.33554827, 0.33283533,\n",
       "        0.33872023, 0.34634533, 0.34515979, 0.33839825, 0.33601149,\n",
       "        0.34178761, 0.34059525, 0.34557613, 0.33403951, 0.3337187 ,\n",
       "        0.33339215, 0.34965438, 0.3349162 , 0.34441578, 0.33820722,\n",
       "        0.33441349, 0.33756034, 0.3325835 , 0.33518308, 0.33030974,\n",
       "        0.34061807, 0.34414636, 0.34090243, 0.34606659, 0.33421679,\n",
       "        0.33467452, 0.33090956, 0.33913691, 0.34205208, 0.3434779 ,\n",
       "        0.33942265, 0.33875219, 0.34209303, 0.35277808, 0.33978689,\n",
       "        0.34350959, 0.33423004, 0.33368095, 0.3304349 , 0.33766688,\n",
       "        0.33477038, 0.33663904, 0.33994686, 0.32664387, 0.33828292,\n",
       "        0.34923444, 0.34573182, 0.3368618 , 0.34233959, 0.34588799,\n",
       "        0.33219293, 0.33135385, 0.32891711, 0.33135595, 0.33325807,\n",
       "        0.33056525, 0.33371328, 0.32812932, 0.33248805, 0.33599401,\n",
       "        0.33089096, 0.33077138, 0.33485768, 0.3455631 , 0.33866365,\n",
       "        0.33860747, 0.33775251, 0.33506405, 0.34220823, 0.34463097,\n",
       "        0.33502077, 0.33261449, 0.33037403, 0.32146011, 0.33954534,\n",
       "        0.34028348, 0.34064364, 0.34295726, 0.34187219, 0.34706301,\n",
       "        0.34283006, 0.34466531, 0.34528857, 0.34001727, 0.34654329,\n",
       "        0.34162222, 0.33717697, 0.32980591, 0.34247844, 0.34637394,\n",
       "        0.34545172, 0.34429511, 0.33992333, 0.33587386, 0.33827289,\n",
       "        0.34154244, 0.34214782, 0.33828246, 0.34325733, 0.34247473,\n",
       "        0.34470996, 0.3394508 , 0.33922879, 0.33517605, 0.34108913,\n",
       "        0.34149643, 0.33758546, 0.34482189, 0.34169648, 0.34339196,\n",
       "        0.34121471, 0.33147816, 0.34153154, 0.34481291, 0.3350994 ,\n",
       "        0.33460841, 0.33813533, 0.34804314, 0.3433423 , 0.34016433,\n",
       "        0.34404178, 0.33784054, 0.34173854, 0.344109  , 0.3424602 ,\n",
       "        0.33781885, 0.34332316, 0.33417515, 0.34064516, 0.34538237,\n",
       "        0.3394971 , 0.34511064, 0.33983754, 0.34425717, 0.34415636,\n",
       "        0.33656349, 0.33852601, 0.3386406 , 0.3407963 , 0.33660215,\n",
       "        0.34179673, 0.34014233, 0.34251158, 0.34733488, 0.34468089,\n",
       "        0.33767875, 0.34076999, 0.33894633, 0.33933208, 0.33280806,\n",
       "        0.33931832, 0.34576802, 0.34284002, 0.33963893, 0.34123628,\n",
       "        0.33438521, 0.34204174, 0.33603701, 0.33828368, 0.3338166 ,\n",
       "        0.33604322, 0.3479908 , 0.34113555, 0.34509845, 0.34374692,\n",
       "        0.34182489, 0.34397105, 0.33995021, 0.34356216, 0.34662839,\n",
       "        0.35056218, 0.35424437, 0.35128173, 0.33676847, 0.34255924,\n",
       "        0.33980568, 0.34083859, 0.35549769, 0.34053782, 0.34606843,\n",
       "        0.34332593, 0.33284371, 0.33631307, 0.3376215 , 0.34022044,\n",
       "        0.3423201 , 0.33870795, 0.35183673, 0.34725572, 0.34666398,\n",
       "        0.34101767, 0.33035261, 0.34675404, 0.33770351, 0.34098063,\n",
       "        0.33618959, 0.3413148 , 0.34523479, 0.34838188, 0.35592414,\n",
       "        0.34868767, 0.34776793, 0.3448179 , 0.3422756 , 0.34591209,\n",
       "        0.34129358, 0.34643704, 0.35240254, 0.34490757, 0.34003273,\n",
       "        0.34641193, 0.34568353, 0.34529952, 0.35644905, 0.34470189,\n",
       "        0.34446706, 0.34862549, 0.34906637, 0.34471253, 0.34481797,\n",
       "        0.34096151, 0.34131832, 0.33829801, 0.33483025, 0.3452627 ,\n",
       "        0.34182994, 0.34731662, 0.35328015, 0.34820938, 0.35665287]))"
      ]
     },
     "execution_count": 59,
     "metadata": {},
     "output_type": "execute_result"
    }
   ],
   "source": [
    "getPerturbingDiffusionCoefForRatio(actionsData,1)"
   ]
  },
  {
   "cell_type": "code",
   "execution_count": 60,
   "id": "900ababfb0f7263a",
   "metadata": {
    "ExecuteTime": {
     "end_time": "2023-11-07T15:31:54.798003618Z",
     "start_time": "2023-11-07T15:31:54.705157344Z"
    },
    "collapsed": false,
    "jupyter": {
     "outputs_hidden": false
    },
    "tags": []
   },
   "outputs": [],
   "source": [
    "ratios = np.exp(np.linspace(-5,5,50))"
   ]
  },
  {
   "cell_type": "markdown",
   "id": "eeb7611ebeb4de57",
   "metadata": {},
   "source": [
    "## Oriented randomwalk"
   ]
  },
  {
   "cell_type": "code",
   "execution_count": null,
   "id": "b73ec8db378cec78",
   "metadata": {
    "ExecuteTime": {
     "end_time": "2023-11-13T08:05:16.178884381Z",
     "start_time": "2023-11-13T08:05:16.091385739Z"
    },
    "collapsed": false,
    "jupyter": {
     "outputs_hidden": false
    },
    "tags": []
   },
   "outputs": [],
   "source": [
    "@njit\n",
    "def getOrientedAction(state,ratio,rotation,grad):\n",
    "\n",
    "    ratios = ratio + np.dot((rotation @ (r0[1:].T)).T,grad)   # WRONG, some joints are smaller depending on the state. \n",
    "\n",
    "    \n",
    "    t1,t2,t3,t4 = np.where(state==0,np.ones(4),ratios)\n",
    "    \n",
    "    sum = t1*t2*t3 + t1*t2*t4 + t1*t3*t4 + t2*t3*t4\n",
    "    #probs = np.array([t2*t3*t4/sum,t1*t3*t4/sum,t1*t2*t4/sum,t2*t3*t1/sum])\n",
    "    randomNumber = np.random.uniform(0,1,1)\n",
    "    if randomNumber <= t4*t2*t3/sum:\n",
    "        changingJoint = 0\n",
    "    elif(randomNumber <= (t4*t3*t1+t4*t2*t3)/sum):  \n",
    "        changingJoint = 1\n",
    "    elif randomNumber <= (t4*t3*t1+t4*t2*t3+t4*t2*t1)/sum:\n",
    "        changingJoint = 2\n",
    "    else:\n",
    "        changingJoint = 3\n",
    "\n",
    "    # deltat = 1 if state[changingJoint]==0 else ratio\n",
    "    return changingJoint,getDeltat2(t1,t2,t3,t4)\n",
    "\n",
    "@njit\n",
    "def doOrientedStep(Data,state,ratio,rotation,grad):\n",
    "    action,deltat = getOrientedAction(state,ratio,rotation,grad)\n",
    "    new_state = state.copy()\n",
    "    new_state[action] = 1 - new_state[action]\n",
    "    delta = Data[fromBinary(state)*4 + action][0,:]\n",
    "    rotation = Data[fromBinary(state)*4 + action][1:,:]\n",
    "    return new_state,delta,rotation,deltat"
   ]
  },
  {
   "cell_type": "code",
   "execution_count": 62,
   "id": "47e59071d5847b07",
   "metadata": {
    "ExecuteTime": {
     "end_time": "2023-11-13T08:05:18.608183228Z",
     "start_time": "2023-11-13T08:05:18.369965375Z"
    },
    "collapsed": false,
    "jupyter": {
     "outputs_hidden": false
    },
    "tags": []
   },
   "outputs": [],
   "source": [
    "@njit\n",
    "def Orientedperturbe(Data,perturbingSteps,ratio,grad):\n",
    "    grad = ratio*np.array([0., 0., grad]) \n",
    "    time = 0\n",
    "    pertrubingPose = np.array([0.,0.,0.])\n",
    "    perturbingRotation = np.eye(3)\n",
    "    state = np.ones(4,dtype=np.int64)\n",
    "    pertrubingPoses = np.zeros((perturbingSteps,3))\n",
    "    pertrubingTimes = np.zeros(perturbingSteps)\n",
    "    angelData= np.zeros((perturbingSteps,3,3))\n",
    "\n",
    "    for t in range(perturbingSteps):\n",
    "        newState,delta,rotation,deltat = doOrientedStep(Data,state,ratio,perturbingRotation,grad)\n",
    "        state = newState\n",
    "        pertrubingPose += perturbingRotation @ delta\n",
    "        perturbingRotation = rotation @ perturbingRotation\n",
    "        pertrubingPoses[t] = pertrubingPose\n",
    "        time += deltat\n",
    "        pertrubingTimes[t] = time\n",
    "        angelData[t] = perturbingRotation\n",
    "\n",
    "    return pertrubingTimes,pertrubingPoses,angelData"
   ]
  },
  {
   "cell_type": "code",
   "execution_count": 179,
   "id": "5ec9415a",
   "metadata": {},
   "outputs": [
    {
     "data": {
      "text/plain": [
       "array([2.        , 1.        , 0.66666667])"
      ]
     },
     "execution_count": 179,
     "metadata": {},
     "output_type": "execute_result"
    }
   ],
   "source": [
    "2 / np.array([1,2,3])"
   ]
  },
  {
   "cell_type": "code",
   "execution_count": null,
   "id": "6e8f94abde4ba589",
   "metadata": {
    "ExecuteTime": {
     "end_time": "2023-11-13T08:56:48.917659992Z",
     "start_time": "2023-11-13T08:56:48.837778068Z"
    },
    "collapsed": false,
    "jupyter": {
     "outputs_hidden": false
    },
    "tags": []
   },
   "outputs": [],
   "source": [
    "def Orientedperturbe2(Data,perturbingSteps,ratio,grad):\n",
    "\n",
    "    time = 0\n",
    "    pertrubingPose = np.array([0.,0.,0.])\n",
    "    perturbingRotation = np.eye(3)\n",
    "    state = np.ones(4,dtype=np.int64)\n",
    "    pertrubingPoses = np.zeros((perturbingSteps,3))\n",
    "    pertrubingTimes = np.zeros(perturbingSteps)\n",
    "    angelData= np.zeros((perturbingSteps,3,3))\n",
    "\n",
    "    bait_pose  = np.array([0,0,20.0*R])\n",
    "    bait_poses = np.zeros((perturbingSteps,3))\n",
    "\n",
    "    distance = pertrubingPose - bait_pose\n",
    "    # bait_spring_const = 0.01\n",
    "    grad = -ratio * 0.001 * distance / np.linalg.norm(distance)\n",
    "\n",
    "\n",
    "\n",
    "\n",
    "\n",
    "\n",
    "\n",
    "\n",
    "    for t in range(perturbingSteps):\n",
    "        newState,delta,rotation,deltat = doOrientedStep(Data,state,ratio,perturbingRotation,+grad)\n",
    "        state = newState\n",
    "        pertrubingPose += perturbingRotation @ delta\n",
    "        perturbingRotation = rotation @ perturbingRotation\n",
    "        pertrubingPoses[t] = pertrubingPose\n",
    "        time += deltat\n",
    "        pertrubingTimes[t] = time\n",
    "        angelData[t] = perturbingRotation\n",
    "\n",
    "\n",
    "\n",
    "        # bait_pose = -distance * 20 / np.linalg.norm(distance) + pertrubingPose\n",
    "        distance = pertrubingPose - bait_pose\n",
    "\n",
    "\n",
    "\n",
    "\n",
    "        bait_pose += 0.001*np.dot(pertrubingPoses[t] - pertrubingPoses[t-1] , distance) * distance  / np.linalg.norm(distance)**2\n",
    "\n",
    "        bait_poses[t] = bait_pose\n",
    "\n",
    "        grad = -ratio * 0.001 * distance / np.linalg.norm(distance)\n",
    "\n",
    "    return pertrubingTimes,pertrubingPoses,angelData,bait_poses\n",
    "\n"
   ]
  },
  {
   "cell_type": "code",
   "execution_count": 168,
   "id": "5a148cf8ca322a73",
   "metadata": {
    "ExecuteTime": {
     "end_time": "2023-11-13T08:19:38.048378201Z",
     "start_time": "2023-11-13T08:19:09.539201697Z"
    },
    "collapsed": false,
    "jupyter": {
     "outputs_hidden": false
    },
    "tags": []
   },
   "outputs": [
    {
     "name": "stdout",
     "output_type": "stream",
     "text": [
      "-6.368520469089853 34.94673622026166\n",
      "-5.61375870729669 49.93066111171996\n",
      "-8.370393984695015 55.557604755142414\n"
     ]
    }
   ],
   "source": [
    "a,b,c,d = Orientedperturbe2(actionsData,50_000_000,2,0.001)\n",
    "xdata , ydata, zdata  = b[:, 0], b[:, 1], b[:, 2]\n",
    "print(xdata.min(),xdata.max())\n",
    "print(ydata.min(),ydata.max())\n",
    "print(zdata.min(),zdata.max())"
   ]
  },
  {
   "cell_type": "code",
   "execution_count": null,
   "id": "46244351",
   "metadata": {},
   "outputs": [],
   "source": [
    "data = (b.reshape((-1,3,1)) + c @ r0.T)\n",
    "data.min(),data.max()"
   ]
  },
  {
   "cell_type": "code",
   "execution_count": null,
   "id": "b98161c0",
   "metadata": {},
   "outputs": [
    {
     "data": {
      "image/png": "[encoded data removed]",
      "text/plain": [
       "<Figure size 640x480 with 1 Axes>"
      ]
     },
     "metadata": {},
     "output_type": "display_data"
    }
   ],
   "source": [
    "from matplotlib.animation import FuncAnimation\n",
    "import matplotlib.pyplot as plt\n",
    "fig = plt.figure() \n",
    "ax = fig.add_subplot(projection=\"3d\")\n",
    "# ax.view_init(0,0)   # ? \n",
    "ax.set_xlabel(\"x\")\n",
    "ax.set_ylabel(\"y\")\n",
    "ax.set_zlabel(\"z\")\n",
    "\n",
    "goto = 100\n",
    "\n",
    "data = (b.reshape((-1,3,1)) + c @ r0.T)\n",
    "bait_data= d[::int(data.shape[0]/goto)]\n",
    "data = data[::int(data.shape[0]/goto)]\n",
    "\n",
    "\n",
    "bait_path, = ax.plot([], [], [],\"blue\")\n",
    "bait_mark, = ax.plot([], [], [],\"go\")\n",
    "\n",
    "path, =ax.plot([], [], [],\"black\")\n",
    "ln0, =ax.plot([], [], [],\"ro\")\n",
    "ln1, =ax.plot([], [], [],\"ro\")\n",
    "ln2, =ax.plot([], [], [],\"ro\")\n",
    "ln3, =ax.plot([], [], [],\"ro\")\n",
    "ln4, =ax.plot([], [], [],\"ro\")\n",
    "\n",
    "j1, = ax.plot([], [], [],\"b\")\n",
    "j2, = ax.plot([], [], [],\"b\")\n",
    "j3, = ax.plot([], [], [],\"b\")\n",
    "j4, = ax.plot([], [], [],\"b\")\n",
    "\n",
    "def init():\n",
    "    lim_factor = 1.5\n",
    "    ax.set_xlim(lim_factor*min(data[:,0,:].min(),bait_data.min()),lim_factor*max(data[:,0,:].max(),bait_data.max()))\n",
    "    ax.set_ylim(lim_factor*min(data[:,1,:].min(),bait_data.min()),lim_factor*max(data[:,1,:].max(),bait_data.max()))\n",
    "    ax.set_zlim(lim_factor*min(data[:,2,:].min(),bait_data.min()),lim_factor*max(data[:,2,:].max(),bait_data.max()))\n",
    "    return bait_path,bait_mark,path,ln0,ln1,ln2,ln3,ln4,j1,j2,j3,j4\n",
    "\n",
    "def update(frame):\n",
    "    bait_mark.set_data_3d([bait_data[frame,0]],[bait_data[frame,1]],[bait_data[frame,2]])\n",
    "    path.set_data_3d(data[:frame,0,0],data[:frame,1,0],data[:frame,2,0])\n",
    "    bait_path.set_data_3d(bait_data[:frame,0],bait_data[:frame,1],bait_data[:frame,2])\n",
    "    \n",
    "\n",
    "    ln0.set_data_3d([data[frame,0,0]],[data[frame,1,0]],[data[frame,2,0]])\n",
    "    ln1.set_data_3d([data[frame,0,1]],[data[frame,1,1]],[data[frame,2,1]])\n",
    "    ln2.set_data_3d([data[frame,0,2]],[data[frame,1,2]],[data[frame,2,2]])\n",
    "    ln3.set_data_3d([data[frame,0,3]],[data[frame,1,3]],[data[frame,2,3]])\n",
    "    ln4.set_data_3d([data[frame,0,4]],[data[frame,1,4]],[data[frame,2,4]])\n",
    "\n",
    "\n",
    "\n",
    "    j1.set_data_3d([data[frame,0,1], data[frame,0,0]],[data[frame,1,1],data[frame,1,0]],[data[frame,2,1],data[frame,2,0]])\n",
    "    j2.set_data_3d([data[frame,0,2], data[frame,0,0]],[data[frame,1,2],data[frame,1,0]],[data[frame,2,2],data[frame,2,0]])\n",
    "    j3.set_data_3d([data[frame,0,3], data[frame,0,0]],[data[frame,1,3],data[frame,1,0]],[data[frame,2,3],data[frame,2,0]])\n",
    "    j4.set_data_3d([data[frame,0,4], data[frame,0,0]],[data[frame,1,4],data[frame,1,0]],[data[frame,2,4],data[frame,2,0]])\n",
    "\n",
    "    return bait_path,bait_mark,path,ln0,ln1,ln2,ln3,ln4,j1,j2,j3,j4\n",
    "\n",
    "ani = FuncAnimation(fig, update , frames = np.arange(0, goto),init_func=init,blit = True, interval = 200)\n",
    "\n",
    "ani.save(\"/home/astane/Desktop/PycharmProjects/UniProjects/swimmerProject/ani2.mp4\")\n"
   ]
  },
  {
   "cell_type": "code",
   "execution_count": 144,
   "id": "bf1aa361",
   "metadata": {},
   "outputs": [
    {
     "data": {
      "image/png": "[encoded data removed]",
      "text/plain": [
       "<Figure size 640x480 with 1 Axes>"
      ]
     },
     "metadata": {},
     "output_type": "display_data"
    }
   ],
   "source": [
    "ax = plt.figure().add_subplot(projection=\"3d\")\n",
    "ax.set_xlabel(\"x\")\n",
    "ax.set_ylabel(\"y\")\n",
    "ax.set_zlabel(\"z\")\n",
    "interval = 100\n",
    "ax.scatter(xs=d[::interval, 0] - b[::interval,0], ys=d[::interval, 1] - b[::interval,1], zs=d[::interval, 2] - b[::interval,2])\n",
    "plt.show()"
   ]
  },
  {
   "cell_type": "code",
   "execution_count": 163,
   "id": "09371e1b",
   "metadata": {},
   "outputs": [
    {
     "data": {
      "image/png": "[encoded data removed]",
      "text/plain": [
       "<Figure size 640x480 with 1 Axes>"
      ]
     },
     "metadata": {},
     "output_type": "display_data"
    }
   ],
   "source": [
    "ax = plt.figure().add_subplot(projection=\"3d\")\n",
    "ax.set_xlabel(\"x\")\n",
    "ax.set_ylabel(\"y\")\n",
    "ax.set_zlabel(\"z\")\n",
    "\n",
    "ax.scatter(xs=d[::interval, 0], ys=d[::interval, 1], zs=d[::interval, 2])\n",
    "plt.show()"
   ]
  },
  {
   "cell_type": "code",
   "execution_count": 146,
   "id": "b4fcb5db",
   "metadata": {},
   "outputs": [
    {
     "data": {
      "image/png": "[encoded data removed]",
      "text/plain": [
       "<Figure size 640x480 with 1 Axes>"
      ]
     },
     "metadata": {},
     "output_type": "display_data"
    }
   ],
   "source": [
    "ax = plt.figure().add_subplot(projection=\"3d\")\n",
    "ax.set_xlabel(\"x\")\n",
    "ax.set_ylabel(\"y\")\n",
    "ax.set_zlabel(\"z\")\n",
    "\n",
    "ax.scatter(xs=b[::interval, 0], ys=b[::interval, 1], zs=b[::interval, 2])\n",
    "plt.show()"
   ]
  }
 ],
 "metadata": {
  "kernelspec": {
   "display_name": "base",
   "language": "python",
   "name": "python3"
  },
  "language_info": {
   "codemirror_mode": {
    "name": "ipython",
    "version": 3
   },
   "file_extension": ".py",
   "mimetype": "text/x-python",
   "name": "python",
   "nbconvert_exporter": "python",
   "pygments_lexer": "ipython3",
   "version": "3.12.2"
  }
 },
 "nbformat": 4,
 "nbformat_minor": 5
}
