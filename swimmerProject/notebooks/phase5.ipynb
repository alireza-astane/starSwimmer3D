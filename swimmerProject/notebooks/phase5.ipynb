{
 "cells": [
  {
   "cell_type": "code",
   "execution_count": 2,
   "metadata": {},
   "outputs": [],
   "source": [
    "from Swimmer import *\n",
    "import numpy as np\n",
    "import matplotlib.pyplot as plt\n",
    "from numba import njit"
   ]
  },
  {
   "cell_type": "markdown",
   "metadata": {},
   "source": [
    "## Initialization"
   ]
  },
  {
   "cell_type": "code",
   "execution_count": 3,
   "metadata": {},
   "outputs": [],
   "source": [
    "T=1\n",
    "R=1\n",
    "a = 10*R\n",
    "epsilons = np.linspace(0.1,5,50)*R\n",
    "epsilon = 3\n",
    "\n",
    "steps = 1000\n",
    "nsteps = 1000\n",
    "dt = T/steps\n",
    "\n",
    "r0 = np.array([[0, 0, 0],\n",
    "[0, 0, a],\n",
    "[a*np.sqrt(8)/3, 0 , -a/3],\n",
    "[-a*np.sqrt(8)/6, a*np.sqrt(24)/6 , -a/3],\n",
    "[-a*np.sqrt(8)/6, -a*np.sqrt(24)/6, -a/3]])"
   ]
  },
  {
   "cell_type": "markdown",
   "metadata": {},
   "source": [
    "## P(t1,t2,t3,t4) = t2*t3*t4/(t1*t2*t3 + t1*t2*t4 + t1*t3*t4 + t2*t3*t4)"
   ]
  },
  {
   "cell_type": "code",
   "execution_count": 4,
   "metadata": {},
   "outputs": [
    {
     "ename": "NameError",
     "evalue": "name 'getAllPossibleActions' is not defined",
     "output_type": "error",
     "traceback": [
      "\u001b[0;31m---------------------------------------------------------------------------\u001b[0m",
      "\u001b[0;31mNameError\u001b[0m                                 Traceback (most recent call last)",
      "Cell \u001b[0;32mIn[4], line 1\u001b[0m\n\u001b[0;32m----> 1\u001b[0m allPossbileActions \u001b[38;5;241m=\u001b[39m \u001b[43mgetAllPossibleActions\u001b[49m(a,epsilon, steps)\n",
      "\u001b[0;31mNameError\u001b[0m: name 'getAllPossibleActions' is not defined"
     ]
    }
   ],
   "source": [
    "allPossbileActions = getAllPossibleActions(a,epsilon, steps)"
   ]
  },
  {
   "cell_type": "code",
   "execution_count": 15,
   "metadata": {},
   "outputs": [],
   "source": [
    "state = np.array([1,1,1,1])"
   ]
  },
  {
   "cell_type": "code",
   "execution_count": 16,
   "metadata": {},
   "outputs": [
    {
     "name": "stdout",
     "output_type": "stream",
     "text": [
      "0\n",
      "1\n",
      "2\n",
      "3\n",
      "4\n",
      "5\n",
      "6\n",
      "7\n",
      "8\n",
      "9\n",
      "10\n",
      "11\n",
      "12\n",
      "13\n",
      "14\n",
      "15\n",
      "16\n",
      "17\n",
      "18\n",
      "19\n",
      "20\n",
      "21\n",
      "22\n",
      "23\n",
      "24\n",
      "25\n",
      "26\n",
      "27\n",
      "28\n",
      "29\n",
      "30\n",
      "31\n",
      "32\n",
      "33\n",
      "34\n",
      "35\n",
      "36\n",
      "37\n",
      "38\n",
      "39\n",
      "40\n",
      "41\n",
      "42\n",
      "43\n",
      "44\n",
      "45\n",
      "46\n",
      "47\n",
      "48\n",
      "49\n",
      "50\n",
      "51\n",
      "52\n",
      "53\n",
      "54\n",
      "55\n",
      "56\n",
      "57\n",
      "58\n",
      "59\n",
      "60\n",
      "61\n",
      "62\n",
      "63\n"
     ]
    }
   ],
   "source": [
    "actionsData = np.zeros((64,4,3))\n",
    "\n",
    "for i in range(64):\n",
    "    print(i)\n",
    "    _,delta,Rotation = act(allPossbileActions[i])\n",
    "    actionsData[i,0,:] = delta\n",
    "    actionsData[i,1:4,:] = Rotation\n",
    "    \n",
    "np.save(\"actionDatasForE=3\",actionsData)"
   ]
  },
  {
   "cell_type": "code",
   "execution_count": null,
   "metadata": {},
   "outputs": [],
   "source": []
  },
  {
   "cell_type": "code",
   "execution_count": 17,
   "metadata": {},
   "outputs": [],
   "source": [
    "@njit\n",
    "def getAction(state,ratio):\n",
    "    #t=1 if state=0 and t = ratio if state = 1   ???\n",
    "    t1,t2,t3,t4 = np.where(state==0,1,ratio)\n",
    "    sum = t1*t2*t3 + t1*t2*t4 + t1*t3*t4 + t2*t3*t4\n",
    "    #probs = np.array([t2*t3*t4/sum,t1*t3*t4/sum,t1*t2*t4/sum,t2*t3*t1/sum])\n",
    "    randomNumber = np.random.uniform(0,1,1)\n",
    "    if randomNumber <= t4*t2*t3/sum:\n",
    "        changingJoint = 0\n",
    "    elif(randomNumber <= (t4*t3*t1+t4*t2*t3)/sum):  \n",
    "        changingJoint = 1\n",
    "    elif randomNumber <= (t4*t2*t1+t4*t2*t3+t4*t3*t1)/sum:\n",
    "        changingJoint = 2\n",
    "    else:\n",
    "        changingJoint = 3\n",
    "    return changingJoint,getDeltat2(t1,t2,t3,t4)\n",
    "\n",
    "\n",
    "@njit\n",
    "def doStep(Data,state,ratio):\n",
    "    action,deltat = getAction(state,ratio)\n",
    "    new_state = state.copy()\n",
    "    new_state[action] = 1 - new_state[action]\n",
    "    delta = Data[fromBinary(state)*4 + action][0,:]  #???\n",
    "    rotation = Data[fromBinary(state)*4 + action][1:,:]\n",
    "    return new_state,delta,rotation,deltat\n",
    "\n",
    "\n",
    "@njit\n",
    "def getDeltat(t1,t2,t3,t4,tc):\n",
    "    tav = 18.844\n",
    "    return ((1-1/(tav*t1))*(1-1/(tav*t2))*(1-1/(tav*t3))*(1-1/(tav*t4))*tav/tc)/(((1/t1 + 1/t2 + 1/t3 + 1/t4)**2)*(1-1/(tav*tc)))\n",
    "\n",
    "@njit\n",
    "def getDeltat2(t1,t2,t3,t4):\n",
    "    return 1/(1/t1 + 1/t2 + 1/t3 + 1/t4)\n",
    "\n",
    "\n",
    "@njit\n",
    "def getBinary(a):\n",
    "    return np.array([a//8,(a%8)//4,(a%4)//2,a%2])\n",
    "@njit \n",
    "def fromBinary(binary):\n",
    "    x = 0\n",
    "    for i in range(len(binary)):\n",
    "        x += binary[::-1][i]*(2**i)\n",
    "    return x\n",
    "\n",
    "@njit \n",
    "def fromBinary2d(binaries):\n",
    "    x = np.zeros(binaries.shape[0],dtype=np.int64)\n",
    "    for i in range(binaries.shape[0]):\n",
    "        x[i] = fromBinary(binaries[i])\n",
    "    return x\n",
    "\n",
    "\n",
    "\n",
    "def getAllPossibleActions(a,epsilon,steps):\n",
    "    \n",
    "    closing = a - np.arange(steps+1)*epsilon/steps\n",
    "    closed = (a-epsilon)*np.ones(steps+1)\n",
    "    opening = a - epsilon + np.arange(steps+1)*epsilon/steps\n",
    "    opened  = a *np.ones(steps+1)\n",
    "    \n",
    "    possibleActions = np.zeros((64,4,steps+1))\n",
    "    \n",
    "    \n",
    "    \n",
    "    for i in range(16):\n",
    "        for j in range(4):\n",
    "            actionBinaryState = getBinary(i)\n",
    "            # closed for 0 and opened for 1 \n",
    "            ca = np.array([closed,closed,closed,closed])*actionBinaryState.reshape(4,1) + np.array([opened,opened,opened,opened])*(1-actionBinaryState).reshape(4,1)\n",
    "            if actionBinaryState[j] == 0:\n",
    "                ca[j,:] = opening\n",
    "            else:\n",
    "                ca[j,:] = closing\n",
    "                \n",
    "            possibleActions[4*i+j] = ca \n",
    "        \n",
    "    return possibleActions\n",
    "\n",
    "\n",
    "\n",
    "@njit \n",
    "def mul(a,b):\n",
    "    return a @ b\n",
    "\n",
    "\n",
    "@njit\n",
    "def mul2(a,v):\n",
    "    ans = np.zeros(3,dtype=np.float64)\n",
    "    for i in range(3):\n",
    "        ans[i] = a[i,0]*v[0] + a[i,1]*v[1] +a[i,2]*v[2]\n",
    "    return ans\n",
    "\n",
    "\n",
    "@njit\n",
    "def perturbe(Data,perturbingSteps,ratio):\n",
    "    time = 0\n",
    "    pertrubingPose = np.array([0.,0.,0.])\n",
    "    perturbingRotation = np.eye(3)\n",
    "    state = np.ones(4,dtype=np.int64)\n",
    "    pertrubingPoses = np.zeros((perturbingSteps,3))\n",
    "    pertrubingTimes = np.zeros(perturbingSteps)\n",
    "        \n",
    "    for t in range(perturbingSteps):\n",
    "        newState,delta,rotation,deltat = doStep(Data,state,ratio)\n",
    "        state = newState\n",
    "        pertrubingPose += perturbingRotation @ delta\n",
    "        perturbingRotation = rotation @ perturbingRotation\n",
    "        pertrubingPoses[t] = pertrubingPose\n",
    "        time += deltat\n",
    "        pertrubingTimes[t] = time\n",
    "        \n",
    "    return pertrubingPoses,pertrubingTimes\n",
    "\n",
    "\n",
    "\n",
    "\n",
    "@njit\n",
    "def getPerturbingDiffusionCoefForRatio(Data,ratio,iterations=10_000,perturbingSteps=10_000):\n",
    "    iterations = 10_000\n",
    "    perturbingSteps = 10_000\n",
    "    meanFinalPoses = np.zeros((perturbingSteps))\n",
    "    meanFinalTimes = np.zeros(perturbingSteps)\n",
    "    for iteration in range(iterations):\n",
    "        pertrubingPoses,pertrubingTimes = perturbe(Data,perturbingSteps,ratio)\n",
    "        #print(np.sum(np.square(pertrubingPoses[:]),axis=1).shape,meanFinalPoses.shape)\n",
    "        meanFinalPoses +=   np.sum(np.square(pertrubingPoses[:]),axis=1)\n",
    "        meanFinalTimes += pertrubingTimes\n",
    "        #print(iteration)\n",
    "     \n",
    "    return meanFinalTimes/iterations,meanFinalPoses/iterations\n",
    "\n",
    "def getPerturbingDiffusionCoef(Data,ratios):\n",
    "    diffs =np.zeros(ratios.shape)\n",
    "    for i in range(ratios.shape[0]):\n",
    "        print(i)\n",
    "        meanFinalTimes,meanFinalPoses= getPerturbingDiffusionCoefForRatio(Data,ratios[i])\n",
    "        slope, intercept, r_value, p_value, std_err = scipy.stats.linregress(meanFinalPoses,meanFinalTimes)\n",
    "        diffs[i] =  slope \n",
    "    return diffs\n"
   ]
  },
  {
   "cell_type": "code",
   "execution_count": null,
   "metadata": {},
   "outputs": [],
   "source": []
  },
  {
   "cell_type": "code",
   "execution_count": 20,
   "metadata": {},
   "outputs": [
    {
     "data": {
      "text/plain": [
       "(array([[-2.62869533e-01, -4.55303387e-01, -1.85876829e-01],\n",
       "        [-2.64005474e-01, -4.57270894e-01,  3.71245186e-01],\n",
       "        [ 2.57985131e-01, -4.60122996e-01,  1.91416324e-01],\n",
       "        ...,\n",
       "        [-5.35865983e-01, -1.91867677e-02, -2.48636287e-01],\n",
       "        [-3.01820976e-04,  3.49704169e-02, -3.71338945e-01],\n",
       "        [ 2.03628862e-01,  4.78913571e-01, -1.14227347e-01]]),\n",
       " array([  0.25,   0.5 ,   0.75,   1.  ,   1.25,   1.5 ,   1.75,   2.  ,\n",
       "          2.25,   2.5 ,   2.75,   3.  ,   3.25,   3.5 ,   3.75,   4.  ,\n",
       "          4.25,   4.5 ,   4.75,   5.  ,   5.25,   5.5 ,   5.75,   6.  ,\n",
       "          6.25,   6.5 ,   6.75,   7.  ,   7.25,   7.5 ,   7.75,   8.  ,\n",
       "          8.25,   8.5 ,   8.75,   9.  ,   9.25,   9.5 ,   9.75,  10.  ,\n",
       "         10.25,  10.5 ,  10.75,  11.  ,  11.25,  11.5 ,  11.75,  12.  ,\n",
       "         12.25,  12.5 ,  12.75,  13.  ,  13.25,  13.5 ,  13.75,  14.  ,\n",
       "         14.25,  14.5 ,  14.75,  15.  ,  15.25,  15.5 ,  15.75,  16.  ,\n",
       "         16.25,  16.5 ,  16.75,  17.  ,  17.25,  17.5 ,  17.75,  18.  ,\n",
       "         18.25,  18.5 ,  18.75,  19.  ,  19.25,  19.5 ,  19.75,  20.  ,\n",
       "         20.25,  20.5 ,  20.75,  21.  ,  21.25,  21.5 ,  21.75,  22.  ,\n",
       "         22.25,  22.5 ,  22.75,  23.  ,  23.25,  23.5 ,  23.75,  24.  ,\n",
       "         24.25,  24.5 ,  24.75,  25.  ,  25.25,  25.5 ,  25.75,  26.  ,\n",
       "         26.25,  26.5 ,  26.75,  27.  ,  27.25,  27.5 ,  27.75,  28.  ,\n",
       "         28.25,  28.5 ,  28.75,  29.  ,  29.25,  29.5 ,  29.75,  30.  ,\n",
       "         30.25,  30.5 ,  30.75,  31.  ,  31.25,  31.5 ,  31.75,  32.  ,\n",
       "         32.25,  32.5 ,  32.75,  33.  ,  33.25,  33.5 ,  33.75,  34.  ,\n",
       "         34.25,  34.5 ,  34.75,  35.  ,  35.25,  35.5 ,  35.75,  36.  ,\n",
       "         36.25,  36.5 ,  36.75,  37.  ,  37.25,  37.5 ,  37.75,  38.  ,\n",
       "         38.25,  38.5 ,  38.75,  39.  ,  39.25,  39.5 ,  39.75,  40.  ,\n",
       "         40.25,  40.5 ,  40.75,  41.  ,  41.25,  41.5 ,  41.75,  42.  ,\n",
       "         42.25,  42.5 ,  42.75,  43.  ,  43.25,  43.5 ,  43.75,  44.  ,\n",
       "         44.25,  44.5 ,  44.75,  45.  ,  45.25,  45.5 ,  45.75,  46.  ,\n",
       "         46.25,  46.5 ,  46.75,  47.  ,  47.25,  47.5 ,  47.75,  48.  ,\n",
       "         48.25,  48.5 ,  48.75,  49.  ,  49.25,  49.5 ,  49.75,  50.  ,\n",
       "         50.25,  50.5 ,  50.75,  51.  ,  51.25,  51.5 ,  51.75,  52.  ,\n",
       "         52.25,  52.5 ,  52.75,  53.  ,  53.25,  53.5 ,  53.75,  54.  ,\n",
       "         54.25,  54.5 ,  54.75,  55.  ,  55.25,  55.5 ,  55.75,  56.  ,\n",
       "         56.25,  56.5 ,  56.75,  57.  ,  57.25,  57.5 ,  57.75,  58.  ,\n",
       "         58.25,  58.5 ,  58.75,  59.  ,  59.25,  59.5 ,  59.75,  60.  ,\n",
       "         60.25,  60.5 ,  60.75,  61.  ,  61.25,  61.5 ,  61.75,  62.  ,\n",
       "         62.25,  62.5 ,  62.75,  63.  ,  63.25,  63.5 ,  63.75,  64.  ,\n",
       "         64.25,  64.5 ,  64.75,  65.  ,  65.25,  65.5 ,  65.75,  66.  ,\n",
       "         66.25,  66.5 ,  66.75,  67.  ,  67.25,  67.5 ,  67.75,  68.  ,\n",
       "         68.25,  68.5 ,  68.75,  69.  ,  69.25,  69.5 ,  69.75,  70.  ,\n",
       "         70.25,  70.5 ,  70.75,  71.  ,  71.25,  71.5 ,  71.75,  72.  ,\n",
       "         72.25,  72.5 ,  72.75,  73.  ,  73.25,  73.5 ,  73.75,  74.  ,\n",
       "         74.25,  74.5 ,  74.75,  75.  ,  75.25,  75.5 ,  75.75,  76.  ,\n",
       "         76.25,  76.5 ,  76.75,  77.  ,  77.25,  77.5 ,  77.75,  78.  ,\n",
       "         78.25,  78.5 ,  78.75,  79.  ,  79.25,  79.5 ,  79.75,  80.  ,\n",
       "         80.25,  80.5 ,  80.75,  81.  ,  81.25,  81.5 ,  81.75,  82.  ,\n",
       "         82.25,  82.5 ,  82.75,  83.  ,  83.25,  83.5 ,  83.75,  84.  ,\n",
       "         84.25,  84.5 ,  84.75,  85.  ,  85.25,  85.5 ,  85.75,  86.  ,\n",
       "         86.25,  86.5 ,  86.75,  87.  ,  87.25,  87.5 ,  87.75,  88.  ,\n",
       "         88.25,  88.5 ,  88.75,  89.  ,  89.25,  89.5 ,  89.75,  90.  ,\n",
       "         90.25,  90.5 ,  90.75,  91.  ,  91.25,  91.5 ,  91.75,  92.  ,\n",
       "         92.25,  92.5 ,  92.75,  93.  ,  93.25,  93.5 ,  93.75,  94.  ,\n",
       "         94.25,  94.5 ,  94.75,  95.  ,  95.25,  95.5 ,  95.75,  96.  ,\n",
       "         96.25,  96.5 ,  96.75,  97.  ,  97.25,  97.5 ,  97.75,  98.  ,\n",
       "         98.25,  98.5 ,  98.75,  99.  ,  99.25,  99.5 ,  99.75, 100.  ,\n",
       "        100.25, 100.5 , 100.75, 101.  , 101.25, 101.5 , 101.75, 102.  ,\n",
       "        102.25, 102.5 , 102.75, 103.  , 103.25, 103.5 , 103.75, 104.  ,\n",
       "        104.25, 104.5 , 104.75, 105.  , 105.25, 105.5 , 105.75, 106.  ,\n",
       "        106.25, 106.5 , 106.75, 107.  , 107.25, 107.5 , 107.75, 108.  ,\n",
       "        108.25, 108.5 , 108.75, 109.  , 109.25, 109.5 , 109.75, 110.  ,\n",
       "        110.25, 110.5 , 110.75, 111.  , 111.25, 111.5 , 111.75, 112.  ,\n",
       "        112.25, 112.5 , 112.75, 113.  , 113.25, 113.5 , 113.75, 114.  ,\n",
       "        114.25, 114.5 , 114.75, 115.  , 115.25, 115.5 , 115.75, 116.  ,\n",
       "        116.25, 116.5 , 116.75, 117.  , 117.25, 117.5 , 117.75, 118.  ,\n",
       "        118.25, 118.5 , 118.75, 119.  , 119.25, 119.5 , 119.75, 120.  ,\n",
       "        120.25, 120.5 , 120.75, 121.  , 121.25, 121.5 , 121.75, 122.  ,\n",
       "        122.25, 122.5 , 122.75, 123.  , 123.25, 123.5 , 123.75, 124.  ,\n",
       "        124.25, 124.5 , 124.75, 125.  , 125.25, 125.5 , 125.75, 126.  ,\n",
       "        126.25, 126.5 , 126.75, 127.  , 127.25, 127.5 , 127.75, 128.  ,\n",
       "        128.25, 128.5 , 128.75, 129.  , 129.25, 129.5 , 129.75, 130.  ,\n",
       "        130.25, 130.5 , 130.75, 131.  , 131.25, 131.5 , 131.75, 132.  ,\n",
       "        132.25, 132.5 , 132.75, 133.  , 133.25, 133.5 , 133.75, 134.  ,\n",
       "        134.25, 134.5 , 134.75, 135.  , 135.25, 135.5 , 135.75, 136.  ,\n",
       "        136.25, 136.5 , 136.75, 137.  , 137.25, 137.5 , 137.75, 138.  ,\n",
       "        138.25, 138.5 , 138.75, 139.  , 139.25, 139.5 , 139.75, 140.  ,\n",
       "        140.25, 140.5 , 140.75, 141.  , 141.25, 141.5 , 141.75, 142.  ,\n",
       "        142.25, 142.5 , 142.75, 143.  , 143.25, 143.5 , 143.75, 144.  ,\n",
       "        144.25, 144.5 , 144.75, 145.  , 145.25, 145.5 , 145.75, 146.  ,\n",
       "        146.25, 146.5 , 146.75, 147.  , 147.25, 147.5 , 147.75, 148.  ,\n",
       "        148.25, 148.5 , 148.75, 149.  , 149.25, 149.5 , 149.75, 150.  ,\n",
       "        150.25, 150.5 , 150.75, 151.  , 151.25, 151.5 , 151.75, 152.  ,\n",
       "        152.25, 152.5 , 152.75, 153.  , 153.25, 153.5 , 153.75, 154.  ,\n",
       "        154.25, 154.5 , 154.75, 155.  , 155.25, 155.5 , 155.75, 156.  ,\n",
       "        156.25, 156.5 , 156.75, 157.  , 157.25, 157.5 , 157.75, 158.  ,\n",
       "        158.25, 158.5 , 158.75, 159.  , 159.25, 159.5 , 159.75, 160.  ,\n",
       "        160.25, 160.5 , 160.75, 161.  , 161.25, 161.5 , 161.75, 162.  ,\n",
       "        162.25, 162.5 , 162.75, 163.  , 163.25, 163.5 , 163.75, 164.  ,\n",
       "        164.25, 164.5 , 164.75, 165.  , 165.25, 165.5 , 165.75, 166.  ,\n",
       "        166.25, 166.5 , 166.75, 167.  , 167.25, 167.5 , 167.75, 168.  ,\n",
       "        168.25, 168.5 , 168.75, 169.  , 169.25, 169.5 , 169.75, 170.  ,\n",
       "        170.25, 170.5 , 170.75, 171.  , 171.25, 171.5 , 171.75, 172.  ,\n",
       "        172.25, 172.5 , 172.75, 173.  , 173.25, 173.5 , 173.75, 174.  ,\n",
       "        174.25, 174.5 , 174.75, 175.  , 175.25, 175.5 , 175.75, 176.  ,\n",
       "        176.25, 176.5 , 176.75, 177.  , 177.25, 177.5 , 177.75, 178.  ,\n",
       "        178.25, 178.5 , 178.75, 179.  , 179.25, 179.5 , 179.75, 180.  ,\n",
       "        180.25, 180.5 , 180.75, 181.  , 181.25, 181.5 , 181.75, 182.  ,\n",
       "        182.25, 182.5 , 182.75, 183.  , 183.25, 183.5 , 183.75, 184.  ,\n",
       "        184.25, 184.5 , 184.75, 185.  , 185.25, 185.5 , 185.75, 186.  ,\n",
       "        186.25, 186.5 , 186.75, 187.  , 187.25, 187.5 , 187.75, 188.  ,\n",
       "        188.25, 188.5 , 188.75, 189.  , 189.25, 189.5 , 189.75, 190.  ,\n",
       "        190.25, 190.5 , 190.75, 191.  , 191.25, 191.5 , 191.75, 192.  ,\n",
       "        192.25, 192.5 , 192.75, 193.  , 193.25, 193.5 , 193.75, 194.  ,\n",
       "        194.25, 194.5 , 194.75, 195.  , 195.25, 195.5 , 195.75, 196.  ,\n",
       "        196.25, 196.5 , 196.75, 197.  , 197.25, 197.5 , 197.75, 198.  ,\n",
       "        198.25, 198.5 , 198.75, 199.  , 199.25, 199.5 , 199.75, 200.  ,\n",
       "        200.25, 200.5 , 200.75, 201.  , 201.25, 201.5 , 201.75, 202.  ,\n",
       "        202.25, 202.5 , 202.75, 203.  , 203.25, 203.5 , 203.75, 204.  ,\n",
       "        204.25, 204.5 , 204.75, 205.  , 205.25, 205.5 , 205.75, 206.  ,\n",
       "        206.25, 206.5 , 206.75, 207.  , 207.25, 207.5 , 207.75, 208.  ,\n",
       "        208.25, 208.5 , 208.75, 209.  , 209.25, 209.5 , 209.75, 210.  ,\n",
       "        210.25, 210.5 , 210.75, 211.  , 211.25, 211.5 , 211.75, 212.  ,\n",
       "        212.25, 212.5 , 212.75, 213.  , 213.25, 213.5 , 213.75, 214.  ,\n",
       "        214.25, 214.5 , 214.75, 215.  , 215.25, 215.5 , 215.75, 216.  ,\n",
       "        216.25, 216.5 , 216.75, 217.  , 217.25, 217.5 , 217.75, 218.  ,\n",
       "        218.25, 218.5 , 218.75, 219.  , 219.25, 219.5 , 219.75, 220.  ,\n",
       "        220.25, 220.5 , 220.75, 221.  , 221.25, 221.5 , 221.75, 222.  ,\n",
       "        222.25, 222.5 , 222.75, 223.  , 223.25, 223.5 , 223.75, 224.  ,\n",
       "        224.25, 224.5 , 224.75, 225.  , 225.25, 225.5 , 225.75, 226.  ,\n",
       "        226.25, 226.5 , 226.75, 227.  , 227.25, 227.5 , 227.75, 228.  ,\n",
       "        228.25, 228.5 , 228.75, 229.  , 229.25, 229.5 , 229.75, 230.  ,\n",
       "        230.25, 230.5 , 230.75, 231.  , 231.25, 231.5 , 231.75, 232.  ,\n",
       "        232.25, 232.5 , 232.75, 233.  , 233.25, 233.5 , 233.75, 234.  ,\n",
       "        234.25, 234.5 , 234.75, 235.  , 235.25, 235.5 , 235.75, 236.  ,\n",
       "        236.25, 236.5 , 236.75, 237.  , 237.25, 237.5 , 237.75, 238.  ,\n",
       "        238.25, 238.5 , 238.75, 239.  , 239.25, 239.5 , 239.75, 240.  ,\n",
       "        240.25, 240.5 , 240.75, 241.  , 241.25, 241.5 , 241.75, 242.  ,\n",
       "        242.25, 242.5 , 242.75, 243.  , 243.25, 243.5 , 243.75, 244.  ,\n",
       "        244.25, 244.5 , 244.75, 245.  , 245.25, 245.5 , 245.75, 246.  ,\n",
       "        246.25, 246.5 , 246.75, 247.  , 247.25, 247.5 , 247.75, 248.  ,\n",
       "        248.25, 248.5 , 248.75, 249.  , 249.25, 249.5 , 249.75, 250.  ]))"
      ]
     },
     "execution_count": 20,
     "metadata": {},
     "output_type": "execute_result"
    }
   ],
   "source": [
    "perturbe(actionsData,1000,1)"
   ]
  },
  {
   "cell_type": "code",
   "execution_count": 24,
   "metadata": {},
   "outputs": [
    {
     "data": {
      "text/plain": [
       "(array([2.50000e-01, 5.00000e-01, 7.50000e-01, ..., 2.49950e+03,\n",
       "        2.49975e+03, 2.50000e+03]),\n",
       " array([0.31095176, 0.31208896, 0.31354931, ..., 0.67959994, 0.68417648,\n",
       "        0.68323087]))"
      ]
     },
     "execution_count": 24,
     "metadata": {},
     "output_type": "execute_result"
    }
   ],
   "source": [
    "getPerturbingDiffusionCoefForRatio(actionsData,1,1000,1000)"
   ]
  },
  {
   "cell_type": "code",
   "execution_count": 22,
   "metadata": {},
   "outputs": [
    {
     "data": {
      "text/plain": [
       "CPUDispatcher(<function getPerturbingDiffusionCoefForRatio at 0x7f19bfbb7600>)"
      ]
     },
     "execution_count": 22,
     "metadata": {},
     "output_type": "execute_result"
    }
   ],
   "source": [
    "getPerturbingDiffusionCoefForRatio"
   ]
  },
  {
   "cell_type": "code",
   "execution_count": 8,
   "metadata": {},
   "outputs": [],
   "source": [
    "ratios = np.exp(np.linspace(-5,5,100))"
   ]
  },
  {
   "cell_type": "code",
   "execution_count": 9,
   "metadata": {},
   "outputs": [
    {
     "name": "stdout",
     "output_type": "stream",
     "text": [
      "0\n",
      "1\n",
      "2\n",
      "3\n",
      "4\n",
      "5\n",
      "6\n",
      "7\n",
      "8\n",
      "9\n",
      "10\n",
      "11\n",
      "12\n"
     ]
    }
   ],
   "source": [
    "diffs = getPerturbingDiffusionCoef(actionsData,ratios)"
   ]
  },
  {
   "cell_type": "code",
   "execution_count": null,
   "metadata": {},
   "outputs": [],
   "source": [
    "plt.plot(np.log(ratios),diffs)"
   ]
  },
  {
   "cell_type": "code",
   "execution_count": null,
   "metadata": {},
   "outputs": [
    {
     "data": {
      "text/plain": [
       "4"
      ]
     },
     "execution_count": 11,
     "metadata": {},
     "output_type": "execute_result"
    }
   ],
   "source": [
    "2+2"
   ]
  },
  {
   "cell_type": "code",
   "execution_count": null,
   "metadata": {},
   "outputs": [],
   "source": []
  },
  {
   "cell_type": "code",
   "execution_count": null,
   "metadata": {},
   "outputs": [],
   "source": []
  },
  {
   "cell_type": "code",
   "execution_count": null,
   "metadata": {},
   "outputs": [],
   "source": []
  }
 ],
 "metadata": {
  "kernelspec": {
   "display_name": "base",
   "language": "python",
   "name": "python3"
  },
  "language_info": {
   "codemirror_mode": {
    "name": "ipython",
    "version": 3
   },
   "file_extension": ".py",
   "mimetype": "text/x-python",
   "name": "python",
   "nbconvert_exporter": "python",
   "pygments_lexer": "ipython3",
   "version": "3.11.3"
  }
 },
 "nbformat": 4,
 "nbformat_minor": 2
}
