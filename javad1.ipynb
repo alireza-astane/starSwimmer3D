{
 "cells": [
  {
   "cell_type": "code",
   "execution_count": 2,
   "outputs": [],
   "source": [
    "import matplotlib.pyplot as plt\n",
    "import numpy as np\n",
    "from numpy.linalg import norm\n",
    "from numpy import sqrt\n",
    "import scipy"
   ],
   "metadata": {
    "collapsed": false,
    "ExecuteTime": {
     "end_time": "2023-09-19T07:06:02.511428366Z",
     "start_time": "2023-09-19T07:06:01.929918900Z"
    }
   },
   "id": "f9e370df8d97333"
  },
  {
   "cell_type": "code",
   "execution_count": 3,
   "id": "initial_id",
   "metadata": {
    "collapsed": true,
    "ExecuteTime": {
     "end_time": "2023-09-19T07:06:02.520852976Z",
     "start_time": "2023-09-19T07:06:02.513151627Z"
    }
   },
   "outputs": [],
   "source": [
    "def New_OseenTensor(ri,rj):\n",
    "    R =1\n",
    "    rel=ri-rj\n",
    "    normR = norm(rel)\n",
    "\n",
    "    B=np.array([rel[0]*rel,\n",
    "      rel[1]*rel])\n",
    "    \n",
    "    C=np.array([[1 ,0],\n",
    "    [0 ,1]])\n",
    "    \n",
    "    return (((1/normR)**2)*B+C)*3/4*R/normR"
   ]
  },
  {
   "cell_type": "code",
   "execution_count": 4,
   "outputs": [],
   "source": [
    "a = 500;"
   ],
   "metadata": {
    "collapsed": false,
    "ExecuteTime": {
     "end_time": "2023-09-19T07:06:02.531442995Z",
     "start_time": "2023-09-19T07:06:02.516326973Z"
    }
   },
   "id": "2ea48765797082e0"
  },
  {
   "cell_type": "code",
   "execution_count": 6,
   "outputs": [],
   "source": [
    "def New_MainMoving(r1i,r2i,r3i,r4i,l1,l2,l3,stepnum):\n",
    "    II = np.eye(2)\n",
    "\n",
    "\n",
    "\n",
    "\n",
    "\n",
    "\n",
    "\n",
    "    r1=r1i.copy()\n",
    "    r2=r2i.copy()\n",
    "    r3=r3i.copy()\n",
    "    r4 =r4i.copy()\n",
    "\n",
    "\n",
    "    for i in range(stepnum):\n",
    "\n",
    "    \n",
    "\n",
    "\n",
    "        MM=np.array([[II, New_OseenTensor(r1,r2), New_OseenTensor(r1,r3), New_OseenTensor(r1,r4)],\n",
    "        [New_OseenTensor(r2,r1), II, New_OseenTensor(r2,r3), New_OseenTensor(r2,r4)],\n",
    "        [New_OseenTensor(r3,r1), New_OseenTensor(r3,r2), II, New_OseenTensor(r3,r4)],\n",
    "        [New_OseenTensor(r4,r1), New_OseenTensor(r4,r2), New_OseenTensor(r4,r3), II]])\n",
    "        \n",
    "        \n",
    "        \n",
    "        newO = np.zeros((8,8))\n",
    "        for i in range(4):\n",
    "            for j in range(4):\n",
    "                newO[2*i:2*i+2,2*j:2*j+2] = MM[i,j]\n",
    "        \n",
    "\n",
    "\n",
    "\n",
    "\n",
    "\n",
    "        RR=np.array([[1,0, 1, 0, 1, 0, 1, 0],\n",
    "        [0, 1, 0, 1, 0, 1, 0, 1],\n",
    "       [-r1[1], r1[0], -r2[1], r2[0], -r3[1], r3[0], -r4[1], r4[0]]])\n",
    "\n",
    "        \n",
    "        NN=np.matmul(RR,np.linalg.inv(newO))\n",
    "        \n",
    "        \n",
    "\n",
    "        \n",
    "        \n",
    "\n",
    "\n",
    "\n",
    "        OO=np.array([[r1[0]-r4[0], r1[1]-r4[1], 0, 0, 0, 0, r4[0]-r1[0], r4[1]-r1[1]],\n",
    "        [0, 0, r2[0]-r4[0], r2[1]-r4[1], 0, 0, r4[0]-r2[0], r4[1]-r2[1]],\n",
    "        [0, 0, 0, 0, r3[0]-r4[0], r3[1]-r4[1], r4[0]-r3[0], r4[1]-r3[1]],\n",
    "        [(r4[1]-r1[1])/(l1[i]**2), (r1[0]-r4[0])/(l1[i]**2), 0, 0, (r3[1]-r4[1])/(l3[i]**2), (r4[0]-r3[0])/(l3[i]**2), ((r4[1]-r3[1])/(l3[i]**2))+(r1[1]-r4[1])/(l1[i]**2), ((r3[0]-r4[0])/(l3[i]**2))+(r4[0]-r1[0])/(l1[i]**2)],\n",
    "        [(r4[1]-r1[1])/(l1[i]**2), (r1[0]-r4[0])/(l1[i]**2), (r2[1]-r4[1])/(l2[i]**2), (r4[0]-r2[0])/(l2[i]**2), 0, 0, ((r4[1]-r2[1])/(l2[i]**2))+(r1[1]-r4[1])/(l1[i]**2), ((r2[0]-r4[0])/(l2[i]**2))+(r4[0]-r1[0])/(l1[i]**2)]])\n",
    "\n",
    "\n",
    "        \n",
    "\n",
    " \n",
    "        AA = np.concatenate((OO,NN),axis=0)  \n",
    "\n",
    "\n",
    "\n",
    "\n",
    "        BB=np.array([l1[i]*(l1[i+1]-l1[i]),\n",
    "        l2[i]*(l2[i+1]-l2[i]),\n",
    "        l3[i]*(l3[i+1]-l3[i]),\n",
    "        0,\n",
    "        0,\n",
    "        0,\n",
    "        0,\n",
    "        0])\n",
    "\n",
    "\n",
    "\n",
    "        DIF=np.linalg.solve(AA,BB)\n",
    "        \n",
    "        #print(np.sum(np.abs(np.matmul(AA,np.linalg.inv(AA))-np.eye(8))))\n",
    "        \n",
    "        \n",
    "        #print(DIF)\n",
    "\n",
    "\n",
    "        r1 += DIF[0:2]\n",
    "        r2 += DIF[2:4]\n",
    "        r3 += DIF[4:6]\n",
    "        r4 += DIF[6:]\n",
    "        \n",
    "\n",
    "\n",
    "\n",
    "    r1f=r1\n",
    "    r2f=r2\n",
    "    r3f=r3\n",
    "    r4f=r4\n",
    "    DTETA=np.arctan((r4[1]-r1[1])/(r4[0]-r1[0]))\n",
    "    return r1f,r2f,r3f,r4f,(*list((r1f+r2f+r3f+r4f-r1i-r2i-r3i-r4i)/4), DTETA)"
   ],
   "metadata": {
    "collapsed": false,
    "ExecuteTime": {
     "end_time": "2023-09-19T07:09:02.824601237Z",
     "start_time": "2023-09-19T07:09:02.758654513Z"
    }
   },
   "id": "b4af75b01787bc9"
  },
  {
   "cell_type": "code",
   "execution_count": 227,
   "outputs": [
    {
     "ename": "KeyboardInterrupt",
     "evalue": "",
     "output_type": "error",
     "traceback": [
      "\u001B[0;31m---------------------------------------------------------------------------\u001B[0m",
      "\u001B[0;31mKeyboardInterrupt\u001B[0m                         Traceback (most recent call last)",
      "Cell \u001B[0;32mIn[227], line 27\u001B[0m\n\u001B[1;32m     24\u001B[0m DRCM\u001B[38;5;241m=\u001B[39mnp\u001B[38;5;241m.\u001B[39mzeros((\u001B[38;5;241m24\u001B[39m,\u001B[38;5;241m3\u001B[39m))\n\u001B[1;32m     26\u001B[0m r1i,r2i,r3i,r4i,dataaaa \u001B[38;5;241m=\u001B[39mNew_MainMoving(r1i,r2i,r3i,r4i,opening,closed,closed)\n\u001B[0;32m---> 27\u001B[0m r1i,r2i,r3i,r4i,dataaaa \u001B[38;5;241m=\u001B[39mNew_MainMoving(r1i,r2i,r3i,r4i,opened,opening,closed)\n\u001B[1;32m     28\u001B[0m r1i,r2i,r3i,r4i,dataaaa \u001B[38;5;241m=\u001B[39mNew_MainMoving(r1i,r2i,r3i,r4i,opened,opened,opening)\n\u001B[1;32m     29\u001B[0m r1i,r2i,r3i,r4i,dataaaa \u001B[38;5;241m=\u001B[39mNew_MainMoving(r1i,r2i,r3i,r4i,closing,opened,opened)\n",
      "Cell \u001B[0;32mIn[226], line 25\u001B[0m, in \u001B[0;36mNew_MainMoving\u001B[0;34m(r1i, r2i, r3i, r4i, l1, l2, l3)\u001B[0m\n\u001B[1;32m     17\u001B[0m r4 \u001B[38;5;241m=\u001B[39mr4i\u001B[38;5;241m.\u001B[39mcopy()\n\u001B[1;32m     20\u001B[0m \u001B[38;5;28;01mfor\u001B[39;00m i \u001B[38;5;129;01min\u001B[39;00m \u001B[38;5;28mrange\u001B[39m(stepnum):\n\u001B[0;32m---> 25\u001B[0m     MM\u001B[38;5;241m=\u001B[39mnp\u001B[38;5;241m.\u001B[39marray([[II, New_OseenTensor(r1,r2), New_OseenTensor(r1,r3), New_OseenTensor(r1,r4)],\n\u001B[1;32m     26\u001B[0m     [New_OseenTensor(r2,r1), II, New_OseenTensor(r2,r3), New_OseenTensor(r2,r4)],\n\u001B[1;32m     27\u001B[0m     [New_OseenTensor(r3,r1), New_OseenTensor(r3,r2), II, New_OseenTensor(r3,r4)],\n\u001B[1;32m     28\u001B[0m     [New_OseenTensor(r4,r1), New_OseenTensor(r4,r2), New_OseenTensor(r4,r3), II]])\n\u001B[1;32m     32\u001B[0m     newO \u001B[38;5;241m=\u001B[39m np\u001B[38;5;241m.\u001B[39mzeros((\u001B[38;5;241m8\u001B[39m,\u001B[38;5;241m8\u001B[39m))\n\u001B[1;32m     33\u001B[0m     \u001B[38;5;28;01mfor\u001B[39;00m i \u001B[38;5;129;01min\u001B[39;00m \u001B[38;5;28mrange\u001B[39m(\u001B[38;5;241m4\u001B[39m):\n",
      "Cell \u001B[0;32mIn[191], line 1\u001B[0m, in \u001B[0;36mNew_OseenTensor\u001B[0;34m(ri, rj)\u001B[0m\n\u001B[0;32m----> 1\u001B[0m \u001B[38;5;28;01mdef\u001B[39;00m \u001B[38;5;21mNew_OseenTensor\u001B[39m(ri,rj):\n\u001B[1;32m      2\u001B[0m     R \u001B[38;5;241m=\u001B[39m\u001B[38;5;241m1\u001B[39m\n\u001B[1;32m      3\u001B[0m     rel\u001B[38;5;241m=\u001B[39mri\u001B[38;5;241m-\u001B[39mrj\n",
      "\u001B[0;31mKeyboardInterrupt\u001B[0m: "
     ]
    }
   ],
   "source": [
    "T=1\n",
    "R=1\n",
    "D=10\n",
    "E=3\n",
    "W=E/T\n",
    "stepnum=10000\n",
    "\n",
    "time=np.linspace(0,T,stepnum)\n",
    "opening=D-E+W*time  #il\n",
    "closing=D-W*time  #dl\n",
    "closed=(D-E)*np.ones(stepnum) #cls\n",
    "opened=D*np.ones(stepnum)  #cll\n",
    "\n",
    "\n",
    "r1i = np.array([0 ,0],dtype=np.float64);\n",
    "r2i = np.array([D+D*(1/2) ,-D*(sqrt(3)/2)],dtype=np.float64)\n",
    "r3i = np.array([D+D*(1/2), D*(sqrt(3)/2)],dtype=np.float64)\n",
    "r4i = np.array([D ,0],dtype=np.float64)\n",
    "\n",
    "\n",
    "DT=np.zeros(24)\n",
    "DN=np.zeros(24)\n",
    "DTeta=np.zeros(24)\n",
    "DRCM=np.zeros((24,3))\n",
    "\n",
    "r1i,r2i,r3i,r4i,dataaaa =New_MainMoving(r1i,r2i,r3i,r4i,opening,closed,closed)\n",
    "r1i,r2i,r3i,r4i,dataaaa =New_MainMoving(r1i,r2i,r3i,r4i,opened,opening,closed)\n",
    "r1i,r2i,r3i,r4i,dataaaa =New_MainMoving(r1i,r2i,r3i,r4i,opened,opened,opening)\n",
    "r1i,r2i,r3i,r4i,dataaaa =New_MainMoving(r1i,r2i,r3i,r4i,closing,opened,opened)\n",
    "r1i,r2i,r3i,r4i,dataaaa =New_MainMoving(r1i,r2i,r3i,r4i,closed,closing,opened)\n",
    "r1i,r2i,r3i,r4i,dataaaa =New_MainMoving(r1i,r2i,r3i,r4i,closed,closed,closing)\n",
    "\n",
    "print(dataaaa)\n"
   ],
   "metadata": {
    "collapsed": false,
    "ExecuteTime": {
     "end_time": "2023-09-17T17:30:46.239518982Z",
     "start_time": "2023-09-17T17:30:41.401532470Z"
    }
   },
   "id": "70801771ba9b16d"
  },
  {
   "cell_type": "code",
   "execution_count": 246,
   "outputs": [
    {
     "data": {
      "text/plain": "10.0"
     },
     "execution_count": 246,
     "metadata": {},
     "output_type": "execute_result"
    }
   ],
   "source": [
    "np.linalg.norm(r3i-r4i)"
   ],
   "metadata": {
    "collapsed": false,
    "ExecuteTime": {
     "end_time": "2023-09-17T17:39:47.407629228Z",
     "start_time": "2023-09-17T17:39:47.361869100Z"
    }
   },
   "id": "cb7bb858e95252a2"
  },
  {
   "cell_type": "code",
   "execution_count": 218,
   "outputs": [],
   "source": [],
   "metadata": {
    "collapsed": false,
    "ExecuteTime": {
     "end_time": "2023-09-17T17:19:23.555417155Z",
     "start_time": "2023-09-17T17:19:23.513043792Z"
    }
   },
   "id": "89507c9578c27277"
  },
  {
   "cell_type": "code",
   "execution_count": 218,
   "outputs": [],
   "source": [],
   "metadata": {
    "collapsed": false,
    "ExecuteTime": {
     "end_time": "2023-09-17T17:19:23.773116263Z",
     "start_time": "2023-09-17T17:19:23.744804727Z"
    }
   },
   "id": "93af35f0854d5647"
  },
  {
   "cell_type": "code",
   "execution_count": 8,
   "outputs": [],
   "source": [
    "\n",
    "data = np.zeros((3,30))"
   ],
   "metadata": {
    "collapsed": false,
    "ExecuteTime": {
     "end_time": "2023-09-19T07:09:25.605638952Z",
     "start_time": "2023-09-19T07:09:25.586002829Z"
    }
   },
   "id": "8b7df4657dc3971"
  },
  {
   "cell_type": "code",
   "execution_count": 219,
   "outputs": [],
   "source": [],
   "metadata": {
    "collapsed": false,
    "ExecuteTime": {
     "end_time": "2023-09-17T17:19:24.418254994Z",
     "start_time": "2023-09-17T17:19:24.392441754Z"
    }
   },
   "id": "46e758e70606993e"
  },
  {
   "cell_type": "code",
   "execution_count": 37,
   "outputs": [
    {
     "name": "stdout",
     "output_type": "stream",
     "text": [
      "0\n",
      "1\n",
      "2\n",
      "3\n",
      "4\n",
      "5\n",
      "6\n",
      "7\n",
      "8\n",
      "9\n",
      "10\n",
      "11\n",
      "12\n",
      "13\n",
      "14\n",
      "15\n",
      "16\n",
      "17\n",
      "18\n",
      "19\n",
      "20\n",
      "21\n",
      "22\n",
      "23\n",
      "24\n",
      "25\n",
      "26\n",
      "27\n",
      "28\n",
      "29\n"
     ]
    }
   ],
   "source": [
    "data1 = np.zeros((3,30))\n",
    "\n",
    "R = 1\n",
    "epsilons = R*np.linspace(0.01,3,30)\n",
    "for i in range(30):\n",
    "    E = epsilons[i]\n",
    "    T=1\n",
    "    D=10.*R\n",
    "    W=E/T\n",
    "    stepnum=10000\n",
    "\n",
    "\n",
    "\n",
    "    r1i = np.array([0 ,0],dtype=np.float64);\n",
    "    r2i = np.array([D+D*(1/2) ,-D*(sqrt(3)/2)],dtype=np.float64)\n",
    "    r3i = np.array([D+D*(1/2), D*(sqrt(3)/2)],dtype=np.float64)\n",
    "    r4i = np.array([D ,0],dtype=np.float64)\n",
    "    \n",
    "    \n",
    "    time=np.linspace(0,T,stepnum)\n",
    "    opening=D-E+W*time  #il\n",
    "    closing=D-W*time  #dl\n",
    "    closed=(D-E)*np.ones(stepnum) #cls\n",
    "    opened=D*np.ones(stepnum)  #cll\n",
    "\n",
    "\n",
    "\n",
    "    DT=np.zeros(24)\n",
    "    DN=np.zeros(24)\n",
    "    DTeta=np.zeros(24)\n",
    "    DRCM=np.zeros((24,3))\n",
    "    \n",
    "    \n",
    "    r1i,r2i,r3i,r4i,dataaaa =New_MainMoving(r1i,r2i,r3i,r4i,closing,opened,opened,stepnum)\n",
    "\n",
    "\n",
    "    data[:,i] = dataaaa\n",
    "    \n",
    "    print(i)\n",
    "    \n",
    "    "
   ],
   "metadata": {
    "collapsed": false,
    "ExecuteTime": {
     "end_time": "2023-09-19T07:26:50.502687759Z",
     "start_time": "2023-09-19T07:25:36.318620294Z"
    }
   },
   "id": "7d52054609702a45"
  },
  {
   "cell_type": "code",
   "execution_count": 43,
   "outputs": [
    {
     "data": {
      "text/plain": "[<matplotlib.lines.Line2D at 0x7f4070b9b6d0>]"
     },
     "execution_count": 43,
     "metadata": {},
     "output_type": "execute_result"
    },
    {
     "data": {
      "text/plain": "<Figure size 640x480 with 1 Axes>",
      "image/png": "[encoded data removed]"
     },
     "metadata": {},
     "output_type": "display_data"
    }
   ],
   "source": [
    "plt.plot(epsilons/R,np.abs(data[1]/R))"
   ],
   "metadata": {
    "collapsed": false,
    "ExecuteTime": {
     "end_time": "2023-09-19T07:27:40.454395533Z",
     "start_time": "2023-09-19T07:27:40.327979935Z"
    }
   },
   "id": "ab61a757ebb812b3"
  },
  {
   "cell_type": "code",
   "execution_count": 41,
   "outputs": [
    {
     "name": "stdout",
     "output_type": "stream",
     "text": [
      "1.1451315491198553 0.9956227464273071\n"
     ]
    }
   ],
   "source": [
    "slope, intercept, r_value, p_value, std_err = scipy.stats.linregress(np.log(epsilons),np.log(np.abs(data[0])))\n",
    "print(slope,r_value)"
   ],
   "metadata": {
    "collapsed": false,
    "ExecuteTime": {
     "end_time": "2023-09-19T07:27:27.994509504Z",
     "start_time": "2023-09-19T07:27:27.983488140Z"
    }
   },
   "id": "ea549ef1cf9e4a21"
  },
  {
   "cell_type": "code",
   "execution_count": 42,
   "outputs": [],
   "source": [
    "m1 = np.array([[1,2],[3,4]])"
   ],
   "metadata": {
    "collapsed": false,
    "ExecuteTime": {
     "end_time": "2023-09-19T07:27:29.229303788Z",
     "start_time": "2023-09-19T07:27:29.195822693Z"
    }
   },
   "id": "dcf368caa4a7001c"
  },
  {
   "cell_type": "code",
   "execution_count": 36,
   "outputs": [
    {
     "data": {
      "text/plain": "5.477225575051661"
     },
     "execution_count": 36,
     "metadata": {},
     "output_type": "execute_result"
    }
   ],
   "source": [
    "np.linalg.norm(m1)"
   ],
   "metadata": {
    "collapsed": false,
    "ExecuteTime": {
     "end_time": "2023-09-19T07:25:26.266825566Z",
     "start_time": "2023-09-19T07:25:26.254005422Z"
    }
   },
   "id": "351ceda5d8f138b8"
  },
  {
   "cell_type": "code",
   "execution_count": null,
   "outputs": [],
   "source": [],
   "metadata": {
    "collapsed": false
   },
   "id": "50ac926bee9e26d4"
  },
  {
   "cell_type": "code",
   "execution_count": 44,
   "outputs": [
    {
     "name": "stdout",
     "output_type": "stream",
     "text": [
      "0\n",
      "1\n",
      "2\n",
      "3\n",
      "4\n",
      "5\n",
      "6\n",
      "7\n",
      "8\n",
      "9\n",
      "10\n",
      "11\n",
      "12\n",
      "13\n",
      "14\n",
      "15\n",
      "16\n",
      "17\n",
      "18\n",
      "19\n",
      "20\n",
      "21\n",
      "22\n",
      "23\n",
      "24\n",
      "25\n",
      "26\n",
      "27\n",
      "28\n",
      "29\n"
     ]
    }
   ],
   "source": [
    "data2 = np.zeros((3,30))\n",
    "for i in range(30):\n",
    "    E = epsilons[i]\n",
    "    T=1\n",
    "    R=1\n",
    "    D=10\n",
    "    W=E/T\n",
    "    stepnum=10000\n",
    "\n",
    "\n",
    "\n",
    "    r1i = np.array([0 ,0],dtype=np.float64)\n",
    "    r2i = np.array([D+D*(1/2) ,-D*(sqrt(3)/2)],dtype=np.float64)\n",
    "    r3i = np.array([D+D*(1/2), D*(sqrt(3)/2)],dtype=np.float64)\n",
    "    r4i = np.array([D ,0],dtype=np.float64)\n",
    "    \n",
    "    \n",
    "    \n",
    "    time=np.linspace(0,T,stepnum)\n",
    "    opening=D-E+W*time  #il\n",
    "    closing=D-W*time  #dl\n",
    "    closed=(D-E)*np.ones(stepnum) #cls\n",
    "    opened=D*np.ones(stepnum)  #cll\n",
    "\n",
    "\n",
    "\n",
    "    DT=np.zeros(24)\n",
    "    DN=np.zeros(24)\n",
    "    DTeta=np.zeros(24)\n",
    "    DRCM=np.zeros((24,3))\n",
    "    \n",
    "    r1i,r2i,r3i,r4i,_ =New_MainMoving(r1i,r2i,r3i,r4i,closing,opened,opened,stepnum)\n",
    "    r1i,r2i,r3i,r4i,_ =New_MainMoving(r1i,r2i,r3i,r4i,closed,closing,opened,stepnum)\n",
    "    r1i,r2i,r3i,r4i,_ =New_MainMoving(r1i,r2i,r3i,r4i,closed,closed,closing,stepnum)    \n",
    "    r1i,r2i,r3i,r4i,_ =New_MainMoving(r1i,r2i,r3i,r4i,opening,closed,closed,stepnum)\n",
    "    r1i,r2i,r3i,r4i,_ =New_MainMoving(r1i,r2i,r3i,r4i,opened,opening,closed,stepnum)\n",
    "    r1i,r2i,r3i,r4i,dataaaa =New_MainMoving(r1i,r2i,r3i,r4i,opened,opened,opening,stepnum)\n",
    "\n",
    "\n",
    "    data[:,i] = dataaaa\n",
    "    \n",
    "    print(i)\n",
    "    \n",
    "    \n",
    "    "
   ],
   "metadata": {
    "collapsed": false,
    "ExecuteTime": {
     "end_time": "2023-09-19T07:36:47.413414244Z",
     "start_time": "2023-09-19T07:29:44.296724654Z"
    }
   },
   "id": "b78f9e1ee4a157af"
  },
  {
   "cell_type": "code",
   "execution_count": 177,
   "outputs": [
    {
     "data": {
      "text/plain": "array([10.02283212,  0.01158862])"
     },
     "execution_count": 177,
     "metadata": {},
     "output_type": "execute_result"
    }
   ],
   "source": [
    "r4i"
   ],
   "metadata": {
    "collapsed": false,
    "ExecuteTime": {
     "end_time": "2023-09-17T13:42:59.753938418Z",
     "start_time": "2023-09-17T13:42:59.679636024Z"
    }
   },
   "id": "5ca6a86c4a4e8717"
  },
  {
   "cell_type": "code",
   "execution_count": 178,
   "outputs": [
    {
     "data": {
      "text/plain": "array([ 1.77606663, -0.08269195])"
     },
     "execution_count": 178,
     "metadata": {},
     "output_type": "execute_result"
    }
   ],
   "source": [
    "r1i"
   ],
   "metadata": {
    "collapsed": false,
    "ExecuteTime": {
     "end_time": "2023-09-17T13:43:12.045339851Z",
     "start_time": "2023-09-17T13:43:12.031019063Z"
    }
   },
   "id": "259106cf1d65924c"
  },
  {
   "cell_type": "code",
   "execution_count": 154,
   "outputs": [],
   "source": [],
   "metadata": {
    "collapsed": false,
    "ExecuteTime": {
     "end_time": "2023-09-17T13:28:26.722636517Z",
     "start_time": "2023-09-17T13:28:26.679832449Z"
    }
   },
   "id": "c714d09b9520e056"
  },
  {
   "cell_type": "code",
   "execution_count": 47,
   "outputs": [
    {
     "data": {
      "text/plain": "[<matplotlib.lines.Line2D at 0x7f4070af8ad0>]"
     },
     "execution_count": 47,
     "metadata": {},
     "output_type": "execute_result"
    },
    {
     "data": {
      "text/plain": "<Figure size 640x480 with 1 Axes>",
      "image/png": "[encoded data removed]"
     },
     "metadata": {},
     "output_type": "display_data"
    }
   ],
   "source": [
    "plt.plot(epsilons/R,data[0]/R)"
   ],
   "metadata": {
    "collapsed": false,
    "ExecuteTime": {
     "end_time": "2023-09-19T07:37:42.591030707Z",
     "start_time": "2023-09-19T07:37:42.403714212Z"
    }
   },
   "id": "af744e1232d47301"
  },
  {
   "cell_type": "code",
   "execution_count": null,
   "outputs": [],
   "source": [],
   "metadata": {
    "collapsed": false
   },
   "id": "f03c1e26856fcd38"
  },
  {
   "cell_type": "code",
   "execution_count": 50,
   "outputs": [
    {
     "data": {
      "text/plain": "[<matplotlib.lines.Line2D at 0x7f407084bf10>]"
     },
     "execution_count": 50,
     "metadata": {},
     "output_type": "execute_result"
    },
    {
     "data": {
      "text/plain": "<Figure size 640x480 with 1 Axes>",
      "image/png": "[encoded data removed]"
     },
     "metadata": {},
     "output_type": "display_data"
    }
   ],
   "source": [
    "plt.plot(np.log(epsilons),np.log(np.abs(data[0])))"
   ],
   "metadata": {
    "collapsed": false,
    "ExecuteTime": {
     "end_time": "2023-09-19T07:38:08.438140708Z",
     "start_time": "2023-09-19T07:38:07.995153673Z"
    }
   },
   "id": "5b9c91bec1f07e3d"
  },
  {
   "cell_type": "code",
   "execution_count": 55,
   "outputs": [
    {
     "name": "stdout",
     "output_type": "stream",
     "text": [
      "1.084936972578366\n"
     ]
    }
   ],
   "source": [
    "slope, intercept, r_value, p_value, std_err = scipy.stats.linregress(np.log(epsilons),np.log(np.abs(data[1])))\n",
    "print(slope)"
   ],
   "metadata": {
    "collapsed": false,
    "ExecuteTime": {
     "end_time": "2023-09-19T07:42:22.492690943Z",
     "start_time": "2023-09-19T07:42:22.450096757Z"
    }
   },
   "id": "7c2d16e6363c36e0"
  },
  {
   "cell_type": "code",
   "execution_count": null,
   "outputs": [],
   "source": [
    "DRCM(2,:)=New_MainMoving(cll,dl,cll);\n",
    "DRCM(3,:)=New_MainMoving(cll,cll,dl);\n",
    "DRCM(4,:)=New_MainMoving(il,cls,cls);\n",
    "DRCM(5,:)=New_MainMoving(cls,il,cls);\n",
    "DRCM(6,:)=New_MainMoving(cls,cls,il);\n",
    "DRCM(7,:)=New_MainMoving(il,cll,cll);\n",
    "DRCM(8,:)=New_MainMoving(cll,il,cll);\n",
    "DRCM(9,:)=New_MainMoving(cll,cll,il);\n",
    "DRCM(10,:)=New_MainMoving(cls,dl,cll);\n",
    "DRCM(11,:)=New_MainMoving(cll,cls,dl);\n",
    "DRCM(12,:)=New_MainMoving(dl,cll,cls);\n",
    "DRCM(13,:)=New_MainMoving(cls,cll,dl);\n",
    "DRCM(14,:)=New_MainMoving(dl,cls,cll);\n",
    "DRCM(15,:)=New_MainMoving(cll,dl,cls);\n",
    "DRCM(16,:)=New_MainMoving(dl,cls,cls);\n",
    "DRCM(17,:)=New_MainMoving(cls,dl,cls);\n",
    "DRCM(18,:)=New_MainMoving(cls,cls,dl);\n",
    "DRCM(19,:)=New_MainMoving(cll,il,cls);\n",
    "DRCM(20,:)=New_MainMoving(cls,cll,il);\n",
    "DRCM(21,:)=New_MainMoving(il,cls,cll);\n",
    "DRCM(22,:)=New_MainMoving(cll,cls,il);\n",
    "DRCM(23,:)=New_MainMoving(il,cll,cls);\n",
    "DRCM(24,:)=New_MainMoving(cls,il,cll);\n",
    "\n",
    "DT(1,:)=DRCM(:,1);\n",
    "DN(1,:)=DRCM(:,2);\n",
    "DTeta(1,:)=DRCM(:,3);\n",
    "\n",
    "save('resultmovestarDT.mat','DT')\n",
    "save('resultmovestarDN.mat','DN')\n",
    "save('resultmovestarDTeta.mat','DTeta')\n",
    "\n",
    "\n",
    "\n",
    "clear\n",
    "clc"
   ],
   "metadata": {
    "collapsed": false
   },
   "id": "2eb0afb51c9d4453"
  },
  {
   "cell_type": "code",
   "execution_count": null,
   "outputs": [],
   "source": [],
   "metadata": {
    "collapsed": false
   },
   "id": "9eb480383d0263fc"
  },
  {
   "cell_type": "code",
   "execution_count": null,
   "outputs": [],
   "source": [],
   "metadata": {
    "collapsed": false
   },
   "id": "d91973ad0cb78e79"
  },
  {
   "cell_type": "code",
   "execution_count": null,
   "outputs": [],
   "source": [],
   "metadata": {
    "collapsed": false
   },
   "id": "84c8c44809f18a66"
  }
 ],
 "metadata": {
  "kernelspec": {
   "display_name": "Python 3",
   "language": "python",
   "name": "python3"
  },
  "language_info": {
   "codemirror_mode": {
    "name": "ipython",
    "version": 2
   },
   "file_extension": ".py",
   "mimetype": "text/x-python",
   "name": "python",
   "nbconvert_exporter": "python",
   "pygments_lexer": "ipython2",
   "version": "2.7.6"
  }
 },
 "nbformat": 4,
 "nbformat_minor": 5
}
