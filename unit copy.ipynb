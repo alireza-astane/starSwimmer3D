{
 "cells": [
  {
   "cell_type": "code",
   "execution_count": 1,
   "id": "bd7f3d484bd76591",
   "metadata": {
    "ExecuteTime": {
     "end_time": "2023-09-10T04:56:23.841171405Z",
     "start_time": "2023-09-10T04:56:23.693394368Z"
    },
    "collapsed": false
   },
   "outputs": [],
   "source": [
    "import requests\n",
    "import json\n",
    "from time import sleep\n",
    "import datetime"
   ]
  },
  {
   "cell_type": "code",
   "execution_count": 8,
   "id": "6611216d097a5f19",
   "metadata": {
    "ExecuteTime": {
     "end_time": "2023-09-10T04:56:23.861311612Z",
     "start_time": "2023-09-10T04:56:23.762247475Z"
    },
    "collapsed": false
   },
   "outputs": [],
   "source": [
    "url = \"\thttps://translator-api.glosbe.com/translateByLangWithScore?sourceLang=en&targetLang=fa\"\n",
    " \n",
    "headers = {\"documentId\":\t\"EF0A5AA132D353A99D8A7CA9EA5C1D57\",\n",
    "\"documentLifecycle\":\t\"active\",\n",
    "\"frameType\":\t\"outermost_frame\",\n",
    "\"initiator\":\t\"https://glosbe.com\",\n",
    "\"method\":\t\"POST\",\n",
    "\"url\":\t\"\thttps://translator-api.glosbe.com/translateByLangWithScore?sourceLang=en&targetLang=fa\",\n",
    "\"Accept\":\t\"*/*\",\n",
    "\"Accept-Encoding\":\t\"gzip, deflate, br\",\n",
    "\"Accept-Language\":\t\"en-US,en;q=0.9,fa;q=0.8\",\n",
    "\"Content-Type\":\t\"text/plain;charset=UTF-8\",\n",
    "\"DNT\":\t\"1\",\n",
    "\"Origin\":\t\"https://glosbe.com\",\n",
    "\"Referer\":\t\"https://glosbe.com/\",\n",
    "\"sec-ch-ua\":\t'\"Chromium\";v=\"116\", \"Not)A;Brand\";v=\"24\", \"Google Chrome\";v=\"116\"',\n",
    "\"sec-ch-ua-mobile\":\t\"?0\",\n",
    "\"sec-ch-ua-platform\":\t'\"Linux\"',\n",
    "\"Sec-Fetch-Dest\":\t\"empty\",\n",
    "\"Sec-Fetch-Mode\":\t\"cors\",\n",
    "\"Sec-Fetch-Site\":\t\"same-site\",\n",
    "\"User-Agent\":\t\"Mozilla/5.0 (X11; Linux x86_64) AppleWebKit/537.36 (KHTML, like Gecko) Chrome/116.0.0.0 Safari/537.36\"\n",
    " \n",
    "}"
   ]
  },
  {
   "cell_type": "code",
   "execution_count": 11,
   "id": "6ac88637",
   "metadata": {},
   "outputs": [],
   "source": [
    "headers = {\n",
    "\"documentId\" :\t\"A7293DE9D5E19AF222BA040B14934297\",\n",
    "\"documentLifecycle\":\t\"active\",\n",
    "\"frameType\"\t:\"outermost_frame\",\n",
    "\"initiator\"\t:\"https://glosbe.com\",\n",
    "\"method\"\t:\"POST\",\n",
    "\"url\"\t:\"https://translator-api.glosbe.com/translateByLangWithScore?sourceLang=en&targetLang=fa\",\n",
    "\"Accept\":\t\"*/*\",\n",
    "\"Accept-Encoding\":\t\"gzip, deflate, br\",\n",
    "\"Accept-Language\":\t\"en-US,en;q=0.9,fa;q=0.8\",\n",
    "\"Content-Type\":\t\"text/plain;charset=UTF-8\",\n",
    "\"DNT\":\t\"1\",\n",
    "\"Origin\":\t\"https://glosbe.com\",\n",
    "\"Referer\":\t\"https://glosbe.com/\",\n",
    "\"sec-ch-ua\":\t'\"Chromium\";v=\"116\", \"Not)A;Brand\";v=\"24\", \"Google Chrome\";v=\"116\"',\n",
    "\"sec-ch-ua-mobile\":\t\"?0\",\n",
    "\"sec-ch-ua-platform\":\t'\"Linux\"',\n",
    "\"Sec-Fetch-Dest\":\t\"empty\",\n",
    "\"Sec-Fetch-Mode\":\t\"cors\",\n",
    "\"Sec-Fetch-Site\":\t\"same-site\",\n",
    "\"User-Agent\":\t\"Mozilla/5.0 (X11; Linux x86_64) AppleWebKit/537.36 (KHTML, like Gecko) Chrome/116.0.0.0 Safari/537.36\"}"
   ]
  },
  {
   "cell_type": "code",
   "execution_count": 12,
   "id": "51ea7ef1",
   "metadata": {},
   "outputs": [],
   "source": [
    "data= \"Hi there, and welcome to parenting. @ Let's all be good parents, somehow. @ Now parenting is a very powerful method in After Effects that will allow you to almost @ replicate animations from one layer to another. @ And it's like a follow along if you like. @ But also it will allow you to do very powerful animations very easily, and that's important. @ Let's dive in in parenting and start doing something awesome. @ First of all let's open a project, file and I will open project. @ In your assets, inside parenting you have the artwork, spaceships and then you can go @ to the After Effects project. @ You can open the start to follow along with me, I will open the final, you can have the @ final animations that we are going to do. @ First of all you notice something strange here, that there is a star here somehow and @ has a lot of black. @ And also this guy here, the hologram has some black. @ It seems there is something wrong. @ Actually what's wrong is that in Illustrator they applied a certain mode, and this mode @ is not imported into After Effects. @ And in After Effects you have to figure it out. @ Let's fix these guys. @ If you come to modes, so you enable the mode, this is the second icon over here, and you @ click, you will notice that you have several categories. @ I know we didn't go through the modes yet, but I can tell you because you have black, @ you have to use somewhere in this third category here. @ First category, second, third over here.\""
   ]
  },
  {
   "cell_type": "code",
   "execution_count": 11,
   "id": "53c967908bd2be5f",
   "metadata": {
    "ExecuteTime": {
     "end_time": "2023-09-10T04:57:03.905393690Z",
     "start_time": "2023-09-10T04:57:03.875890799Z"
    },
    "collapsed": false
   },
   "outputs": [],
   "source": [
    "fave = [(\"24948-1\",3),(\"31041-1\",3),(\"33018-4\",1),(\"24281-3\",3),(\"30004-6\",1),(\"30004-10\",1),(\"30004-20\",1),(\"30004-21\",1),(\"30004-22\",1),(\"37620-2\",2),(\"37620-6\",2)]\n",
    "# fave = [(\"24144-1\",3)]\n",
    "datas = []\n",
    "responses = []\n",
    "for fa in fave:\n",
    "    datas.append({\"action\":\"add\",\"course\":fa[0],\"units\":fa[1]})"
   ]
  },
  {
   "cell_type": "code",
   "execution_count": 26,
   "id": "d4e0c3d0",
   "metadata": {},
   "outputs": [],
   "source": [
    "r = requests.post(url, headers=headers, data=\"i am horny\")"
   ]
  },
  {
   "cell_type": "code",
   "execution_count": 27,
   "id": "3986a9f0",
   "metadata": {},
   "outputs": [
    {
     "data": {
      "text/plain": [
       "['من مشتاقم']"
      ]
     },
     "execution_count": 27,
     "metadata": {},
     "output_type": "execute_result"
    }
   ],
   "source": [
    "r.json().get(\"translation\").split(\"@\")"
   ]
  },
  {
   "cell_type": "code",
   "execution_count": null,
   "id": "aa18e5c4",
   "metadata": {},
   "outputs": [],
   "source": [
    "requests.post(url, headers=headers, json=data)"
   ]
  },
  {
   "cell_type": "code",
   "execution_count": 12,
   "id": "1f293979ffab0317",
   "metadata": {
    "ExecuteTime": {
     "end_time": "2023-09-10T04:57:04.625839767Z",
     "start_time": "2023-09-10T04:57:04.607696321Z"
    },
    "collapsed": false
   },
   "outputs": [],
   "source": [
    "def run():\n",
    "    for data in datas:\n",
    "        response = requests.post(url, headers=headers, json=data)\n",
    "        responses.append(response)\n",
    "        print(len(response.json().get(\"jobs\")))"
   ]
  },
  {
   "cell_type": "code",
   "execution_count": 13,
   "id": "30e958ae99a10ec4",
   "metadata": {
    "ExecuteTime": {
     "end_time": "2023-09-10T04:57:06.097860972Z",
     "start_time": "2023-09-10T04:57:06.085728480Z"
    },
    "collapsed": false
   },
   "outputs": [],
   "source": [
    "def WAIT():\n",
    "    while(True):\n",
    "        #sleep(0.01)\n",
    "        if(datetime.datetime.now()>deadline):\n",
    "            run()"
   ]
  },
  {
   "cell_type": "code",
   "execution_count": 14,
   "id": "4ab8f6e38ce2d5a",
   "metadata": {
    "ExecuteTime": {
     "end_time": "2023-09-10T04:27:47.334791296Z",
     "start_time": "2023-09-10T04:27:47.328405507Z"
    },
    "collapsed": false
   },
   "outputs": [],
   "source": [
    "deadline = datetime.datetime.now().replace(hour=9, minute=0, second=0, microsecond=0)"
   ]
  },
  {
   "cell_type": "code",
   "execution_count": null,
   "id": "7a3756d4",
   "metadata": {},
   "outputs": [
    {
     "name": "stdout",
     "output_type": "stream",
     "text": [
      "17\n",
      "18\n",
      "19\n",
      "20\n",
      "21\n",
      "22\n",
      "23\n",
      "24\n",
      "25\n",
      "26\n",
      "27\n"
     ]
    }
   ],
   "source": [
    "run()"
   ]
  },
  {
   "cell_type": "code",
   "execution_count": 17,
   "id": "784dfafa054f1e7b",
   "metadata": {
    "ExecuteTime": {
     "end_time": "2023-09-10T04:31:23.427062534Z",
     "start_time": "2023-09-10T04:27:48.802175005Z"
    },
    "collapsed": false
   },
   "outputs": [
    {
     "name": "stdout",
     "output_type": "stream",
     "text": [
      "30\n",
      "31\n",
      "32\n"
     ]
    },
    {
     "ename": "AttributeError",
     "evalue": "'str' object has no attribute 'get'",
     "output_type": "error",
     "traceback": [
      "\u001b[0;31m---------------------------------------------------------------------------\u001b[0m",
      "\u001b[0;31mAttributeError\u001b[0m                            Traceback (most recent call last)",
      "Cell \u001b[0;32mIn[17], line 1\u001b[0m\n\u001b[0;32m----> 1\u001b[0m \u001b[43mWAIT\u001b[49m\u001b[43m(\u001b[49m\u001b[43m)\u001b[49m\n\u001b[1;32m      2\u001b[0m run()\n",
      "Cell \u001b[0;32mIn[13], line 5\u001b[0m, in \u001b[0;36mWAIT\u001b[0;34m()\u001b[0m\n\u001b[1;32m      2\u001b[0m \u001b[38;5;28;01mwhile\u001b[39;00m(\u001b[38;5;28;01mTrue\u001b[39;00m):\n\u001b[1;32m      3\u001b[0m     \u001b[38;5;66;03m#sleep(0.01)\u001b[39;00m\n\u001b[1;32m      4\u001b[0m     \u001b[38;5;28;01mif\u001b[39;00m(datetime\u001b[38;5;241m.\u001b[39mdatetime\u001b[38;5;241m.\u001b[39mnow()\u001b[38;5;241m>\u001b[39mdeadline):\n\u001b[0;32m----> 5\u001b[0m         \u001b[43mrun\u001b[49m\u001b[43m(\u001b[49m\u001b[43m)\u001b[49m\n",
      "Cell \u001b[0;32mIn[12], line 5\u001b[0m, in \u001b[0;36mrun\u001b[0;34m()\u001b[0m\n\u001b[1;32m      3\u001b[0m response \u001b[38;5;241m=\u001b[39m requests\u001b[38;5;241m.\u001b[39mpost(url, headers\u001b[38;5;241m=\u001b[39mheaders, json\u001b[38;5;241m=\u001b[39mdata)\n\u001b[1;32m      4\u001b[0m responses\u001b[38;5;241m.\u001b[39mappend(response)\n\u001b[0;32m----> 5\u001b[0m \u001b[38;5;28mprint\u001b[39m(\u001b[38;5;28mlen\u001b[39m(\u001b[43mresponse\u001b[49m\u001b[38;5;241;43m.\u001b[39;49m\u001b[43mjson\u001b[49m\u001b[43m(\u001b[49m\u001b[43m)\u001b[49m\u001b[38;5;241;43m.\u001b[39;49m\u001b[43mget\u001b[49m(\u001b[38;5;124m\"\u001b[39m\u001b[38;5;124mjobs\u001b[39m\u001b[38;5;124m\"\u001b[39m)))\n",
      "\u001b[0;31mAttributeError\u001b[0m: 'str' object has no attribute 'get'"
     ]
    }
   ],
   "source": [
    "WAIT()\n",
    "run()"
   ]
  },
  {
   "cell_type": "code",
   "execution_count": null,
   "id": "ea1a5f96",
   "metadata": {},
   "outputs": [],
   "source": []
  }
 ],
 "metadata": {
  "kernelspec": {
   "display_name": "Python 3",
   "language": "python",
   "name": "python3"
  },
  "language_info": {
   "codemirror_mode": {
    "name": "ipython",
    "version": 3
   },
   "file_extension": ".py",
   "mimetype": "text/x-python",
   "name": "python",
   "nbconvert_exporter": "python",
   "pygments_lexer": "ipython3",
   "version": "3.11.3"
  }
 },
 "nbformat": 4,
 "nbformat_minor": 5
}
